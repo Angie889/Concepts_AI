{
  "nbformat": 4,
  "nbformat_minor": 0,
  "metadata": {
    "colab": {
      "provenance": []
    },
    "kernelspec": {
      "name": "python3",
      "display_name": "Python 3"
    },
    "language_info": {
      "name": "python"
    }
  },
  "cells": [
    {
      "cell_type": "markdown",
      "source": [
        "***Data Exploration and Understanding***"
      ],
      "metadata": {
        "id": "hOCLkviq3mgv"
      }
    },
    {
      "cell_type": "markdown",
      "source": [
        "**Dataset Overview**"
      ],
      "metadata": {
        "id": "KinT_AGW3u6l"
      }
    },
    {
      "cell_type": "code",
      "execution_count": null,
      "metadata": {
        "colab": {
          "base_uri": "https://localhost:8080/",
          "height": 414
        },
        "id": "3IegrXTDoE3G",
        "outputId": "cbb77862-6872-47de-bc38-2784a524562a"
      },
      "outputs": [
        {
          "output_type": "execute_result",
          "data": {
            "text/plain": [
              "  Country name  score  Log GDP per capita  Social support  \\\n",
              "0      Finland  7.741               1.844           1.572   \n",
              "1      Denmark  7.583               1.908           1.520   \n",
              "2      Iceland  7.525               1.881           1.617   \n",
              "3       Sweden  7.344               1.878           1.501   \n",
              "4       Israel  7.341               1.803           1.513   \n",
              "5  Netherlands  7.319               1.901           1.462   \n",
              "6       Norway  7.302               1.952           1.517   \n",
              "7   Luxembourg  7.122               2.141           1.355   \n",
              "8  Switzerland  7.060               1.970           1.425   \n",
              "9    Australia  7.057               1.854           1.461   \n",
              "\n",
              "   Healthy life expectancy  Freedom to make life choices  Generosity  \\\n",
              "0                    0.695                         0.859       0.142   \n",
              "1                    0.699                         0.823       0.204   \n",
              "2                    0.718                         0.819       0.258   \n",
              "3                    0.724                         0.838       0.221   \n",
              "4                    0.740                         0.641       0.153   \n",
              "5                    0.706                         0.725       0.247   \n",
              "6                    0.704                         0.835       0.224   \n",
              "7                    0.708                         0.801       0.146   \n",
              "8                    0.747                         0.759       0.173   \n",
              "9                    0.692                         0.756       0.225   \n",
              "\n",
              "   Perceptions of corruption  Dystopia + residual  \n",
              "0                      0.546                2.082  \n",
              "1                      0.548                1.881  \n",
              "2                      0.182                2.050  \n",
              "3                      0.524                1.658  \n",
              "4                      0.193                2.298  \n",
              "5                      0.372                1.906  \n",
              "6                      0.484                1.586  \n",
              "7                      0.432                1.540  \n",
              "8                      0.498                1.488  \n",
              "9                      0.323                1.745  "
            ],
            "text/html": [
              "\n",
              "  <div id=\"df-8d612af6-ba8a-435a-a46d-e66eb4aa41b6\" class=\"colab-df-container\">\n",
              "    <div>\n",
              "<style scoped>\n",
              "    .dataframe tbody tr th:only-of-type {\n",
              "        vertical-align: middle;\n",
              "    }\n",
              "\n",
              "    .dataframe tbody tr th {\n",
              "        vertical-align: top;\n",
              "    }\n",
              "\n",
              "    .dataframe thead th {\n",
              "        text-align: right;\n",
              "    }\n",
              "</style>\n",
              "<table border=\"1\" class=\"dataframe\">\n",
              "  <thead>\n",
              "    <tr style=\"text-align: right;\">\n",
              "      <th></th>\n",
              "      <th>Country name</th>\n",
              "      <th>score</th>\n",
              "      <th>Log GDP per capita</th>\n",
              "      <th>Social support</th>\n",
              "      <th>Healthy life expectancy</th>\n",
              "      <th>Freedom to make life choices</th>\n",
              "      <th>Generosity</th>\n",
              "      <th>Perceptions of corruption</th>\n",
              "      <th>Dystopia + residual</th>\n",
              "    </tr>\n",
              "  </thead>\n",
              "  <tbody>\n",
              "    <tr>\n",
              "      <th>0</th>\n",
              "      <td>Finland</td>\n",
              "      <td>7.741</td>\n",
              "      <td>1.844</td>\n",
              "      <td>1.572</td>\n",
              "      <td>0.695</td>\n",
              "      <td>0.859</td>\n",
              "      <td>0.142</td>\n",
              "      <td>0.546</td>\n",
              "      <td>2.082</td>\n",
              "    </tr>\n",
              "    <tr>\n",
              "      <th>1</th>\n",
              "      <td>Denmark</td>\n",
              "      <td>7.583</td>\n",
              "      <td>1.908</td>\n",
              "      <td>1.520</td>\n",
              "      <td>0.699</td>\n",
              "      <td>0.823</td>\n",
              "      <td>0.204</td>\n",
              "      <td>0.548</td>\n",
              "      <td>1.881</td>\n",
              "    </tr>\n",
              "    <tr>\n",
              "      <th>2</th>\n",
              "      <td>Iceland</td>\n",
              "      <td>7.525</td>\n",
              "      <td>1.881</td>\n",
              "      <td>1.617</td>\n",
              "      <td>0.718</td>\n",
              "      <td>0.819</td>\n",
              "      <td>0.258</td>\n",
              "      <td>0.182</td>\n",
              "      <td>2.050</td>\n",
              "    </tr>\n",
              "    <tr>\n",
              "      <th>3</th>\n",
              "      <td>Sweden</td>\n",
              "      <td>7.344</td>\n",
              "      <td>1.878</td>\n",
              "      <td>1.501</td>\n",
              "      <td>0.724</td>\n",
              "      <td>0.838</td>\n",
              "      <td>0.221</td>\n",
              "      <td>0.524</td>\n",
              "      <td>1.658</td>\n",
              "    </tr>\n",
              "    <tr>\n",
              "      <th>4</th>\n",
              "      <td>Israel</td>\n",
              "      <td>7.341</td>\n",
              "      <td>1.803</td>\n",
              "      <td>1.513</td>\n",
              "      <td>0.740</td>\n",
              "      <td>0.641</td>\n",
              "      <td>0.153</td>\n",
              "      <td>0.193</td>\n",
              "      <td>2.298</td>\n",
              "    </tr>\n",
              "    <tr>\n",
              "      <th>5</th>\n",
              "      <td>Netherlands</td>\n",
              "      <td>7.319</td>\n",
              "      <td>1.901</td>\n",
              "      <td>1.462</td>\n",
              "      <td>0.706</td>\n",
              "      <td>0.725</td>\n",
              "      <td>0.247</td>\n",
              "      <td>0.372</td>\n",
              "      <td>1.906</td>\n",
              "    </tr>\n",
              "    <tr>\n",
              "      <th>6</th>\n",
              "      <td>Norway</td>\n",
              "      <td>7.302</td>\n",
              "      <td>1.952</td>\n",
              "      <td>1.517</td>\n",
              "      <td>0.704</td>\n",
              "      <td>0.835</td>\n",
              "      <td>0.224</td>\n",
              "      <td>0.484</td>\n",
              "      <td>1.586</td>\n",
              "    </tr>\n",
              "    <tr>\n",
              "      <th>7</th>\n",
              "      <td>Luxembourg</td>\n",
              "      <td>7.122</td>\n",
              "      <td>2.141</td>\n",
              "      <td>1.355</td>\n",
              "      <td>0.708</td>\n",
              "      <td>0.801</td>\n",
              "      <td>0.146</td>\n",
              "      <td>0.432</td>\n",
              "      <td>1.540</td>\n",
              "    </tr>\n",
              "    <tr>\n",
              "      <th>8</th>\n",
              "      <td>Switzerland</td>\n",
              "      <td>7.060</td>\n",
              "      <td>1.970</td>\n",
              "      <td>1.425</td>\n",
              "      <td>0.747</td>\n",
              "      <td>0.759</td>\n",
              "      <td>0.173</td>\n",
              "      <td>0.498</td>\n",
              "      <td>1.488</td>\n",
              "    </tr>\n",
              "    <tr>\n",
              "      <th>9</th>\n",
              "      <td>Australia</td>\n",
              "      <td>7.057</td>\n",
              "      <td>1.854</td>\n",
              "      <td>1.461</td>\n",
              "      <td>0.692</td>\n",
              "      <td>0.756</td>\n",
              "      <td>0.225</td>\n",
              "      <td>0.323</td>\n",
              "      <td>1.745</td>\n",
              "    </tr>\n",
              "  </tbody>\n",
              "</table>\n",
              "</div>\n",
              "    <div class=\"colab-df-buttons\">\n",
              "\n",
              "  <div class=\"colab-df-container\">\n",
              "    <button class=\"colab-df-convert\" onclick=\"convertToInteractive('df-8d612af6-ba8a-435a-a46d-e66eb4aa41b6')\"\n",
              "            title=\"Convert this dataframe to an interactive table.\"\n",
              "            style=\"display:none;\">\n",
              "\n",
              "  <svg xmlns=\"http://www.w3.org/2000/svg\" height=\"24px\" viewBox=\"0 -960 960 960\">\n",
              "    <path d=\"M120-120v-720h720v720H120Zm60-500h600v-160H180v160Zm220 220h160v-160H400v160Zm0 220h160v-160H400v160ZM180-400h160v-160H180v160Zm440 0h160v-160H620v160ZM180-180h160v-160H180v160Zm440 0h160v-160H620v160Z\"/>\n",
              "  </svg>\n",
              "    </button>\n",
              "\n",
              "  <style>\n",
              "    .colab-df-container {\n",
              "      display:flex;\n",
              "      gap: 12px;\n",
              "    }\n",
              "\n",
              "    .colab-df-convert {\n",
              "      background-color: #E8F0FE;\n",
              "      border: none;\n",
              "      border-radius: 50%;\n",
              "      cursor: pointer;\n",
              "      display: none;\n",
              "      fill: #1967D2;\n",
              "      height: 32px;\n",
              "      padding: 0 0 0 0;\n",
              "      width: 32px;\n",
              "    }\n",
              "\n",
              "    .colab-df-convert:hover {\n",
              "      background-color: #E2EBFA;\n",
              "      box-shadow: 0px 1px 2px rgba(60, 64, 67, 0.3), 0px 1px 3px 1px rgba(60, 64, 67, 0.15);\n",
              "      fill: #174EA6;\n",
              "    }\n",
              "\n",
              "    .colab-df-buttons div {\n",
              "      margin-bottom: 4px;\n",
              "    }\n",
              "\n",
              "    [theme=dark] .colab-df-convert {\n",
              "      background-color: #3B4455;\n",
              "      fill: #D2E3FC;\n",
              "    }\n",
              "\n",
              "    [theme=dark] .colab-df-convert:hover {\n",
              "      background-color: #434B5C;\n",
              "      box-shadow: 0px 1px 3px 1px rgba(0, 0, 0, 0.15);\n",
              "      filter: drop-shadow(0px 1px 2px rgba(0, 0, 0, 0.3));\n",
              "      fill: #FFFFFF;\n",
              "    }\n",
              "  </style>\n",
              "\n",
              "    <script>\n",
              "      const buttonEl =\n",
              "        document.querySelector('#df-8d612af6-ba8a-435a-a46d-e66eb4aa41b6 button.colab-df-convert');\n",
              "      buttonEl.style.display =\n",
              "        google.colab.kernel.accessAllowed ? 'block' : 'none';\n",
              "\n",
              "      async function convertToInteractive(key) {\n",
              "        const element = document.querySelector('#df-8d612af6-ba8a-435a-a46d-e66eb4aa41b6');\n",
              "        const dataTable =\n",
              "          await google.colab.kernel.invokeFunction('convertToInteractive',\n",
              "                                                    [key], {});\n",
              "        if (!dataTable) return;\n",
              "\n",
              "        const docLinkHtml = 'Like what you see? Visit the ' +\n",
              "          '<a target=\"_blank\" href=https://colab.research.google.com/notebooks/data_table.ipynb>data table notebook</a>'\n",
              "          + ' to learn more about interactive tables.';\n",
              "        element.innerHTML = '';\n",
              "        dataTable['output_type'] = 'display_data';\n",
              "        await google.colab.output.renderOutput(dataTable, element);\n",
              "        const docLink = document.createElement('div');\n",
              "        docLink.innerHTML = docLinkHtml;\n",
              "        element.appendChild(docLink);\n",
              "      }\n",
              "    </script>\n",
              "  </div>\n",
              "\n",
              "\n",
              "<div id=\"df-06a775e5-abec-42ac-9cfb-dea269182a8a\">\n",
              "  <button class=\"colab-df-quickchart\" onclick=\"quickchart('df-06a775e5-abec-42ac-9cfb-dea269182a8a')\"\n",
              "            title=\"Suggest charts\"\n",
              "            style=\"display:none;\">\n",
              "\n",
              "<svg xmlns=\"http://www.w3.org/2000/svg\" height=\"24px\"viewBox=\"0 0 24 24\"\n",
              "     width=\"24px\">\n",
              "    <g>\n",
              "        <path d=\"M19 3H5c-1.1 0-2 .9-2 2v14c0 1.1.9 2 2 2h14c1.1 0 2-.9 2-2V5c0-1.1-.9-2-2-2zM9 17H7v-7h2v7zm4 0h-2V7h2v10zm4 0h-2v-4h2v4z\"/>\n",
              "    </g>\n",
              "</svg>\n",
              "  </button>\n",
              "\n",
              "<style>\n",
              "  .colab-df-quickchart {\n",
              "      --bg-color: #E8F0FE;\n",
              "      --fill-color: #1967D2;\n",
              "      --hover-bg-color: #E2EBFA;\n",
              "      --hover-fill-color: #174EA6;\n",
              "      --disabled-fill-color: #AAA;\n",
              "      --disabled-bg-color: #DDD;\n",
              "  }\n",
              "\n",
              "  [theme=dark] .colab-df-quickchart {\n",
              "      --bg-color: #3B4455;\n",
              "      --fill-color: #D2E3FC;\n",
              "      --hover-bg-color: #434B5C;\n",
              "      --hover-fill-color: #FFFFFF;\n",
              "      --disabled-bg-color: #3B4455;\n",
              "      --disabled-fill-color: #666;\n",
              "  }\n",
              "\n",
              "  .colab-df-quickchart {\n",
              "    background-color: var(--bg-color);\n",
              "    border: none;\n",
              "    border-radius: 50%;\n",
              "    cursor: pointer;\n",
              "    display: none;\n",
              "    fill: var(--fill-color);\n",
              "    height: 32px;\n",
              "    padding: 0;\n",
              "    width: 32px;\n",
              "  }\n",
              "\n",
              "  .colab-df-quickchart:hover {\n",
              "    background-color: var(--hover-bg-color);\n",
              "    box-shadow: 0 1px 2px rgba(60, 64, 67, 0.3), 0 1px 3px 1px rgba(60, 64, 67, 0.15);\n",
              "    fill: var(--button-hover-fill-color);\n",
              "  }\n",
              "\n",
              "  .colab-df-quickchart-complete:disabled,\n",
              "  .colab-df-quickchart-complete:disabled:hover {\n",
              "    background-color: var(--disabled-bg-color);\n",
              "    fill: var(--disabled-fill-color);\n",
              "    box-shadow: none;\n",
              "  }\n",
              "\n",
              "  .colab-df-spinner {\n",
              "    border: 2px solid var(--fill-color);\n",
              "    border-color: transparent;\n",
              "    border-bottom-color: var(--fill-color);\n",
              "    animation:\n",
              "      spin 1s steps(1) infinite;\n",
              "  }\n",
              "\n",
              "  @keyframes spin {\n",
              "    0% {\n",
              "      border-color: transparent;\n",
              "      border-bottom-color: var(--fill-color);\n",
              "      border-left-color: var(--fill-color);\n",
              "    }\n",
              "    20% {\n",
              "      border-color: transparent;\n",
              "      border-left-color: var(--fill-color);\n",
              "      border-top-color: var(--fill-color);\n",
              "    }\n",
              "    30% {\n",
              "      border-color: transparent;\n",
              "      border-left-color: var(--fill-color);\n",
              "      border-top-color: var(--fill-color);\n",
              "      border-right-color: var(--fill-color);\n",
              "    }\n",
              "    40% {\n",
              "      border-color: transparent;\n",
              "      border-right-color: var(--fill-color);\n",
              "      border-top-color: var(--fill-color);\n",
              "    }\n",
              "    60% {\n",
              "      border-color: transparent;\n",
              "      border-right-color: var(--fill-color);\n",
              "    }\n",
              "    80% {\n",
              "      border-color: transparent;\n",
              "      border-right-color: var(--fill-color);\n",
              "      border-bottom-color: var(--fill-color);\n",
              "    }\n",
              "    90% {\n",
              "      border-color: transparent;\n",
              "      border-bottom-color: var(--fill-color);\n",
              "    }\n",
              "  }\n",
              "</style>\n",
              "\n",
              "  <script>\n",
              "    async function quickchart(key) {\n",
              "      const quickchartButtonEl =\n",
              "        document.querySelector('#' + key + ' button');\n",
              "      quickchartButtonEl.disabled = true;  // To prevent multiple clicks.\n",
              "      quickchartButtonEl.classList.add('colab-df-spinner');\n",
              "      try {\n",
              "        const charts = await google.colab.kernel.invokeFunction(\n",
              "            'suggestCharts', [key], {});\n",
              "      } catch (error) {\n",
              "        console.error('Error during call to suggestCharts:', error);\n",
              "      }\n",
              "      quickchartButtonEl.classList.remove('colab-df-spinner');\n",
              "      quickchartButtonEl.classList.add('colab-df-quickchart-complete');\n",
              "    }\n",
              "    (() => {\n",
              "      let quickchartButtonEl =\n",
              "        document.querySelector('#df-06a775e5-abec-42ac-9cfb-dea269182a8a button');\n",
              "      quickchartButtonEl.style.display =\n",
              "        google.colab.kernel.accessAllowed ? 'block' : 'none';\n",
              "    })();\n",
              "  </script>\n",
              "</div>\n",
              "\n",
              "    </div>\n",
              "  </div>\n"
            ],
            "application/vnd.google.colaboratory.intrinsic+json": {
              "type": "dataframe",
              "variable_name": "df",
              "summary": "{\n  \"name\": \"df\",\n  \"rows\": 143,\n  \"fields\": [\n    {\n      \"column\": \"Country name\",\n      \"properties\": {\n        \"dtype\": \"string\",\n        \"num_unique_values\": 143,\n        \"samples\": [\n          \"Myanmar\",\n          \"United Kingdom\",\n          \"South Africa\"\n        ],\n        \"semantic_type\": \"\",\n        \"description\": \"\"\n      }\n    },\n    {\n      \"column\": \"score\",\n      \"properties\": {\n        \"dtype\": \"number\",\n        \"std\": 1.1707165099442995,\n        \"min\": 1.721,\n        \"max\": 7.741,\n        \"num_unique_values\": 140,\n        \"samples\": [\n          4.505,\n          5.823,\n          6.491\n        ],\n        \"semantic_type\": \"\",\n        \"description\": \"\"\n      }\n    },\n    {\n      \"column\": \"Log GDP per capita\",\n      \"properties\": {\n        \"dtype\": \"number\",\n        \"std\": 0.4250983279640385,\n        \"min\": 0.0,\n        \"max\": 2.141,\n        \"num_unique_values\": 134,\n        \"samples\": [\n          0.617,\n          1.385,\n          0.75\n        ],\n        \"semantic_type\": \"\",\n        \"description\": \"\"\n      }\n    },\n    {\n      \"column\": \"Social support\",\n      \"properties\": {\n        \"dtype\": \"number\",\n        \"std\": 0.3333171290682772,\n        \"min\": 0.0,\n        \"max\": 1.617,\n        \"num_unique_values\": 124,\n        \"samples\": [\n          1.454,\n          1.394,\n          1.328\n        ],\n        \"semantic_type\": \"\",\n        \"description\": \"\"\n      }\n    },\n    {\n      \"column\": \"Healthy life expectancy\",\n      \"properties\": {\n        \"dtype\": \"number\",\n        \"std\": 0.16492252751586103,\n        \"min\": 0.0,\n        \"max\": 0.857,\n        \"num_unique_values\": 119,\n        \"samples\": [\n          0.662,\n          0.293,\n          0.74\n        ],\n        \"semantic_type\": \"\",\n        \"description\": \"\"\n      }\n    },\n    {\n      \"column\": \"Freedom to make life choices\",\n      \"properties\": {\n        \"dtype\": \"number\",\n        \"std\": 0.1624918135340067,\n        \"min\": 0.0,\n        \"max\": 0.863,\n        \"num_unique_values\": 122,\n        \"samples\": [\n          0.533,\n          0.681,\n          0.529\n        ],\n        \"semantic_type\": \"\",\n        \"description\": \"\"\n      }\n    },\n    {\n      \"column\": \"Generosity\",\n      \"properties\": {\n        \"dtype\": \"number\",\n        \"std\": 0.07344129382188384,\n        \"min\": 0.0,\n        \"max\": 0.401,\n        \"num_unique_values\": 110,\n        \"samples\": [\n          0.141,\n          0.226,\n          0.153\n        ],\n        \"semantic_type\": \"\",\n        \"description\": \"\"\n      }\n    },\n    {\n      \"column\": \"Perceptions of corruption\",\n      \"properties\": {\n        \"dtype\": \"number\",\n        \"std\": 0.12623818231503292,\n        \"min\": 0.0,\n        \"max\": 0.575,\n        \"num_unique_values\": 112,\n        \"samples\": [\n          0.078,\n          0.118,\n          0.193\n        ],\n        \"semantic_type\": \"\",\n        \"description\": \"\"\n      }\n    },\n    {\n      \"column\": \"Dystopia + residual\",\n      \"properties\": {\n        \"dtype\": \"number\",\n        \"std\": 0.5374585074928712,\n        \"min\": -0.073,\n        \"max\": 2.998,\n        \"num_unique_values\": 134,\n        \"samples\": [\n          0.066,\n          1.795,\n          2.122\n        ],\n        \"semantic_type\": \"\",\n        \"description\": \"\"\n      }\n    }\n  ]\n}"
            }
          },
          "metadata": {},
          "execution_count": 7
        }
      ],
      "source": [
        "#1\n",
        "import pandas as pd\n",
        "df = pd.read_csv('/content/drive/MyDrive/Concepts and technology of AI/Assignment1/WHR-2024-5CS037.csv')\n",
        "df.head(10)"
      ]
    },
    {
      "cell_type": "code",
      "source": [
        "#2\n",
        "num_rows, num_col = df.shape\n",
        "print(f\"Number of rows:{num_rows} \\nNumber of columns: {num_col}\")\n",
        "#3\n",
        "df.dtypes"
      ],
      "metadata": {
        "id": "0LsJ4f5ioOmH",
        "colab": {
          "base_uri": "https://localhost:8080/",
          "height": 401
        },
        "outputId": "665d090e-4281-4f97-b65e-c3edbae16e81"
      },
      "execution_count": null,
      "outputs": [
        {
          "output_type": "stream",
          "name": "stdout",
          "text": [
            "Number of rows:143 \n",
            "Number of columns: 9\n"
          ]
        },
        {
          "output_type": "execute_result",
          "data": {
            "text/plain": [
              "Country name                     object\n",
              "score                           float64\n",
              "Log GDP per capita              float64\n",
              "Social support                  float64\n",
              "Healthy life expectancy         float64\n",
              "Freedom to make life choices    float64\n",
              "Generosity                      float64\n",
              "Perceptions of corruption       float64\n",
              "Dystopia + residual             float64\n",
              "dtype: object"
            ],
            "text/html": [
              "<div>\n",
              "<style scoped>\n",
              "    .dataframe tbody tr th:only-of-type {\n",
              "        vertical-align: middle;\n",
              "    }\n",
              "\n",
              "    .dataframe tbody tr th {\n",
              "        vertical-align: top;\n",
              "    }\n",
              "\n",
              "    .dataframe thead th {\n",
              "        text-align: right;\n",
              "    }\n",
              "</style>\n",
              "<table border=\"1\" class=\"dataframe\">\n",
              "  <thead>\n",
              "    <tr style=\"text-align: right;\">\n",
              "      <th></th>\n",
              "      <th>0</th>\n",
              "    </tr>\n",
              "  </thead>\n",
              "  <tbody>\n",
              "    <tr>\n",
              "      <th>Country name</th>\n",
              "      <td>object</td>\n",
              "    </tr>\n",
              "    <tr>\n",
              "      <th>score</th>\n",
              "      <td>float64</td>\n",
              "    </tr>\n",
              "    <tr>\n",
              "      <th>Log GDP per capita</th>\n",
              "      <td>float64</td>\n",
              "    </tr>\n",
              "    <tr>\n",
              "      <th>Social support</th>\n",
              "      <td>float64</td>\n",
              "    </tr>\n",
              "    <tr>\n",
              "      <th>Healthy life expectancy</th>\n",
              "      <td>float64</td>\n",
              "    </tr>\n",
              "    <tr>\n",
              "      <th>Freedom to make life choices</th>\n",
              "      <td>float64</td>\n",
              "    </tr>\n",
              "    <tr>\n",
              "      <th>Generosity</th>\n",
              "      <td>float64</td>\n",
              "    </tr>\n",
              "    <tr>\n",
              "      <th>Perceptions of corruption</th>\n",
              "      <td>float64</td>\n",
              "    </tr>\n",
              "    <tr>\n",
              "      <th>Dystopia + residual</th>\n",
              "      <td>float64</td>\n",
              "    </tr>\n",
              "  </tbody>\n",
              "</table>\n",
              "</div><br><label><b>dtype:</b> object</label>"
            ]
          },
          "metadata": {},
          "execution_count": 2
        }
      ]
    },
    {
      "cell_type": "markdown",
      "source": [
        "**Basic Statistics**"
      ],
      "metadata": {
        "id": "aV4tFiWW3a8o"
      }
    },
    {
      "cell_type": "code",
      "source": [
        "#1\n",
        "meanScore = df['score'].mean()\n",
        "medianScore = df['score'].median()\n",
        "stdScore = df['score'].std()\n",
        "print(f\"Mean Score: {meanScore} \\nMedian Score: {medianScore} \\nStandard Deviation: {stdScore}\")"
      ],
      "metadata": {
        "id": "TinSx83koSSx",
        "colab": {
          "base_uri": "https://localhost:8080/"
        },
        "outputId": "a5a234bb-fed0-4ec7-d80a-8abdd327c829"
      },
      "execution_count": null,
      "outputs": [
        {
          "output_type": "stream",
          "name": "stdout",
          "text": [
            "Mean Score: 5.52758041958042 \n",
            "Median Score: 5.785 \n",
            "Standard Deviation: 1.1707165099442995\n"
          ]
        }
      ]
    },
    {
      "cell_type": "code",
      "source": [
        "#2\n",
        "highest = df['score'].max()\n",
        "lowest = df['score'].min()\n",
        "print(f\"Highest Score: {highest} \\nLowest Score: {lowest}\")\n"
      ],
      "metadata": {
        "colab": {
          "base_uri": "https://localhost:8080/"
        },
        "id": "-cfxyy3krx6v",
        "outputId": "9d1c7732-3362-4d84-b9c6-e36578043d11"
      },
      "execution_count": null,
      "outputs": [
        {
          "output_type": "stream",
          "name": "stdout",
          "text": [
            "Highest Score: 7.741 \n",
            "Lowest Score: 1.721\n"
          ]
        }
      ]
    },
    {
      "cell_type": "markdown",
      "source": [
        "**Missing Values**"
      ],
      "metadata": {
        "id": "ywCl8HRg3Kzg"
      }
    },
    {
      "cell_type": "code",
      "source": [
        "#1\n",
        "print(\"\\nMissing values in each column:\")\n",
        "print(df.isnull().sum())"
      ],
      "metadata": {
        "colab": {
          "base_uri": "https://localhost:8080/"
        },
        "id": "5drAb7V5sRS4",
        "outputId": "a72d829f-02db-4489-c9d8-83004a77187d"
      },
      "execution_count": null,
      "outputs": [
        {
          "output_type": "stream",
          "name": "stdout",
          "text": [
            "\n",
            "Missing values in each column:\n",
            "Country name                    0\n",
            "score                           0\n",
            "Log GDP per capita              3\n",
            "Social support                  3\n",
            "Healthy life expectancy         3\n",
            "Freedom to make life choices    3\n",
            "Generosity                      3\n",
            "Perceptions of corruption       3\n",
            "Dystopia + residual             3\n",
            "dtype: int64\n"
          ]
        }
      ]
    },
    {
      "cell_type": "markdown",
      "source": [
        "**Filtering and sorting**"
      ],
      "metadata": {
        "id": "lZNv5CVQ3BlR"
      }
    },
    {
      "cell_type": "code",
      "source": [
        "#1\n",
        "filtered_data = df['score']>7.5\n",
        "print(\"Countries with Score greater than 7.5 is\", filtered_data.sum())"
      ],
      "metadata": {
        "colab": {
          "base_uri": "https://localhost:8080/"
        },
        "id": "qs6htyDFuFZl",
        "outputId": "4639bb79-68b4-446b-9f2d-4a43937f1412"
      },
      "execution_count": null,
      "outputs": [
        {
          "output_type": "stream",
          "name": "stdout",
          "text": [
            "Countries with Score greater than 7.5 is 3\n"
          ]
        }
      ]
    },
    {
      "cell_type": "code",
      "source": [
        "#2\n",
        "sorted = df[filtered_data].sort_values('Log GDP per capita', ascending = False)\n",
        "sorted.head(10)"
      ],
      "metadata": {
        "colab": {
          "base_uri": "https://localhost:8080/",
          "height": 215
        },
        "id": "lQwc6JVpulob",
        "outputId": "d34e0b0f-19f9-4d5a-92bd-6a0a8a3d03b3"
      },
      "execution_count": null,
      "outputs": [
        {
          "output_type": "execute_result",
          "data": {
            "text/plain": [
              "  Country name  score  Log GDP per capita  Social support  \\\n",
              "1      Denmark  7.583               1.908           1.520   \n",
              "2      Iceland  7.525               1.881           1.617   \n",
              "0      Finland  7.741               1.844           1.572   \n",
              "\n",
              "   Healthy life expectancy  Freedom to make life choices  Generosity  \\\n",
              "1                    0.699                         0.823       0.204   \n",
              "2                    0.718                         0.819       0.258   \n",
              "0                    0.695                         0.859       0.142   \n",
              "\n",
              "   Perceptions of corruption  Dystopia + residual  \n",
              "1                      0.548                1.881  \n",
              "2                      0.182                2.050  \n",
              "0                      0.546                2.082  "
            ],
            "text/html": [
              "\n",
              "  <div id=\"df-7ffe056d-89ed-43fc-8e73-a05d461455d8\" class=\"colab-df-container\">\n",
              "    <div>\n",
              "<style scoped>\n",
              "    .dataframe tbody tr th:only-of-type {\n",
              "        vertical-align: middle;\n",
              "    }\n",
              "\n",
              "    .dataframe tbody tr th {\n",
              "        vertical-align: top;\n",
              "    }\n",
              "\n",
              "    .dataframe thead th {\n",
              "        text-align: right;\n",
              "    }\n",
              "</style>\n",
              "<table border=\"1\" class=\"dataframe\">\n",
              "  <thead>\n",
              "    <tr style=\"text-align: right;\">\n",
              "      <th></th>\n",
              "      <th>Country name</th>\n",
              "      <th>score</th>\n",
              "      <th>Log GDP per capita</th>\n",
              "      <th>Social support</th>\n",
              "      <th>Healthy life expectancy</th>\n",
              "      <th>Freedom to make life choices</th>\n",
              "      <th>Generosity</th>\n",
              "      <th>Perceptions of corruption</th>\n",
              "      <th>Dystopia + residual</th>\n",
              "    </tr>\n",
              "  </thead>\n",
              "  <tbody>\n",
              "    <tr>\n",
              "      <th>1</th>\n",
              "      <td>Denmark</td>\n",
              "      <td>7.583</td>\n",
              "      <td>1.908</td>\n",
              "      <td>1.520</td>\n",
              "      <td>0.699</td>\n",
              "      <td>0.823</td>\n",
              "      <td>0.204</td>\n",
              "      <td>0.548</td>\n",
              "      <td>1.881</td>\n",
              "    </tr>\n",
              "    <tr>\n",
              "      <th>2</th>\n",
              "      <td>Iceland</td>\n",
              "      <td>7.525</td>\n",
              "      <td>1.881</td>\n",
              "      <td>1.617</td>\n",
              "      <td>0.718</td>\n",
              "      <td>0.819</td>\n",
              "      <td>0.258</td>\n",
              "      <td>0.182</td>\n",
              "      <td>2.050</td>\n",
              "    </tr>\n",
              "    <tr>\n",
              "      <th>0</th>\n",
              "      <td>Finland</td>\n",
              "      <td>7.741</td>\n",
              "      <td>1.844</td>\n",
              "      <td>1.572</td>\n",
              "      <td>0.695</td>\n",
              "      <td>0.859</td>\n",
              "      <td>0.142</td>\n",
              "      <td>0.546</td>\n",
              "      <td>2.082</td>\n",
              "    </tr>\n",
              "  </tbody>\n",
              "</table>\n",
              "</div>\n",
              "    <div class=\"colab-df-buttons\">\n",
              "\n",
              "  <div class=\"colab-df-container\">\n",
              "    <button class=\"colab-df-convert\" onclick=\"convertToInteractive('df-7ffe056d-89ed-43fc-8e73-a05d461455d8')\"\n",
              "            title=\"Convert this dataframe to an interactive table.\"\n",
              "            style=\"display:none;\">\n",
              "\n",
              "  <svg xmlns=\"http://www.w3.org/2000/svg\" height=\"24px\" viewBox=\"0 -960 960 960\">\n",
              "    <path d=\"M120-120v-720h720v720H120Zm60-500h600v-160H180v160Zm220 220h160v-160H400v160Zm0 220h160v-160H400v160ZM180-400h160v-160H180v160Zm440 0h160v-160H620v160ZM180-180h160v-160H180v160Zm440 0h160v-160H620v160Z\"/>\n",
              "  </svg>\n",
              "    </button>\n",
              "\n",
              "  <style>\n",
              "    .colab-df-container {\n",
              "      display:flex;\n",
              "      gap: 12px;\n",
              "    }\n",
              "\n",
              "    .colab-df-convert {\n",
              "      background-color: #E8F0FE;\n",
              "      border: none;\n",
              "      border-radius: 50%;\n",
              "      cursor: pointer;\n",
              "      display: none;\n",
              "      fill: #1967D2;\n",
              "      height: 32px;\n",
              "      padding: 0 0 0 0;\n",
              "      width: 32px;\n",
              "    }\n",
              "\n",
              "    .colab-df-convert:hover {\n",
              "      background-color: #E2EBFA;\n",
              "      box-shadow: 0px 1px 2px rgba(60, 64, 67, 0.3), 0px 1px 3px 1px rgba(60, 64, 67, 0.15);\n",
              "      fill: #174EA6;\n",
              "    }\n",
              "\n",
              "    .colab-df-buttons div {\n",
              "      margin-bottom: 4px;\n",
              "    }\n",
              "\n",
              "    [theme=dark] .colab-df-convert {\n",
              "      background-color: #3B4455;\n",
              "      fill: #D2E3FC;\n",
              "    }\n",
              "\n",
              "    [theme=dark] .colab-df-convert:hover {\n",
              "      background-color: #434B5C;\n",
              "      box-shadow: 0px 1px 3px 1px rgba(0, 0, 0, 0.15);\n",
              "      filter: drop-shadow(0px 1px 2px rgba(0, 0, 0, 0.3));\n",
              "      fill: #FFFFFF;\n",
              "    }\n",
              "  </style>\n",
              "\n",
              "    <script>\n",
              "      const buttonEl =\n",
              "        document.querySelector('#df-7ffe056d-89ed-43fc-8e73-a05d461455d8 button.colab-df-convert');\n",
              "      buttonEl.style.display =\n",
              "        google.colab.kernel.accessAllowed ? 'block' : 'none';\n",
              "\n",
              "      async function convertToInteractive(key) {\n",
              "        const element = document.querySelector('#df-7ffe056d-89ed-43fc-8e73-a05d461455d8');\n",
              "        const dataTable =\n",
              "          await google.colab.kernel.invokeFunction('convertToInteractive',\n",
              "                                                    [key], {});\n",
              "        if (!dataTable) return;\n",
              "\n",
              "        const docLinkHtml = 'Like what you see? Visit the ' +\n",
              "          '<a target=\"_blank\" href=https://colab.research.google.com/notebooks/data_table.ipynb>data table notebook</a>'\n",
              "          + ' to learn more about interactive tables.';\n",
              "        element.innerHTML = '';\n",
              "        dataTable['output_type'] = 'display_data';\n",
              "        await google.colab.output.renderOutput(dataTable, element);\n",
              "        const docLink = document.createElement('div');\n",
              "        docLink.innerHTML = docLinkHtml;\n",
              "        element.appendChild(docLink);\n",
              "      }\n",
              "    </script>\n",
              "  </div>\n",
              "\n",
              "\n",
              "<div id=\"df-4e9b6faf-0341-4dfa-9185-5dcbe4da3fc7\">\n",
              "  <button class=\"colab-df-quickchart\" onclick=\"quickchart('df-4e9b6faf-0341-4dfa-9185-5dcbe4da3fc7')\"\n",
              "            title=\"Suggest charts\"\n",
              "            style=\"display:none;\">\n",
              "\n",
              "<svg xmlns=\"http://www.w3.org/2000/svg\" height=\"24px\"viewBox=\"0 0 24 24\"\n",
              "     width=\"24px\">\n",
              "    <g>\n",
              "        <path d=\"M19 3H5c-1.1 0-2 .9-2 2v14c0 1.1.9 2 2 2h14c1.1 0 2-.9 2-2V5c0-1.1-.9-2-2-2zM9 17H7v-7h2v7zm4 0h-2V7h2v10zm4 0h-2v-4h2v4z\"/>\n",
              "    </g>\n",
              "</svg>\n",
              "  </button>\n",
              "\n",
              "<style>\n",
              "  .colab-df-quickchart {\n",
              "      --bg-color: #E8F0FE;\n",
              "      --fill-color: #1967D2;\n",
              "      --hover-bg-color: #E2EBFA;\n",
              "      --hover-fill-color: #174EA6;\n",
              "      --disabled-fill-color: #AAA;\n",
              "      --disabled-bg-color: #DDD;\n",
              "  }\n",
              "\n",
              "  [theme=dark] .colab-df-quickchart {\n",
              "      --bg-color: #3B4455;\n",
              "      --fill-color: #D2E3FC;\n",
              "      --hover-bg-color: #434B5C;\n",
              "      --hover-fill-color: #FFFFFF;\n",
              "      --disabled-bg-color: #3B4455;\n",
              "      --disabled-fill-color: #666;\n",
              "  }\n",
              "\n",
              "  .colab-df-quickchart {\n",
              "    background-color: var(--bg-color);\n",
              "    border: none;\n",
              "    border-radius: 50%;\n",
              "    cursor: pointer;\n",
              "    display: none;\n",
              "    fill: var(--fill-color);\n",
              "    height: 32px;\n",
              "    padding: 0;\n",
              "    width: 32px;\n",
              "  }\n",
              "\n",
              "  .colab-df-quickchart:hover {\n",
              "    background-color: var(--hover-bg-color);\n",
              "    box-shadow: 0 1px 2px rgba(60, 64, 67, 0.3), 0 1px 3px 1px rgba(60, 64, 67, 0.15);\n",
              "    fill: var(--button-hover-fill-color);\n",
              "  }\n",
              "\n",
              "  .colab-df-quickchart-complete:disabled,\n",
              "  .colab-df-quickchart-complete:disabled:hover {\n",
              "    background-color: var(--disabled-bg-color);\n",
              "    fill: var(--disabled-fill-color);\n",
              "    box-shadow: none;\n",
              "  }\n",
              "\n",
              "  .colab-df-spinner {\n",
              "    border: 2px solid var(--fill-color);\n",
              "    border-color: transparent;\n",
              "    border-bottom-color: var(--fill-color);\n",
              "    animation:\n",
              "      spin 1s steps(1) infinite;\n",
              "  }\n",
              "\n",
              "  @keyframes spin {\n",
              "    0% {\n",
              "      border-color: transparent;\n",
              "      border-bottom-color: var(--fill-color);\n",
              "      border-left-color: var(--fill-color);\n",
              "    }\n",
              "    20% {\n",
              "      border-color: transparent;\n",
              "      border-left-color: var(--fill-color);\n",
              "      border-top-color: var(--fill-color);\n",
              "    }\n",
              "    30% {\n",
              "      border-color: transparent;\n",
              "      border-left-color: var(--fill-color);\n",
              "      border-top-color: var(--fill-color);\n",
              "      border-right-color: var(--fill-color);\n",
              "    }\n",
              "    40% {\n",
              "      border-color: transparent;\n",
              "      border-right-color: var(--fill-color);\n",
              "      border-top-color: var(--fill-color);\n",
              "    }\n",
              "    60% {\n",
              "      border-color: transparent;\n",
              "      border-right-color: var(--fill-color);\n",
              "    }\n",
              "    80% {\n",
              "      border-color: transparent;\n",
              "      border-right-color: var(--fill-color);\n",
              "      border-bottom-color: var(--fill-color);\n",
              "    }\n",
              "    90% {\n",
              "      border-color: transparent;\n",
              "      border-bottom-color: var(--fill-color);\n",
              "    }\n",
              "  }\n",
              "</style>\n",
              "\n",
              "  <script>\n",
              "    async function quickchart(key) {\n",
              "      const quickchartButtonEl =\n",
              "        document.querySelector('#' + key + ' button');\n",
              "      quickchartButtonEl.disabled = true;  // To prevent multiple clicks.\n",
              "      quickchartButtonEl.classList.add('colab-df-spinner');\n",
              "      try {\n",
              "        const charts = await google.colab.kernel.invokeFunction(\n",
              "            'suggestCharts', [key], {});\n",
              "      } catch (error) {\n",
              "        console.error('Error during call to suggestCharts:', error);\n",
              "      }\n",
              "      quickchartButtonEl.classList.remove('colab-df-spinner');\n",
              "      quickchartButtonEl.classList.add('colab-df-quickchart-complete');\n",
              "    }\n",
              "    (() => {\n",
              "      let quickchartButtonEl =\n",
              "        document.querySelector('#df-4e9b6faf-0341-4dfa-9185-5dcbe4da3fc7 button');\n",
              "      quickchartButtonEl.style.display =\n",
              "        google.colab.kernel.accessAllowed ? 'block' : 'none';\n",
              "    })();\n",
              "  </script>\n",
              "</div>\n",
              "\n",
              "    </div>\n",
              "  </div>\n"
            ],
            "application/vnd.google.colaboratory.intrinsic+json": {
              "type": "dataframe",
              "variable_name": "sorted",
              "summary": "{\n  \"name\": \"sorted\",\n  \"rows\": 3,\n  \"fields\": [\n    {\n      \"column\": \"Country name\",\n      \"properties\": {\n        \"dtype\": \"string\",\n        \"num_unique_values\": 3,\n        \"samples\": [\n          \"Denmark\",\n          \"Iceland\",\n          \"Finland\"\n        ],\n        \"semantic_type\": \"\",\n        \"description\": \"\"\n      }\n    },\n    {\n      \"column\": \"score\",\n      \"properties\": {\n        \"dtype\": \"number\",\n        \"std\": 0.11179147254300416,\n        \"min\": 7.525,\n        \"max\": 7.741,\n        \"num_unique_values\": 3,\n        \"samples\": [\n          7.583,\n          7.525,\n          7.741\n        ],\n        \"semantic_type\": \"\",\n        \"description\": \"\"\n      }\n    },\n    {\n      \"column\": \"Log GDP per capita\",\n      \"properties\": {\n        \"dtype\": \"number\",\n        \"std\": 0.03212994449626902,\n        \"min\": 1.844,\n        \"max\": 1.908,\n        \"num_unique_values\": 3,\n        \"samples\": [\n          1.908,\n          1.881,\n          1.844\n        ],\n        \"semantic_type\": \"\",\n        \"description\": \"\"\n      }\n    },\n    {\n      \"column\": \"Social support\",\n      \"properties\": {\n        \"dtype\": \"number\",\n        \"std\": 0.048542077966783954,\n        \"min\": 1.52,\n        \"max\": 1.617,\n        \"num_unique_values\": 3,\n        \"samples\": [\n          1.52,\n          1.617,\n          1.572\n        ],\n        \"semantic_type\": \"\",\n        \"description\": \"\"\n      }\n    },\n    {\n      \"column\": \"Healthy life expectancy\",\n      \"properties\": {\n        \"dtype\": \"number\",\n        \"std\": 0.012288205727444518,\n        \"min\": 0.695,\n        \"max\": 0.718,\n        \"num_unique_values\": 3,\n        \"samples\": [\n          0.699,\n          0.718,\n          0.695\n        ],\n        \"semantic_type\": \"\",\n        \"description\": \"\"\n      }\n    },\n    {\n      \"column\": \"Freedom to make life choices\",\n      \"properties\": {\n        \"dtype\": \"number\",\n        \"std\": 0.022030282189144428,\n        \"min\": 0.819,\n        \"max\": 0.859,\n        \"num_unique_values\": 3,\n        \"samples\": [\n          0.823,\n          0.819,\n          0.859\n        ],\n        \"semantic_type\": \"\",\n        \"description\": \"\"\n      }\n    },\n    {\n      \"column\": \"Generosity\",\n      \"properties\": {\n        \"dtype\": \"number\",\n        \"std\": 0.05804595880277398,\n        \"min\": 0.142,\n        \"max\": 0.258,\n        \"num_unique_values\": 3,\n        \"samples\": [\n          0.204,\n          0.258,\n          0.142\n        ],\n        \"semantic_type\": \"\",\n        \"description\": \"\"\n      }\n    },\n    {\n      \"column\": \"Perceptions of corruption\",\n      \"properties\": {\n        \"dtype\": \"number\",\n        \"std\": 0.21073522091319558,\n        \"min\": 0.182,\n        \"max\": 0.548,\n        \"num_unique_values\": 3,\n        \"samples\": [\n          0.548,\n          0.182,\n          0.546\n        ],\n        \"semantic_type\": \"\",\n        \"description\": \"\"\n      }\n    },\n    {\n      \"column\": \"Dystopia + residual\",\n      \"properties\": {\n        \"dtype\": \"number\",\n        \"std\": 0.10800154319885116,\n        \"min\": 1.881,\n        \"max\": 2.082,\n        \"num_unique_values\": 3,\n        \"samples\": [\n          1.881,\n          2.05,\n          2.082\n        ],\n        \"semantic_type\": \"\",\n        \"description\": \"\"\n      }\n    }\n  ]\n}"
            }
          },
          "metadata": {},
          "execution_count": 7
        }
      ]
    },
    {
      "cell_type": "code",
      "source": [
        "print(df.head(10))"
      ],
      "metadata": {
        "colab": {
          "base_uri": "https://localhost:8080/"
        },
        "id": "eI7pQE-_vX6w",
        "outputId": "eafa24ea-55c9-43c5-fbd9-1a335e6aef16"
      },
      "execution_count": null,
      "outputs": [
        {
          "output_type": "stream",
          "name": "stdout",
          "text": [
            "  Country name  score  Log GDP per capita  Social support  \\\n",
            "0      Finland  7.741               1.844           1.572   \n",
            "1      Denmark  7.583               1.908           1.520   \n",
            "2      Iceland  7.525               1.881           1.617   \n",
            "3       Sweden  7.344               1.878           1.501   \n",
            "4       Israel  7.341               1.803           1.513   \n",
            "5  Netherlands  7.319               1.901           1.462   \n",
            "6       Norway  7.302               1.952           1.517   \n",
            "7   Luxembourg  7.122               2.141           1.355   \n",
            "8  Switzerland  7.060               1.970           1.425   \n",
            "9    Australia  7.057               1.854           1.461   \n",
            "\n",
            "   Healthy life expectancy  Freedom to make life choices  Generosity  \\\n",
            "0                    0.695                         0.859       0.142   \n",
            "1                    0.699                         0.823       0.204   \n",
            "2                    0.718                         0.819       0.258   \n",
            "3                    0.724                         0.838       0.221   \n",
            "4                    0.740                         0.641       0.153   \n",
            "5                    0.706                         0.725       0.247   \n",
            "6                    0.704                         0.835       0.224   \n",
            "7                    0.708                         0.801       0.146   \n",
            "8                    0.747                         0.759       0.173   \n",
            "9                    0.692                         0.756       0.225   \n",
            "\n",
            "   Perceptions of corruption  Dystopia + residual  \n",
            "0                      0.546                2.082  \n",
            "1                      0.548                1.881  \n",
            "2                      0.182                2.050  \n",
            "3                      0.524                1.658  \n",
            "4                      0.193                2.298  \n",
            "5                      0.372                1.906  \n",
            "6                      0.484                1.586  \n",
            "7                      0.432                1.540  \n",
            "8                      0.498                1.488  \n",
            "9                      0.323                1.745  \n"
          ]
        }
      ]
    },
    {
      "cell_type": "markdown",
      "source": [
        "**Adding New Column**"
      ],
      "metadata": {
        "id": "4Wp2d7O-25zN"
      }
    },
    {
      "cell_type": "code",
      "source": [
        "#1\n",
        "import numpy as np\n",
        "conditions = [ df['score'] < 4,\n",
        "              (df['score']>=4) & (df['score']<=6),\n",
        "               df['score']>6]\n",
        "\n",
        "category = ['Low', 'Medium', 'High']\n",
        "\n",
        "df['Happiness Category'] = np.select(conditions, category)\n",
        "print(df.head(10))"
      ],
      "metadata": {
        "colab": {
          "base_uri": "https://localhost:8080/"
        },
        "id": "wcttuKU8yBr0",
        "outputId": "915e7643-76fb-45d2-801e-e6821fbccb8b"
      },
      "execution_count": null,
      "outputs": [
        {
          "output_type": "stream",
          "name": "stdout",
          "text": [
            "  Country name  score  Log GDP per capita  Social support  \\\n",
            "0      Finland  7.741               1.844           1.572   \n",
            "1      Denmark  7.583               1.908           1.520   \n",
            "2      Iceland  7.525               1.881           1.617   \n",
            "3       Sweden  7.344               1.878           1.501   \n",
            "4       Israel  7.341               1.803           1.513   \n",
            "5  Netherlands  7.319               1.901           1.462   \n",
            "6       Norway  7.302               1.952           1.517   \n",
            "7   Luxembourg  7.122               2.141           1.355   \n",
            "8  Switzerland  7.060               1.970           1.425   \n",
            "9    Australia  7.057               1.854           1.461   \n",
            "\n",
            "   Healthy life expectancy  Freedom to make life choices  Generosity  \\\n",
            "0                    0.695                         0.859       0.142   \n",
            "1                    0.699                         0.823       0.204   \n",
            "2                    0.718                         0.819       0.258   \n",
            "3                    0.724                         0.838       0.221   \n",
            "4                    0.740                         0.641       0.153   \n",
            "5                    0.706                         0.725       0.247   \n",
            "6                    0.704                         0.835       0.224   \n",
            "7                    0.708                         0.801       0.146   \n",
            "8                    0.747                         0.759       0.173   \n",
            "9                    0.692                         0.756       0.225   \n",
            "\n",
            "   Perceptions of corruption  Dystopia + residual Happiness Category  \n",
            "0                      0.546                2.082               High  \n",
            "1                      0.548                1.881               High  \n",
            "2                      0.182                2.050               High  \n",
            "3                      0.524                1.658               High  \n",
            "4                      0.193                2.298               High  \n",
            "5                      0.372                1.906               High  \n",
            "6                      0.484                1.586               High  \n",
            "7                      0.432                1.540               High  \n",
            "8                      0.498                1.488               High  \n",
            "9                      0.323                1.745               High  \n"
          ]
        }
      ]
    },
    {
      "cell_type": "markdown",
      "source": [
        "Histogram"
      ],
      "metadata": {
        "id": "1feq9M5B2nYI"
      }
    },
    {
      "cell_type": "code",
      "source": [
        "#Histogram\n",
        "\n",
        "import matplotlib.pyplot as plt\n",
        "\n",
        "df['score'].plot(kind='hist', bins=12, edgecolor='black', title='score')\n",
        "plt.xlabel('score')\n",
        "plt.ylabel('Frequency')\n",
        "plt.title('Happiness Score Distribution')\n",
        "plt.show()"
      ],
      "metadata": {
        "colab": {
          "base_uri": "https://localhost:8080/",
          "height": 472
        },
        "id": "zH-p2GASyuB-",
        "outputId": "9d3c391b-a61e-4bcd-9e5c-faf4bc9e2028"
      },
      "execution_count": 19,
      "outputs": [
        {
          "output_type": "display_data",
          "data": {
            "text/plain": [
              "<Figure size 640x480 with 1 Axes>"
            ],
            "image/png": "[encoded data removed]"
          },
          "metadata": {}
        }
      ]
    },
    {
      "cell_type": "markdown",
      "source": [
        "Bar Plot"
      ],
      "metadata": {
        "id": "dwai-qgW2vIi"
      }
    },
    {
      "cell_type": "code",
      "source": [
        "top_10_happiest = df.sort_values('score', ascending=False).head(10)\n",
        "\n",
        "plt.figure(figsize=(13, 6))\n",
        "plt.bar(top_10_happiest['Country name'], top_10_happiest['score'], color='skyblue')\n",
        "plt.title('Top 10 Happiest Countries by Score')\n",
        "plt.xlabel('Country')\n",
        "plt.ylabel('Happiness Score')\n",
        "\n",
        "plt.show()"
      ],
      "metadata": {
        "colab": {
          "base_uri": "https://localhost:8080/",
          "height": 340
        },
        "id": "QQJI3XZd1HIq",
        "outputId": "2f6fac71-c567-4832-a53b-54a3ae23e3ee"
      },
      "execution_count": null,
      "outputs": [
        {
          "output_type": "display_data",
          "data": {
            "text/plain": [
              "<Figure size 1300x600 with 1 Axes>"
            ],
            "image/png": "[encoded data removed]"
          },
          "metadata": {}
        }
      ]
    },
    {
      "cell_type": "markdown",
      "source": [
        "Line plot"
      ],
      "metadata": {
        "id": "ifmZ7nkJ2x4P"
      }
    },
    {
      "cell_type": "code",
      "source": [
        "import pandas as pd\n",
        "import matplotlib.pyplot as plt\n",
        "\n",
        "top_10_unhappiest = df.sort_values('score', ascending=True).head(10)\n",
        "\n",
        "plt.figure(figsize=(15, 5))\n",
        "plt.plot(top_10_unhappiest['Country name'],  top_10_unhappiest['score'], marker='o')\n",
        "plt.title('Top 10 unhappiest Countries by Score')\n",
        "plt.xlabel('Country')\n",
        "plt.ylabel('Happiness Score')"
      ],
      "metadata": {
        "colab": {
          "base_uri": "https://localhost:8080/",
          "height": 505
        },
        "id": "L9jjiHQw2Ad5",
        "outputId": "2e06ab20-bba6-44a5-8498-cbf93b78d94d"
      },
      "execution_count": 16,
      "outputs": [
        {
          "output_type": "execute_result",
          "data": {
            "text/plain": [
              "Text(0, 0.5, 'Happiness Score')"
            ]
          },
          "metadata": {},
          "execution_count": 16
        },
        {
          "output_type": "display_data",
          "data": {
            "text/plain": [
              "<Figure size 1500x500 with 1 Axes>"
            ],
            "image/png": "[encoded data removed]"
          },
          "metadata": {}
        }
      ]
    },
    {
      "cell_type": "markdown",
      "source": [
        "Scatter Plot"
      ],
      "metadata": {
        "id": "PuYnrN_D2ztC"
      }
    },
    {
      "cell_type": "code",
      "source": [
        "plt.figure(figsize=(12, 6))\n",
        "plt.scatter(df['Log GDP per capita'], df['score'])\n",
        "plt.title('GDP per Capita vs Happiness Score')\n",
        "plt.xlabel('GDP per Capita')\n",
        "plt.ylabel('Happiness Score')\n",
        "plt.grid(True)\n"
      ],
      "metadata": {
        "colab": {
          "base_uri": "https://localhost:8080/",
          "height": 365
        },
        "id": "3AIUI1Lz3BzO",
        "outputId": "136cc3af-8dbd-46f3-f46e-49105e53d339"
      },
      "execution_count": null,
      "outputs": [
        {
          "output_type": "display_data",
          "data": {
            "text/plain": [
              "<Figure size 1200x600 with 1 Axes>"
            ],
            "image/png": "[encoded data removed]"
          },
          "metadata": {}
        }
      ]
    },
    {
      "cell_type": "code",
      "source": [
        "from google.colab import drive\n",
        "drive.mount('/content/drive')"
      ],
      "metadata": {
        "colab": {
          "base_uri": "https://localhost:8080/"
        },
        "id": "LgFLEQJpJydR",
        "outputId": "99346457-ce6d-418b-bac6-146a19a72c2a"
      },
      "execution_count": 1,
      "outputs": [
        {
          "output_type": "stream",
          "name": "stdout",
          "text": [
            "Drive already mounted at /content/drive; to attempt to forcibly remount, call drive.mount(\"/content/drive\", force_remount=True).\n"
          ]
        }
      ]
    },
    {
      "cell_type": "code",
      "source": [],
      "metadata": {
        "id": "zUcCKnHZ2ivE"
      },
      "execution_count": null,
      "outputs": []
    },
    {
      "cell_type": "markdown",
      "source": [
        "***Problem*** ***2***"
      ],
      "metadata": {
        "id": "kgpbyPGPybko"
      }
    },
    {
      "cell_type": "markdown",
      "source": [
        "**Task1** *Preparing the South-Asia Dataset*"
      ],
      "metadata": {
        "id": "aOy26uIIylPg"
      }
    },
    {
      "cell_type": "code",
      "source": [
        "import pandas as pd\n",
        "df = pd.read_csv('/content/drive/MyDrive/Concepts and technology of AI/Assignment1/WHR-2024-5CS037.csv')\n",
        "\n",
        "south_asian_countries = [\n",
        "    \"Afghanistan\", \"Bangladesh\", \"Bhutan\", \"India\", \"Maldives\",\n",
        "    \"Nepal\", \"Pakistan\", \"Sri Lanka\"\n",
        "]\n",
        "\n",
        "#filtering the south asian countries\n",
        "southAsia_df = df[df['Country name'].isin(south_asian_countries)]\n",
        "print(\"\\nSouth Asia Dataset:\")\n",
        "print(southAsia_df)\n"
      ],
      "metadata": {
        "colab": {
          "base_uri": "https://localhost:8080/"
        },
        "id": "XdHnj1D990QW",
        "outputId": "cceee948-dde8-4192-e765-d49e32425b22"
      },
      "execution_count": 2,
      "outputs": [
        {
          "output_type": "stream",
          "name": "stdout",
          "text": [
            "\n",
            "South Asia Dataset:\n",
            "    Country name  score  Log GDP per capita  Social support  \\\n",
            "92         Nepal  5.158               0.965           0.990   \n",
            "107     Pakistan  4.657               1.069           0.600   \n",
            "125        India  4.054               1.166           0.653   \n",
            "127    Sri Lanka  3.898               1.361           1.179   \n",
            "128   Bangladesh  3.886               1.122           0.249   \n",
            "142  Afghanistan  1.721               0.628           0.000   \n",
            "\n",
            "     Healthy life expectancy  Freedom to make life choices  Generosity  \\\n",
            "92                     0.443                         0.653       0.209   \n",
            "107                    0.321                         0.542       0.144   \n",
            "125                    0.417                         0.767       0.174   \n",
            "127                    0.586                         0.583       0.144   \n",
            "128                    0.513                         0.775       0.140   \n",
            "142                    0.242                         0.000       0.091   \n",
            "\n",
            "     Perceptions of corruption  Dystopia + residual  \n",
            "92                       0.115                1.783  \n",
            "107                      0.074                1.907  \n",
            "125                      0.122                0.756  \n",
            "127                      0.031                0.014  \n",
            "128                      0.167                0.919  \n",
            "142                      0.088                0.672  \n"
          ]
        }
      ]
    },
    {
      "cell_type": "code",
      "source": [
        "#saving in new CSV file\n",
        "output = '/content/drive/MyDrive/Concepts and technology of AI/Assignment1/southAsian.csv'\n",
        "southAsia_df.to_csv(output, index=False)\n",
        "print(f\"\\nSouth Asia Dataset has been saved to: {output}\")\n"
      ],
      "metadata": {
        "colab": {
          "base_uri": "https://localhost:8080/"
        },
        "id": "nSpOrEL5EtGX",
        "outputId": "19ef4934-b0df-4c27-d869-ee6a62df2476"
      },
      "execution_count": null,
      "outputs": [
        {
          "output_type": "stream",
          "name": "stdout",
          "text": [
            "\n",
            "South Asia Dataset has been saved to: /content/drive/MyDrive/Concepts and technology of AI/Assignment1/southAsian.csv\n"
          ]
        }
      ]
    },
    {
      "cell_type": "markdown",
      "source": [
        "***Task2*** *Composite Score Ranking*"
      ],
      "metadata": {
        "id": "LxFHBeDcy2a5"
      }
    },
    {
      "cell_type": "code",
      "source": [
        "#1\n",
        "#computing Composite Score\n",
        "\n",
        "import numpy as np\n",
        "import pandas as pd\n",
        "\n",
        "southAsia_df = pd.read_csv('/content/drive/MyDrive/Concepts and technology of AI/Assignment1/southAsian.csv')\n",
        "compositeScore = (0.40* southAsia_df['Log GDP per capita'] +\n",
        "                  0.30 * southAsia_df['Social support'] +\n",
        "                  0.30 * southAsia_df['Healthy life expectancy'])\n",
        "southAsia_df['Composite Score'] = compositeScore\n",
        "southAsia_df.head(10)"
      ],
      "metadata": {
        "id": "ygHNrdaSGTR3",
        "colab": {
          "base_uri": "https://localhost:8080/",
          "height": 309
        },
        "outputId": "2cadd851-fb78-49ca-cf5b-6f3a2bd3376e"
      },
      "execution_count": null,
      "outputs": [
        {
          "output_type": "execute_result",
          "data": {
            "text/plain": [
              "  Country name  score  Log GDP per capita  Social support  \\\n",
              "0        Nepal  5.158               0.965           0.990   \n",
              "1     Pakistan  4.657               1.069           0.600   \n",
              "2        India  4.054               1.166           0.653   \n",
              "3    Sri Lanka  3.898               1.361           1.179   \n",
              "4   Bangladesh  3.886               1.122           0.249   \n",
              "5  Afghanistan  1.721               0.628           0.000   \n",
              "\n",
              "   Healthy life expectancy  Freedom to make life choices  Generosity  \\\n",
              "0                    0.443                         0.653       0.209   \n",
              "1                    0.321                         0.542       0.144   \n",
              "2                    0.417                         0.767       0.174   \n",
              "3                    0.586                         0.583       0.144   \n",
              "4                    0.513                         0.775       0.140   \n",
              "5                    0.242                         0.000       0.091   \n",
              "\n",
              "   Perceptions of corruption  Dystopia + residual  Composite Score  \n",
              "0                      0.115                1.783           0.8159  \n",
              "1                      0.074                1.907           0.7039  \n",
              "2                      0.122                0.756           0.7874  \n",
              "3                      0.031                0.014           1.0739  \n",
              "4                      0.167                0.919           0.6774  \n",
              "5                      0.088                0.672           0.3238  "
            ],
            "text/html": [
              "\n",
              "  <div id=\"df-31af9bc9-a3f4-478b-8bd2-8fc4e7e0cd06\" class=\"colab-df-container\">\n",
              "    <div>\n",
              "<style scoped>\n",
              "    .dataframe tbody tr th:only-of-type {\n",
              "        vertical-align: middle;\n",
              "    }\n",
              "\n",
              "    .dataframe tbody tr th {\n",
              "        vertical-align: top;\n",
              "    }\n",
              "\n",
              "    .dataframe thead th {\n",
              "        text-align: right;\n",
              "    }\n",
              "</style>\n",
              "<table border=\"1\" class=\"dataframe\">\n",
              "  <thead>\n",
              "    <tr style=\"text-align: right;\">\n",
              "      <th></th>\n",
              "      <th>Country name</th>\n",
              "      <th>score</th>\n",
              "      <th>Log GDP per capita</th>\n",
              "      <th>Social support</th>\n",
              "      <th>Healthy life expectancy</th>\n",
              "      <th>Freedom to make life choices</th>\n",
              "      <th>Generosity</th>\n",
              "      <th>Perceptions of corruption</th>\n",
              "      <th>Dystopia + residual</th>\n",
              "      <th>Composite Score</th>\n",
              "    </tr>\n",
              "  </thead>\n",
              "  <tbody>\n",
              "    <tr>\n",
              "      <th>0</th>\n",
              "      <td>Nepal</td>\n",
              "      <td>5.158</td>\n",
              "      <td>0.965</td>\n",
              "      <td>0.990</td>\n",
              "      <td>0.443</td>\n",
              "      <td>0.653</td>\n",
              "      <td>0.209</td>\n",
              "      <td>0.115</td>\n",
              "      <td>1.783</td>\n",
              "      <td>0.8159</td>\n",
              "    </tr>\n",
              "    <tr>\n",
              "      <th>1</th>\n",
              "      <td>Pakistan</td>\n",
              "      <td>4.657</td>\n",
              "      <td>1.069</td>\n",
              "      <td>0.600</td>\n",
              "      <td>0.321</td>\n",
              "      <td>0.542</td>\n",
              "      <td>0.144</td>\n",
              "      <td>0.074</td>\n",
              "      <td>1.907</td>\n",
              "      <td>0.7039</td>\n",
              "    </tr>\n",
              "    <tr>\n",
              "      <th>2</th>\n",
              "      <td>India</td>\n",
              "      <td>4.054</td>\n",
              "      <td>1.166</td>\n",
              "      <td>0.653</td>\n",
              "      <td>0.417</td>\n",
              "      <td>0.767</td>\n",
              "      <td>0.174</td>\n",
              "      <td>0.122</td>\n",
              "      <td>0.756</td>\n",
              "      <td>0.7874</td>\n",
              "    </tr>\n",
              "    <tr>\n",
              "      <th>3</th>\n",
              "      <td>Sri Lanka</td>\n",
              "      <td>3.898</td>\n",
              "      <td>1.361</td>\n",
              "      <td>1.179</td>\n",
              "      <td>0.586</td>\n",
              "      <td>0.583</td>\n",
              "      <td>0.144</td>\n",
              "      <td>0.031</td>\n",
              "      <td>0.014</td>\n",
              "      <td>1.0739</td>\n",
              "    </tr>\n",
              "    <tr>\n",
              "      <th>4</th>\n",
              "      <td>Bangladesh</td>\n",
              "      <td>3.886</td>\n",
              "      <td>1.122</td>\n",
              "      <td>0.249</td>\n",
              "      <td>0.513</td>\n",
              "      <td>0.775</td>\n",
              "      <td>0.140</td>\n",
              "      <td>0.167</td>\n",
              "      <td>0.919</td>\n",
              "      <td>0.6774</td>\n",
              "    </tr>\n",
              "    <tr>\n",
              "      <th>5</th>\n",
              "      <td>Afghanistan</td>\n",
              "      <td>1.721</td>\n",
              "      <td>0.628</td>\n",
              "      <td>0.000</td>\n",
              "      <td>0.242</td>\n",
              "      <td>0.000</td>\n",
              "      <td>0.091</td>\n",
              "      <td>0.088</td>\n",
              "      <td>0.672</td>\n",
              "      <td>0.3238</td>\n",
              "    </tr>\n",
              "  </tbody>\n",
              "</table>\n",
              "</div>\n",
              "    <div class=\"colab-df-buttons\">\n",
              "\n",
              "  <div class=\"colab-df-container\">\n",
              "    <button class=\"colab-df-convert\" onclick=\"convertToInteractive('df-31af9bc9-a3f4-478b-8bd2-8fc4e7e0cd06')\"\n",
              "            title=\"Convert this dataframe to an interactive table.\"\n",
              "            style=\"display:none;\">\n",
              "\n",
              "  <svg xmlns=\"http://www.w3.org/2000/svg\" height=\"24px\" viewBox=\"0 -960 960 960\">\n",
              "    <path d=\"M120-120v-720h720v720H120Zm60-500h600v-160H180v160Zm220 220h160v-160H400v160Zm0 220h160v-160H400v160ZM180-400h160v-160H180v160Zm440 0h160v-160H620v160ZM180-180h160v-160H180v160Zm440 0h160v-160H620v160Z\"/>\n",
              "  </svg>\n",
              "    </button>\n",
              "\n",
              "  <style>\n",
              "    .colab-df-container {\n",
              "      display:flex;\n",
              "      gap: 12px;\n",
              "    }\n",
              "\n",
              "    .colab-df-convert {\n",
              "      background-color: #E8F0FE;\n",
              "      border: none;\n",
              "      border-radius: 50%;\n",
              "      cursor: pointer;\n",
              "      display: none;\n",
              "      fill: #1967D2;\n",
              "      height: 32px;\n",
              "      padding: 0 0 0 0;\n",
              "      width: 32px;\n",
              "    }\n",
              "\n",
              "    .colab-df-convert:hover {\n",
              "      background-color: #E2EBFA;\n",
              "      box-shadow: 0px 1px 2px rgba(60, 64, 67, 0.3), 0px 1px 3px 1px rgba(60, 64, 67, 0.15);\n",
              "      fill: #174EA6;\n",
              "    }\n",
              "\n",
              "    .colab-df-buttons div {\n",
              "      margin-bottom: 4px;\n",
              "    }\n",
              "\n",
              "    [theme=dark] .colab-df-convert {\n",
              "      background-color: #3B4455;\n",
              "      fill: #D2E3FC;\n",
              "    }\n",
              "\n",
              "    [theme=dark] .colab-df-convert:hover {\n",
              "      background-color: #434B5C;\n",
              "      box-shadow: 0px 1px 3px 1px rgba(0, 0, 0, 0.15);\n",
              "      filter: drop-shadow(0px 1px 2px rgba(0, 0, 0, 0.3));\n",
              "      fill: #FFFFFF;\n",
              "    }\n",
              "  </style>\n",
              "\n",
              "    <script>\n",
              "      const buttonEl =\n",
              "        document.querySelector('#df-31af9bc9-a3f4-478b-8bd2-8fc4e7e0cd06 button.colab-df-convert');\n",
              "      buttonEl.style.display =\n",
              "        google.colab.kernel.accessAllowed ? 'block' : 'none';\n",
              "\n",
              "      async function convertToInteractive(key) {\n",
              "        const element = document.querySelector('#df-31af9bc9-a3f4-478b-8bd2-8fc4e7e0cd06');\n",
              "        const dataTable =\n",
              "          await google.colab.kernel.invokeFunction('convertToInteractive',\n",
              "                                                    [key], {});\n",
              "        if (!dataTable) return;\n",
              "\n",
              "        const docLinkHtml = 'Like what you see? Visit the ' +\n",
              "          '<a target=\"_blank\" href=https://colab.research.google.com/notebooks/data_table.ipynb>data table notebook</a>'\n",
              "          + ' to learn more about interactive tables.';\n",
              "        element.innerHTML = '';\n",
              "        dataTable['output_type'] = 'display_data';\n",
              "        await google.colab.output.renderOutput(dataTable, element);\n",
              "        const docLink = document.createElement('div');\n",
              "        docLink.innerHTML = docLinkHtml;\n",
              "        element.appendChild(docLink);\n",
              "      }\n",
              "    </script>\n",
              "  </div>\n",
              "\n",
              "\n",
              "<div id=\"df-6646a864-d919-41ea-8c50-e23984dd0c11\">\n",
              "  <button class=\"colab-df-quickchart\" onclick=\"quickchart('df-6646a864-d919-41ea-8c50-e23984dd0c11')\"\n",
              "            title=\"Suggest charts\"\n",
              "            style=\"display:none;\">\n",
              "\n",
              "<svg xmlns=\"http://www.w3.org/2000/svg\" height=\"24px\"viewBox=\"0 0 24 24\"\n",
              "     width=\"24px\">\n",
              "    <g>\n",
              "        <path d=\"M19 3H5c-1.1 0-2 .9-2 2v14c0 1.1.9 2 2 2h14c1.1 0 2-.9 2-2V5c0-1.1-.9-2-2-2zM9 17H7v-7h2v7zm4 0h-2V7h2v10zm4 0h-2v-4h2v4z\"/>\n",
              "    </g>\n",
              "</svg>\n",
              "  </button>\n",
              "\n",
              "<style>\n",
              "  .colab-df-quickchart {\n",
              "      --bg-color: #E8F0FE;\n",
              "      --fill-color: #1967D2;\n",
              "      --hover-bg-color: #E2EBFA;\n",
              "      --hover-fill-color: #174EA6;\n",
              "      --disabled-fill-color: #AAA;\n",
              "      --disabled-bg-color: #DDD;\n",
              "  }\n",
              "\n",
              "  [theme=dark] .colab-df-quickchart {\n",
              "      --bg-color: #3B4455;\n",
              "      --fill-color: #D2E3FC;\n",
              "      --hover-bg-color: #434B5C;\n",
              "      --hover-fill-color: #FFFFFF;\n",
              "      --disabled-bg-color: #3B4455;\n",
              "      --disabled-fill-color: #666;\n",
              "  }\n",
              "\n",
              "  .colab-df-quickchart {\n",
              "    background-color: var(--bg-color);\n",
              "    border: none;\n",
              "    border-radius: 50%;\n",
              "    cursor: pointer;\n",
              "    display: none;\n",
              "    fill: var(--fill-color);\n",
              "    height: 32px;\n",
              "    padding: 0;\n",
              "    width: 32px;\n",
              "  }\n",
              "\n",
              "  .colab-df-quickchart:hover {\n",
              "    background-color: var(--hover-bg-color);\n",
              "    box-shadow: 0 1px 2px rgba(60, 64, 67, 0.3), 0 1px 3px 1px rgba(60, 64, 67, 0.15);\n",
              "    fill: var(--button-hover-fill-color);\n",
              "  }\n",
              "\n",
              "  .colab-df-quickchart-complete:disabled,\n",
              "  .colab-df-quickchart-complete:disabled:hover {\n",
              "    background-color: var(--disabled-bg-color);\n",
              "    fill: var(--disabled-fill-color);\n",
              "    box-shadow: none;\n",
              "  }\n",
              "\n",
              "  .colab-df-spinner {\n",
              "    border: 2px solid var(--fill-color);\n",
              "    border-color: transparent;\n",
              "    border-bottom-color: var(--fill-color);\n",
              "    animation:\n",
              "      spin 1s steps(1) infinite;\n",
              "  }\n",
              "\n",
              "  @keyframes spin {\n",
              "    0% {\n",
              "      border-color: transparent;\n",
              "      border-bottom-color: var(--fill-color);\n",
              "      border-left-color: var(--fill-color);\n",
              "    }\n",
              "    20% {\n",
              "      border-color: transparent;\n",
              "      border-left-color: var(--fill-color);\n",
              "      border-top-color: var(--fill-color);\n",
              "    }\n",
              "    30% {\n",
              "      border-color: transparent;\n",
              "      border-left-color: var(--fill-color);\n",
              "      border-top-color: var(--fill-color);\n",
              "      border-right-color: var(--fill-color);\n",
              "    }\n",
              "    40% {\n",
              "      border-color: transparent;\n",
              "      border-right-color: var(--fill-color);\n",
              "      border-top-color: var(--fill-color);\n",
              "    }\n",
              "    60% {\n",
              "      border-color: transparent;\n",
              "      border-right-color: var(--fill-color);\n",
              "    }\n",
              "    80% {\n",
              "      border-color: transparent;\n",
              "      border-right-color: var(--fill-color);\n",
              "      border-bottom-color: var(--fill-color);\n",
              "    }\n",
              "    90% {\n",
              "      border-color: transparent;\n",
              "      border-bottom-color: var(--fill-color);\n",
              "    }\n",
              "  }\n",
              "</style>\n",
              "\n",
              "  <script>\n",
              "    async function quickchart(key) {\n",
              "      const quickchartButtonEl =\n",
              "        document.querySelector('#' + key + ' button');\n",
              "      quickchartButtonEl.disabled = true;  // To prevent multiple clicks.\n",
              "      quickchartButtonEl.classList.add('colab-df-spinner');\n",
              "      try {\n",
              "        const charts = await google.colab.kernel.invokeFunction(\n",
              "            'suggestCharts', [key], {});\n",
              "      } catch (error) {\n",
              "        console.error('Error during call to suggestCharts:', error);\n",
              "      }\n",
              "      quickchartButtonEl.classList.remove('colab-df-spinner');\n",
              "      quickchartButtonEl.classList.add('colab-df-quickchart-complete');\n",
              "    }\n",
              "    (() => {\n",
              "      let quickchartButtonEl =\n",
              "        document.querySelector('#df-6646a864-d919-41ea-8c50-e23984dd0c11 button');\n",
              "      quickchartButtonEl.style.display =\n",
              "        google.colab.kernel.accessAllowed ? 'block' : 'none';\n",
              "    })();\n",
              "  </script>\n",
              "</div>\n",
              "\n",
              "    </div>\n",
              "  </div>\n"
            ],
            "application/vnd.google.colaboratory.intrinsic+json": {
              "type": "dataframe",
              "variable_name": "southAsia_df",
              "summary": "{\n  \"name\": \"southAsia_df\",\n  \"rows\": 6,\n  \"fields\": [\n    {\n      \"column\": \"Country name\",\n      \"properties\": {\n        \"dtype\": \"string\",\n        \"num_unique_values\": 6,\n        \"samples\": [\n          \"Nepal\",\n          \"Pakistan\",\n          \"Afghanistan\"\n        ],\n        \"semantic_type\": \"\",\n        \"description\": \"\"\n      }\n    },\n    {\n      \"column\": \"score\",\n      \"properties\": {\n        \"dtype\": \"number\",\n        \"std\": 1.1770690152521504,\n        \"min\": 1.721,\n        \"max\": 5.158,\n        \"num_unique_values\": 6,\n        \"samples\": [\n          5.158,\n          4.657,\n          1.721\n        ],\n        \"semantic_type\": \"\",\n        \"description\": \"\"\n      }\n    },\n    {\n      \"column\": \"Log GDP per capita\",\n      \"properties\": {\n        \"dtype\": \"number\",\n        \"std\": 0.2453612982250189,\n        \"min\": 0.628,\n        \"max\": 1.361,\n        \"num_unique_values\": 6,\n        \"samples\": [\n          0.965,\n          1.069,\n          0.628\n        ],\n        \"semantic_type\": \"\",\n        \"description\": \"\"\n      }\n    },\n    {\n      \"column\": \"Social support\",\n      \"properties\": {\n        \"dtype\": \"number\",\n        \"std\": 0.4410239978353408,\n        \"min\": 0.0,\n        \"max\": 1.179,\n        \"num_unique_values\": 6,\n        \"samples\": [\n          0.99,\n          0.6,\n          0.0\n        ],\n        \"semantic_type\": \"\",\n        \"description\": \"\"\n      }\n    },\n    {\n      \"column\": \"Healthy life expectancy\",\n      \"properties\": {\n        \"dtype\": \"number\",\n        \"std\": 0.1250818398756057,\n        \"min\": 0.242,\n        \"max\": 0.586,\n        \"num_unique_values\": 6,\n        \"samples\": [\n          0.443,\n          0.321,\n          0.242\n        ],\n        \"semantic_type\": \"\",\n        \"description\": \"\"\n      }\n    },\n    {\n      \"column\": \"Freedom to make life choices\",\n      \"properties\": {\n        \"dtype\": \"number\",\n        \"std\": 0.2870224149202753,\n        \"min\": 0.0,\n        \"max\": 0.775,\n        \"num_unique_values\": 6,\n        \"samples\": [\n          0.653,\n          0.542,\n          0.0\n        ],\n        \"semantic_type\": \"\",\n        \"description\": \"\"\n      }\n    },\n    {\n      \"column\": \"Generosity\",\n      \"properties\": {\n        \"dtype\": \"number\",\n        \"std\": 0.03926661007353024,\n        \"min\": 0.091,\n        \"max\": 0.209,\n        \"num_unique_values\": 5,\n        \"samples\": [\n          0.144,\n          0.091,\n          0.174\n        ],\n        \"semantic_type\": \"\",\n        \"description\": \"\"\n      }\n    },\n    {\n      \"column\": \"Perceptions of corruption\",\n      \"properties\": {\n        \"dtype\": \"number\",\n        \"std\": 0.046427362621626486,\n        \"min\": 0.031,\n        \"max\": 0.167,\n        \"num_unique_values\": 6,\n        \"samples\": [\n          0.115,\n          0.074,\n          0.088\n        ],\n        \"semantic_type\": \"\",\n        \"description\": \"\"\n      }\n    },\n    {\n      \"column\": \"Dystopia + residual\",\n      \"properties\": {\n        \"dtype\": \"number\",\n        \"std\": 0.718495859417436,\n        \"min\": 0.014,\n        \"max\": 1.907,\n        \"num_unique_values\": 6,\n        \"samples\": [\n          1.783,\n          1.907,\n          0.672\n        ],\n        \"semantic_type\": \"\",\n        \"description\": \"\"\n      }\n    },\n    {\n      \"column\": \"Composite Score\",\n      \"properties\": {\n        \"dtype\": \"number\",\n        \"std\": 0.24387960485999371,\n        \"min\": 0.32380000000000003,\n        \"max\": 1.0739,\n        \"num_unique_values\": 6,\n        \"samples\": [\n          0.8159000000000001,\n          0.7039,\n          0.32380000000000003\n        ],\n        \"semantic_type\": \"\",\n        \"description\": \"\"\n      }\n    }\n  ]\n}"
            }
          },
          "metadata": {},
          "execution_count": 27
        }
      ]
    },
    {
      "cell_type": "code",
      "source": [
        "#2\n",
        "#sorting in descending order\n",
        "ranked = southAsia_df.sort_values('Composite Score', ascending = False).head()\n",
        "ranked"
      ],
      "metadata": {
        "colab": {
          "base_uri": "https://localhost:8080/",
          "height": 278
        },
        "id": "PTKbVXT9tt19",
        "outputId": "439bc6ff-2cc5-4e40-b2f6-c141c5aa2231"
      },
      "execution_count": null,
      "outputs": [
        {
          "output_type": "execute_result",
          "data": {
            "text/plain": [
              "  Country name  score  Log GDP per capita  Social support  \\\n",
              "3    Sri Lanka  3.898               1.361           1.179   \n",
              "0        Nepal  5.158               0.965           0.990   \n",
              "2        India  4.054               1.166           0.653   \n",
              "1     Pakistan  4.657               1.069           0.600   \n",
              "4   Bangladesh  3.886               1.122           0.249   \n",
              "\n",
              "   Healthy life expectancy  Freedom to make life choices  Generosity  \\\n",
              "3                    0.586                         0.583       0.144   \n",
              "0                    0.443                         0.653       0.209   \n",
              "2                    0.417                         0.767       0.174   \n",
              "1                    0.321                         0.542       0.144   \n",
              "4                    0.513                         0.775       0.140   \n",
              "\n",
              "   Perceptions of corruption  Dystopia + residual  Composite Score  \n",
              "3                      0.031                0.014           1.0739  \n",
              "0                      0.115                1.783           0.8159  \n",
              "2                      0.122                0.756           0.7874  \n",
              "1                      0.074                1.907           0.7039  \n",
              "4                      0.167                0.919           0.6774  "
            ],
            "text/html": [
              "\n",
              "  <div id=\"df-e1a38ada-6b71-43cb-8a21-cc047d77d439\" class=\"colab-df-container\">\n",
              "    <div>\n",
              "<style scoped>\n",
              "    .dataframe tbody tr th:only-of-type {\n",
              "        vertical-align: middle;\n",
              "    }\n",
              "\n",
              "    .dataframe tbody tr th {\n",
              "        vertical-align: top;\n",
              "    }\n",
              "\n",
              "    .dataframe thead th {\n",
              "        text-align: right;\n",
              "    }\n",
              "</style>\n",
              "<table border=\"1\" class=\"dataframe\">\n",
              "  <thead>\n",
              "    <tr style=\"text-align: right;\">\n",
              "      <th></th>\n",
              "      <th>Country name</th>\n",
              "      <th>score</th>\n",
              "      <th>Log GDP per capita</th>\n",
              "      <th>Social support</th>\n",
              "      <th>Healthy life expectancy</th>\n",
              "      <th>Freedom to make life choices</th>\n",
              "      <th>Generosity</th>\n",
              "      <th>Perceptions of corruption</th>\n",
              "      <th>Dystopia + residual</th>\n",
              "      <th>Composite Score</th>\n",
              "    </tr>\n",
              "  </thead>\n",
              "  <tbody>\n",
              "    <tr>\n",
              "      <th>3</th>\n",
              "      <td>Sri Lanka</td>\n",
              "      <td>3.898</td>\n",
              "      <td>1.361</td>\n",
              "      <td>1.179</td>\n",
              "      <td>0.586</td>\n",
              "      <td>0.583</td>\n",
              "      <td>0.144</td>\n",
              "      <td>0.031</td>\n",
              "      <td>0.014</td>\n",
              "      <td>1.0739</td>\n",
              "    </tr>\n",
              "    <tr>\n",
              "      <th>0</th>\n",
              "      <td>Nepal</td>\n",
              "      <td>5.158</td>\n",
              "      <td>0.965</td>\n",
              "      <td>0.990</td>\n",
              "      <td>0.443</td>\n",
              "      <td>0.653</td>\n",
              "      <td>0.209</td>\n",
              "      <td>0.115</td>\n",
              "      <td>1.783</td>\n",
              "      <td>0.8159</td>\n",
              "    </tr>\n",
              "    <tr>\n",
              "      <th>2</th>\n",
              "      <td>India</td>\n",
              "      <td>4.054</td>\n",
              "      <td>1.166</td>\n",
              "      <td>0.653</td>\n",
              "      <td>0.417</td>\n",
              "      <td>0.767</td>\n",
              "      <td>0.174</td>\n",
              "      <td>0.122</td>\n",
              "      <td>0.756</td>\n",
              "      <td>0.7874</td>\n",
              "    </tr>\n",
              "    <tr>\n",
              "      <th>1</th>\n",
              "      <td>Pakistan</td>\n",
              "      <td>4.657</td>\n",
              "      <td>1.069</td>\n",
              "      <td>0.600</td>\n",
              "      <td>0.321</td>\n",
              "      <td>0.542</td>\n",
              "      <td>0.144</td>\n",
              "      <td>0.074</td>\n",
              "      <td>1.907</td>\n",
              "      <td>0.7039</td>\n",
              "    </tr>\n",
              "    <tr>\n",
              "      <th>4</th>\n",
              "      <td>Bangladesh</td>\n",
              "      <td>3.886</td>\n",
              "      <td>1.122</td>\n",
              "      <td>0.249</td>\n",
              "      <td>0.513</td>\n",
              "      <td>0.775</td>\n",
              "      <td>0.140</td>\n",
              "      <td>0.167</td>\n",
              "      <td>0.919</td>\n",
              "      <td>0.6774</td>\n",
              "    </tr>\n",
              "  </tbody>\n",
              "</table>\n",
              "</div>\n",
              "    <div class=\"colab-df-buttons\">\n",
              "\n",
              "  <div class=\"colab-df-container\">\n",
              "    <button class=\"colab-df-convert\" onclick=\"convertToInteractive('df-e1a38ada-6b71-43cb-8a21-cc047d77d439')\"\n",
              "            title=\"Convert this dataframe to an interactive table.\"\n",
              "            style=\"display:none;\">\n",
              "\n",
              "  <svg xmlns=\"http://www.w3.org/2000/svg\" height=\"24px\" viewBox=\"0 -960 960 960\">\n",
              "    <path d=\"M120-120v-720h720v720H120Zm60-500h600v-160H180v160Zm220 220h160v-160H400v160Zm0 220h160v-160H400v160ZM180-400h160v-160H180v160Zm440 0h160v-160H620v160ZM180-180h160v-160H180v160Zm440 0h160v-160H620v160Z\"/>\n",
              "  </svg>\n",
              "    </button>\n",
              "\n",
              "  <style>\n",
              "    .colab-df-container {\n",
              "      display:flex;\n",
              "      gap: 12px;\n",
              "    }\n",
              "\n",
              "    .colab-df-convert {\n",
              "      background-color: #E8F0FE;\n",
              "      border: none;\n",
              "      border-radius: 50%;\n",
              "      cursor: pointer;\n",
              "      display: none;\n",
              "      fill: #1967D2;\n",
              "      height: 32px;\n",
              "      padding: 0 0 0 0;\n",
              "      width: 32px;\n",
              "    }\n",
              "\n",
              "    .colab-df-convert:hover {\n",
              "      background-color: #E2EBFA;\n",
              "      box-shadow: 0px 1px 2px rgba(60, 64, 67, 0.3), 0px 1px 3px 1px rgba(60, 64, 67, 0.15);\n",
              "      fill: #174EA6;\n",
              "    }\n",
              "\n",
              "    .colab-df-buttons div {\n",
              "      margin-bottom: 4px;\n",
              "    }\n",
              "\n",
              "    [theme=dark] .colab-df-convert {\n",
              "      background-color: #3B4455;\n",
              "      fill: #D2E3FC;\n",
              "    }\n",
              "\n",
              "    [theme=dark] .colab-df-convert:hover {\n",
              "      background-color: #434B5C;\n",
              "      box-shadow: 0px 1px 3px 1px rgba(0, 0, 0, 0.15);\n",
              "      filter: drop-shadow(0px 1px 2px rgba(0, 0, 0, 0.3));\n",
              "      fill: #FFFFFF;\n",
              "    }\n",
              "  </style>\n",
              "\n",
              "    <script>\n",
              "      const buttonEl =\n",
              "        document.querySelector('#df-e1a38ada-6b71-43cb-8a21-cc047d77d439 button.colab-df-convert');\n",
              "      buttonEl.style.display =\n",
              "        google.colab.kernel.accessAllowed ? 'block' : 'none';\n",
              "\n",
              "      async function convertToInteractive(key) {\n",
              "        const element = document.querySelector('#df-e1a38ada-6b71-43cb-8a21-cc047d77d439');\n",
              "        const dataTable =\n",
              "          await google.colab.kernel.invokeFunction('convertToInteractive',\n",
              "                                                    [key], {});\n",
              "        if (!dataTable) return;\n",
              "\n",
              "        const docLinkHtml = 'Like what you see? Visit the ' +\n",
              "          '<a target=\"_blank\" href=https://colab.research.google.com/notebooks/data_table.ipynb>data table notebook</a>'\n",
              "          + ' to learn more about interactive tables.';\n",
              "        element.innerHTML = '';\n",
              "        dataTable['output_type'] = 'display_data';\n",
              "        await google.colab.output.renderOutput(dataTable, element);\n",
              "        const docLink = document.createElement('div');\n",
              "        docLink.innerHTML = docLinkHtml;\n",
              "        element.appendChild(docLink);\n",
              "      }\n",
              "    </script>\n",
              "  </div>\n",
              "\n",
              "\n",
              "<div id=\"df-c7a43a17-af47-4e96-b5eb-0c0ce18c73ec\">\n",
              "  <button class=\"colab-df-quickchart\" onclick=\"quickchart('df-c7a43a17-af47-4e96-b5eb-0c0ce18c73ec')\"\n",
              "            title=\"Suggest charts\"\n",
              "            style=\"display:none;\">\n",
              "\n",
              "<svg xmlns=\"http://www.w3.org/2000/svg\" height=\"24px\"viewBox=\"0 0 24 24\"\n",
              "     width=\"24px\">\n",
              "    <g>\n",
              "        <path d=\"M19 3H5c-1.1 0-2 .9-2 2v14c0 1.1.9 2 2 2h14c1.1 0 2-.9 2-2V5c0-1.1-.9-2-2-2zM9 17H7v-7h2v7zm4 0h-2V7h2v10zm4 0h-2v-4h2v4z\"/>\n",
              "    </g>\n",
              "</svg>\n",
              "  </button>\n",
              "\n",
              "<style>\n",
              "  .colab-df-quickchart {\n",
              "      --bg-color: #E8F0FE;\n",
              "      --fill-color: #1967D2;\n",
              "      --hover-bg-color: #E2EBFA;\n",
              "      --hover-fill-color: #174EA6;\n",
              "      --disabled-fill-color: #AAA;\n",
              "      --disabled-bg-color: #DDD;\n",
              "  }\n",
              "\n",
              "  [theme=dark] .colab-df-quickchart {\n",
              "      --bg-color: #3B4455;\n",
              "      --fill-color: #D2E3FC;\n",
              "      --hover-bg-color: #434B5C;\n",
              "      --hover-fill-color: #FFFFFF;\n",
              "      --disabled-bg-color: #3B4455;\n",
              "      --disabled-fill-color: #666;\n",
              "  }\n",
              "\n",
              "  .colab-df-quickchart {\n",
              "    background-color: var(--bg-color);\n",
              "    border: none;\n",
              "    border-radius: 50%;\n",
              "    cursor: pointer;\n",
              "    display: none;\n",
              "    fill: var(--fill-color);\n",
              "    height: 32px;\n",
              "    padding: 0;\n",
              "    width: 32px;\n",
              "  }\n",
              "\n",
              "  .colab-df-quickchart:hover {\n",
              "    background-color: var(--hover-bg-color);\n",
              "    box-shadow: 0 1px 2px rgba(60, 64, 67, 0.3), 0 1px 3px 1px rgba(60, 64, 67, 0.15);\n",
              "    fill: var(--button-hover-fill-color);\n",
              "  }\n",
              "\n",
              "  .colab-df-quickchart-complete:disabled,\n",
              "  .colab-df-quickchart-complete:disabled:hover {\n",
              "    background-color: var(--disabled-bg-color);\n",
              "    fill: var(--disabled-fill-color);\n",
              "    box-shadow: none;\n",
              "  }\n",
              "\n",
              "  .colab-df-spinner {\n",
              "    border: 2px solid var(--fill-color);\n",
              "    border-color: transparent;\n",
              "    border-bottom-color: var(--fill-color);\n",
              "    animation:\n",
              "      spin 1s steps(1) infinite;\n",
              "  }\n",
              "\n",
              "  @keyframes spin {\n",
              "    0% {\n",
              "      border-color: transparent;\n",
              "      border-bottom-color: var(--fill-color);\n",
              "      border-left-color: var(--fill-color);\n",
              "    }\n",
              "    20% {\n",
              "      border-color: transparent;\n",
              "      border-left-color: var(--fill-color);\n",
              "      border-top-color: var(--fill-color);\n",
              "    }\n",
              "    30% {\n",
              "      border-color: transparent;\n",
              "      border-left-color: var(--fill-color);\n",
              "      border-top-color: var(--fill-color);\n",
              "      border-right-color: var(--fill-color);\n",
              "    }\n",
              "    40% {\n",
              "      border-color: transparent;\n",
              "      border-right-color: var(--fill-color);\n",
              "      border-top-color: var(--fill-color);\n",
              "    }\n",
              "    60% {\n",
              "      border-color: transparent;\n",
              "      border-right-color: var(--fill-color);\n",
              "    }\n",
              "    80% {\n",
              "      border-color: transparent;\n",
              "      border-right-color: var(--fill-color);\n",
              "      border-bottom-color: var(--fill-color);\n",
              "    }\n",
              "    90% {\n",
              "      border-color: transparent;\n",
              "      border-bottom-color: var(--fill-color);\n",
              "    }\n",
              "  }\n",
              "</style>\n",
              "\n",
              "  <script>\n",
              "    async function quickchart(key) {\n",
              "      const quickchartButtonEl =\n",
              "        document.querySelector('#' + key + ' button');\n",
              "      quickchartButtonEl.disabled = true;  // To prevent multiple clicks.\n",
              "      quickchartButtonEl.classList.add('colab-df-spinner');\n",
              "      try {\n",
              "        const charts = await google.colab.kernel.invokeFunction(\n",
              "            'suggestCharts', [key], {});\n",
              "      } catch (error) {\n",
              "        console.error('Error during call to suggestCharts:', error);\n",
              "      }\n",
              "      quickchartButtonEl.classList.remove('colab-df-spinner');\n",
              "      quickchartButtonEl.classList.add('colab-df-quickchart-complete');\n",
              "    }\n",
              "    (() => {\n",
              "      let quickchartButtonEl =\n",
              "        document.querySelector('#df-c7a43a17-af47-4e96-b5eb-0c0ce18c73ec button');\n",
              "      quickchartButtonEl.style.display =\n",
              "        google.colab.kernel.accessAllowed ? 'block' : 'none';\n",
              "    })();\n",
              "  </script>\n",
              "</div>\n",
              "\n",
              "  <div id=\"id_fe1848f5-2eff-4418-9524-d760ba62066b\">\n",
              "    <style>\n",
              "      .colab-df-generate {\n",
              "        background-color: #E8F0FE;\n",
              "        border: none;\n",
              "        border-radius: 50%;\n",
              "        cursor: pointer;\n",
              "        display: none;\n",
              "        fill: #1967D2;\n",
              "        height: 32px;\n",
              "        padding: 0 0 0 0;\n",
              "        width: 32px;\n",
              "      }\n",
              "\n",
              "      .colab-df-generate:hover {\n",
              "        background-color: #E2EBFA;\n",
              "        box-shadow: 0px 1px 2px rgba(60, 64, 67, 0.3), 0px 1px 3px 1px rgba(60, 64, 67, 0.15);\n",
              "        fill: #174EA6;\n",
              "      }\n",
              "\n",
              "      [theme=dark] .colab-df-generate {\n",
              "        background-color: #3B4455;\n",
              "        fill: #D2E3FC;\n",
              "      }\n",
              "\n",
              "      [theme=dark] .colab-df-generate:hover {\n",
              "        background-color: #434B5C;\n",
              "        box-shadow: 0px 1px 3px 1px rgba(0, 0, 0, 0.15);\n",
              "        filter: drop-shadow(0px 1px 2px rgba(0, 0, 0, 0.3));\n",
              "        fill: #FFFFFF;\n",
              "      }\n",
              "    </style>\n",
              "    <button class=\"colab-df-generate\" onclick=\"generateWithVariable('ranked')\"\n",
              "            title=\"Generate code using this dataframe.\"\n",
              "            style=\"display:none;\">\n",
              "\n",
              "  <svg xmlns=\"http://www.w3.org/2000/svg\" height=\"24px\"viewBox=\"0 0 24 24\"\n",
              "       width=\"24px\">\n",
              "    <path d=\"M7,19H8.4L18.45,9,17,7.55,7,17.6ZM5,21V16.75L18.45,3.32a2,2,0,0,1,2.83,0l1.4,1.43a1.91,1.91,0,0,1,.58,1.4,1.91,1.91,0,0,1-.58,1.4L9.25,21ZM18.45,9,17,7.55Zm-12,3A5.31,5.31,0,0,0,4.9,8.1,5.31,5.31,0,0,0,1,6.5,5.31,5.31,0,0,0,4.9,4.9,5.31,5.31,0,0,0,6.5,1,5.31,5.31,0,0,0,8.1,4.9,5.31,5.31,0,0,0,12,6.5,5.46,5.46,0,0,0,6.5,12Z\"/>\n",
              "  </svg>\n",
              "    </button>\n",
              "    <script>\n",
              "      (() => {\n",
              "      const buttonEl =\n",
              "        document.querySelector('#id_fe1848f5-2eff-4418-9524-d760ba62066b button.colab-df-generate');\n",
              "      buttonEl.style.display =\n",
              "        google.colab.kernel.accessAllowed ? 'block' : 'none';\n",
              "\n",
              "      buttonEl.onclick = () => {\n",
              "        google.colab.notebook.generateWithVariable('ranked');\n",
              "      }\n",
              "      })();\n",
              "    </script>\n",
              "  </div>\n",
              "\n",
              "    </div>\n",
              "  </div>\n"
            ],
            "application/vnd.google.colaboratory.intrinsic+json": {
              "type": "dataframe",
              "variable_name": "ranked",
              "summary": "{\n  \"name\": \"ranked\",\n  \"rows\": 5,\n  \"fields\": [\n    {\n      \"column\": \"Country name\",\n      \"properties\": {\n        \"dtype\": \"string\",\n        \"num_unique_values\": 5,\n        \"samples\": [\n          \"Nepal\",\n          \"Bangladesh\",\n          \"India\"\n        ],\n        \"semantic_type\": \"\",\n        \"description\": \"\"\n      }\n    },\n    {\n      \"column\": \"score\",\n      \"properties\": {\n        \"dtype\": \"number\",\n        \"std\": 0.5595639373655168,\n        \"min\": 3.886,\n        \"max\": 5.158,\n        \"num_unique_values\": 5,\n        \"samples\": [\n          5.158,\n          3.886,\n          4.054\n        ],\n        \"semantic_type\": \"\",\n        \"description\": \"\"\n      }\n    },\n    {\n      \"column\": \"Log GDP per capita\",\n      \"properties\": {\n        \"dtype\": \"number\",\n        \"std\": 0.1461584756351817,\n        \"min\": 0.965,\n        \"max\": 1.361,\n        \"num_unique_values\": 5,\n        \"samples\": [\n          0.965,\n          1.122,\n          1.166\n        ],\n        \"semantic_type\": \"\",\n        \"description\": \"\"\n      }\n    },\n    {\n      \"column\": \"Social support\",\n      \"properties\": {\n        \"dtype\": \"number\",\n        \"std\": 0.3616983549865827,\n        \"min\": 0.249,\n        \"max\": 1.179,\n        \"num_unique_values\": 5,\n        \"samples\": [\n          0.99,\n          0.249,\n          0.653\n        ],\n        \"semantic_type\": \"\",\n        \"description\": \"\"\n      }\n    },\n    {\n      \"column\": \"Healthy life expectancy\",\n      \"properties\": {\n        \"dtype\": \"number\",\n        \"std\": 0.10007996802557442,\n        \"min\": 0.321,\n        \"max\": 0.586,\n        \"num_unique_values\": 5,\n        \"samples\": [\n          0.443,\n          0.513,\n          0.417\n        ],\n        \"semantic_type\": \"\",\n        \"description\": \"\"\n      }\n    },\n    {\n      \"column\": \"Freedom to make life choices\",\n      \"properties\": {\n        \"dtype\": \"number\",\n        \"std\": 0.10547037498748167,\n        \"min\": 0.542,\n        \"max\": 0.775,\n        \"num_unique_values\": 5,\n        \"samples\": [\n          0.653,\n          0.775,\n          0.767\n        ],\n        \"semantic_type\": \"\",\n        \"description\": \"\"\n      }\n    },\n    {\n      \"column\": \"Generosity\",\n      \"properties\": {\n        \"dtype\": \"number\",\n        \"std\": 0.02951609730299722,\n        \"min\": 0.14,\n        \"max\": 0.209,\n        \"num_unique_values\": 4,\n        \"samples\": [\n          0.209,\n          0.14,\n          0.144\n        ],\n        \"semantic_type\": \"\",\n        \"description\": \"\"\n      }\n    },\n    {\n      \"column\": \"Perceptions of corruption\",\n      \"properties\": {\n        \"dtype\": \"number\",\n        \"std\": 0.05152378091716484,\n        \"min\": 0.031,\n        \"max\": 0.167,\n        \"num_unique_values\": 5,\n        \"samples\": [\n          0.115,\n          0.167,\n          0.122\n        ],\n        \"semantic_type\": \"\",\n        \"description\": \"\"\n      }\n    },\n    {\n      \"column\": \"Dystopia + residual\",\n      \"properties\": {\n        \"dtype\": \"number\",\n        \"std\": 0.7818731994383744,\n        \"min\": 0.014,\n        \"max\": 1.907,\n        \"num_unique_values\": 5,\n        \"samples\": [\n          1.783,\n          0.919,\n          0.756\n        ],\n        \"semantic_type\": \"\",\n        \"description\": \"\"\n      }\n    },\n    {\n      \"column\": \"Composite Score\",\n      \"properties\": {\n        \"dtype\": \"number\",\n        \"std\": 0.15733268891110963,\n        \"min\": 0.6774000000000001,\n        \"max\": 1.0739,\n        \"num_unique_values\": 5,\n        \"samples\": [\n          0.8159000000000001,\n          0.6774000000000001,\n          0.7874\n        ],\n        \"semantic_type\": \"\",\n        \"description\": \"\"\n      }\n    }\n  ]\n}"
            }
          },
          "metadata": {},
          "execution_count": 25
        }
      ]
    },
    {
      "cell_type": "code",
      "source": [
        "#3\n",
        "import matplotlib.pyplot as plt\n",
        "\n",
        "ranked = southAsia_df.sort_values('Composite Score', ascending = False)\n",
        "top_5 = ranked.head(5)\n",
        "\n",
        "plt.figure(figsize=(8, 4))\n",
        "\n",
        "plt.barh(top_5['Country name'], top_5['Composite Score'], color='skyblue', edgecolor='black')\n",
        "plt.xlabel('Composite Score')\n",
        "plt.ylabel('Country')\n",
        "plt.title('Top 5  South Asian Countries by Composite Score')\n",
        "plt.tight_layout()\n",
        "plt.show()\n"
      ],
      "metadata": {
        "colab": {
          "base_uri": "https://localhost:8080/",
          "height": 407
        },
        "id": "TGKutYpEwOQW",
        "outputId": "53ee48cf-e92a-4b48-b79e-efee34dc6b01"
      },
      "execution_count": null,
      "outputs": [
        {
          "output_type": "display_data",
          "data": {
            "text/plain": [
              "<Figure size 800x400 with 1 Axes>"
            ],
            "image/png": "[encoded data removed]"
          },
          "metadata": {}
        }
      ]
    },
    {
      "cell_type": "code",
      "source": [
        "#4\n",
        "import matplotlib.pyplot as plt\n",
        "\n",
        "plt.figure(figsize=(10, 6))\n",
        "#Composite Score vs Original Score\n",
        "plt.scatter(southAsia_df['Composite Score'], southAsia_df['score'], color='blue',label =\"Country name\")\n",
        "for index, row in southAsia_df.iterrows():\n",
        "    x = row['Composite Score']\n",
        "    y = row['score']\n",
        "    label = row['Country name']\n",
        "    plt.text(x, y, label, fontsize=9)\n",
        "\n",
        "plt.title(\"Composite Score vs Original Score\")\n",
        "plt.xlabel(\"Composite Score\")\n",
        "plt.ylabel(\"Original Score\")\n",
        "plt.legend()\n",
        "plt.grid(True)\n",
        "plt.show()"
      ],
      "metadata": {
        "id": "0qp2HZ29y8EG",
        "colab": {
          "base_uri": "https://localhost:8080/",
          "height": 515
        },
        "outputId": "cbb59575-84fe-4f0c-d9e9-68fa60409f5c"
      },
      "execution_count": null,
      "outputs": [
        {
          "output_type": "display_data",
          "data": {
            "text/plain": [
              "<Figure size 1000x600 with 1 Axes>"
            ],
            "image/png": "[encoded data removed]"
          },
          "metadata": {}
        }
      ]
    },
    {
      "cell_type": "code",
      "source": [],
      "metadata": {
        "id": "lCMB4aw29s5-"
      },
      "execution_count": null,
      "outputs": []
    },
    {
      "cell_type": "markdown",
      "source": [
        "***Task3*** *Outlier Detection*"
      ],
      "metadata": {
        "id": "psK5JCJ_y9Yy"
      }
    },
    {
      "cell_type": "code",
      "source": [
        "#1\n",
        "#outliers based on Score and GDP per Capita\n",
        "import matplotlib.pyplot as plt\n",
        "plt.figure(figsize=(10, 6))\n",
        "plt.scatter(southAsia_df['Log GDP per capita'], southAsia_df['score'])\n",
        "plt.title('Scatter Plot of Score vs GDP per Capita')\n",
        "plt.xlabel('GDP per Capita')\n",
        "plt.ylabel('Score')\n",
        "plt.grid(True)\n"
      ],
      "metadata": {
        "id": "XOm2i3R7zAs4",
        "colab": {
          "base_uri": "https://localhost:8080/",
          "height": 528
        },
        "outputId": "68f22b5c-90ab-4dd3-fa7a-5066eb04c443"
      },
      "execution_count": null,
      "outputs": [
        {
          "output_type": "display_data",
          "data": {
            "text/plain": [
              "<Figure size 1000x600 with 1 Axes>"
            ],
            "image/png": "[encoded data removed]"
          },
          "metadata": {}
        }
      ]
    },
    {
      "cell_type": "code",
      "source": [
        "#2\n",
        "southAsia_df.describe()\n",
        "\n",
        "Q3_score = 4.506250\n",
        "Q1_score = 3.889000\n",
        "IQR_score = Q3_score - Q1_score\n",
        "outliers_score = 1.5 * IQR_score\n",
        "print(outliers_score)\n",
        "\n",
        "Q3_GDP = 1.155000\n",
        "Q1_GDP = 0.991000\n",
        "IQR_GDP = Q3_GDP - Q1_GDP\n",
        "outliers_GDP = 1.5 * IQR_GDP\n",
        "print(outliers_GDP)\n"
      ],
      "metadata": {
        "colab": {
          "base_uri": "https://localhost:8080/"
        },
        "id": "YSp-R2DyfdJw",
        "outputId": "3aaaf83d-948e-4aad-fe05-3450b78e6257"
      },
      "execution_count": null,
      "outputs": [
        {
          "output_type": "stream",
          "name": "stdout",
          "text": [
            "0.9258749999999998\n",
            "0.24600000000000005\n"
          ]
        }
      ]
    },
    {
      "cell_type": "code",
      "source": [
        "#3\n",
        "import seaborn as sns\n",
        "\n",
        "Q3_score = 4.506250\n",
        "Q1_score = 3.889000\n",
        "IQR_score = Q3_score - Q1_score\n",
        "\n",
        "lower_score = Q1_score - 1.5 * IQR_score\n",
        "upper_score = Q3_score + 1.5 * IQR_score\n",
        "\n",
        "print(\"Lower score:\",lower_score)\n",
        "print(\"Upper score:\",upper_score)\n",
        "\n",
        "print(\"\\n\")\n",
        "\n",
        "Q3_GDP = 1.155000\n",
        "Q1_GDP = 0.991000\n",
        "IQR_GDP = Q3_GDP - Q1_GDP\n",
        "lower_GDP = Q1_GDP - 1.5 * IQR_GDP\n",
        "upper_GDP = Q3_GDP + 1.5 * IQR_GDP\n",
        "\n",
        "print(\"Lower GDP\",lower_GDP)\n",
        "print(\"Upper GDP\",upper_GDP,\"\\n\")\n",
        "\n",
        "\n",
        "southAsia_df['outlier'] = (\n",
        "    (southAsia_df['score'] < lower_score) | (southAsia_df['score'] > upper_score) |\n",
        "    (southAsia_df['Log GDP per capita'] < lower_GDP) | (southAsia_df['Log GDP per capita'] > upper_GDP)\n",
        ")\n",
        "\n",
        "\n",
        "plt.figure(figsize=(10, 6))\n",
        "sns.scatterplot(\n",
        "    data=southAsia_df,\n",
        "    x='Log GDP per capita',\n",
        "    y='score',\n",
        "    hue='outlier',\n",
        "    palette={False: 'blue', True: 'red'},\n",
        "    style='outlier',\n",
        "    markers={False: 'o', True: '*'},\n",
        "    s=80\n",
        ")\n",
        "plt.title('Scatterplot with Outliers Highlighted')\n",
        "plt.show()"
      ],
      "metadata": {
        "colab": {
          "base_uri": "https://localhost:8080/",
          "height": 670
        },
        "id": "9hjyusvVgvSV",
        "outputId": "bf43a706-892d-4113-e2f1-41c9d5995c3b"
      },
      "execution_count": null,
      "outputs": [
        {
          "output_type": "stream",
          "name": "stdout",
          "text": [
            "Lower score: 2.963125\n",
            "Upper score: 5.432124999999999\n",
            "\n",
            "\n",
            "Lower GDP 0.7449999999999999\n",
            "Upper GDP 1.401 \n",
            "\n"
          ]
        },
        {
          "output_type": "stream",
          "name": "stderr",
          "text": [
            "<ipython-input-50-e89279dd8f02>:26: SettingWithCopyWarning: \n",
            "A value is trying to be set on a copy of a slice from a DataFrame.\n",
            "Try using .loc[row_indexer,col_indexer] = value instead\n",
            "\n",
            "See the caveats in the documentation: https://pandas.pydata.org/pandas-docs/stable/user_guide/indexing.html#returning-a-view-versus-a-copy\n",
            "  southAsia_df['outlier'] = (\n"
          ]
        },
        {
          "output_type": "display_data",
          "data": {
            "text/plain": [
              "<Figure size 1000x600 with 1 Axes>"
            ],
            "image/png": "[encoded data removed]"
          },
          "metadata": {}
        }
      ]
    },
    {
      "cell_type": "code",
      "source": [],
      "metadata": {
        "id": "ZEeF14sq9pDH"
      },
      "execution_count": null,
      "outputs": []
    },
    {
      "cell_type": "markdown",
      "source": [
        "***Task4*** *Exploring Trends Across Metrics*"
      ],
      "metadata": {
        "id": "VtVVMi5hmb44"
      }
    },
    {
      "cell_type": "code",
      "source": [
        "#1\n",
        "freedom_score = southAsia_df['Freedom to make life choices'].corr(southAsia_df['score'])\n",
        "generosity_score = southAsia_df['Generosity'].corr(southAsia_df['score'])\n",
        "\n",
        "print(\"Pearson Correlation:\")\n",
        "print(\"Freedom and Score:\"), freedom_score\n",
        "print(\"Generosity and Score:\"), generosity_score"
      ],
      "metadata": {
        "id": "DIDpbJ0hiG6T",
        "colab": {
          "base_uri": "https://localhost:8080/"
        },
        "outputId": "d5fb2744-02b3-4f62-afc8-a10ed9dc1378"
      },
      "execution_count": 9,
      "outputs": [
        {
          "output_type": "stream",
          "name": "stdout",
          "text": [
            "Pearson Correlation:\n",
            "Freedom and Score:\n",
            "Generosity and Score:\n"
          ]
        },
        {
          "output_type": "execute_result",
          "data": {
            "text/plain": [
              "(None, 0.874512371253192)"
            ]
          },
          "metadata": {},
          "execution_count": 9
        }
      ]
    },
    {
      "cell_type": "code",
      "source": [
        "#2\n",
        "import seaborn as sns\n",
        "\n",
        "cor_df = pd.DataFrame({\n",
        "    'Metric': ['Freedom to make life choices', 'Generosity'],\n",
        "    'Correlation': [freedom_score, generosity_score]\n",
        "})\n",
        "\n",
        "sns.scatterplot(data=cor_df, x='Metric', y='Correlation')\n",
        "plt.title('Correlation with Score')\n",
        "plt.xlabel('Metric')\n",
        "plt.ylabel('Correlation')\n",
        "plt.show()"
      ],
      "metadata": {
        "colab": {
          "base_uri": "https://localhost:8080/",
          "height": 472
        },
        "id": "yedRZRWkjSQ6",
        "outputId": "a438ed02-53b4-4532-e676-a3543eb7cb57"
      },
      "execution_count": 13,
      "outputs": [
        {
          "output_type": "display_data",
          "data": {
            "text/plain": [
              "<Figure size 640x480 with 1 Axes>"
            ],
            "image/png": "[encoded data removed]"
          },
          "metadata": {}
        }
      ]
    },
    {
      "cell_type": "code",
      "source": [
        "#3\n",
        "strongest_relationship = cor_df.loc[cor_df['Correlation'].idxmax()]\n",
        "weakest_relationship = cor_df.loc[cor_df['Correlation'].idxmin()]\n",
        "\n",
        "print(\"Strongest Relationship:\")\n",
        "print(f\"Metric: {strongest_relationship['Metric']}, Correlation: {strongest_relationship['Correlation']:.2f}\")\n",
        "\n",
        "print(\"Weakest Relationship:\")\n",
        "print(f\"Metric: {weakest_relationship['Metric']}, Correlation: {weakest_relationship['Correlation']:.2f}\")"
      ],
      "metadata": {
        "id": "Jq3zWN-B7j5X",
        "colab": {
          "base_uri": "https://localhost:8080/"
        },
        "outputId": "846b230e-86b9-46a4-a461-59f1811d55fc"
      },
      "execution_count": 12,
      "outputs": [
        {
          "output_type": "stream",
          "name": "stdout",
          "text": [
            "Strongest Relationship:\n",
            "Metric: Generosity, Correlation: 0.87\n",
            "Weakest Relationship:\n",
            "Metric: Freedom to make life choices, Correlation: 0.80\n"
          ]
        }
      ]
    },
    {
      "cell_type": "code",
      "source": [],
      "metadata": {
        "id": "JfeuqYff9np2"
      },
      "execution_count": null,
      "outputs": []
    },
    {
      "cell_type": "markdown",
      "source": [
        "***Task 5 Gap Analysis***"
      ],
      "metadata": {
        "id": "2xlHbUOcoiJV"
      }
    },
    {
      "cell_type": "code",
      "source": [
        "#1\n",
        "#difference for each South Asian country\n",
        "\n",
        "GDP = southAsia_df['Log GDP per capita']\n",
        "score = southAsia_df['score']\n",
        "\n",
        "GDPscoreGap = score - GDP\n",
        "\n",
        "southAsia_df['GDP-Score Gap'] = GDPscoreGap\n",
        "southAsia_df.head()"
      ],
      "metadata": {
        "colab": {
          "base_uri": "https://localhost:8080/",
          "height": 382
        },
        "id": "vqpjgjF5nzzl",
        "outputId": "0f9d432c-4e78-46a1-9cb4-96150269b8a8"
      },
      "execution_count": null,
      "outputs": [
        {
          "output_type": "stream",
          "name": "stderr",
          "text": [
            "<ipython-input-25-65b815a5fbdd>:9: SettingWithCopyWarning: \n",
            "A value is trying to be set on a copy of a slice from a DataFrame.\n",
            "Try using .loc[row_indexer,col_indexer] = value instead\n",
            "\n",
            "See the caveats in the documentation: https://pandas.pydata.org/pandas-docs/stable/user_guide/indexing.html#returning-a-view-versus-a-copy\n",
            "  southAsia_df['GDP-Score Gap'] = GDPscoreGap\n"
          ]
        },
        {
          "output_type": "execute_result",
          "data": {
            "text/plain": [
              "    Country name  score  Log GDP per capita  Social support  \\\n",
              "92         Nepal  5.158               0.965           0.990   \n",
              "107     Pakistan  4.657               1.069           0.600   \n",
              "125        India  4.054               1.166           0.653   \n",
              "127    Sri Lanka  3.898               1.361           1.179   \n",
              "128   Bangladesh  3.886               1.122           0.249   \n",
              "\n",
              "     Healthy life expectancy  Freedom to make life choices  Generosity  \\\n",
              "92                     0.443                         0.653       0.209   \n",
              "107                    0.321                         0.542       0.144   \n",
              "125                    0.417                         0.767       0.174   \n",
              "127                    0.586                         0.583       0.144   \n",
              "128                    0.513                         0.775       0.140   \n",
              "\n",
              "     Perceptions of corruption  Dystopia + residual  GDP-Score Gap  \n",
              "92                       0.115                1.783          4.193  \n",
              "107                      0.074                1.907          3.588  \n",
              "125                      0.122                0.756          2.888  \n",
              "127                      0.031                0.014          2.537  \n",
              "128                      0.167                0.919          2.764  "
            ],
            "text/html": [
              "\n",
              "  <div id=\"df-12b9d244-e67e-45ee-93b7-3ef1288ad997\" class=\"colab-df-container\">\n",
              "    <div>\n",
              "<style scoped>\n",
              "    .dataframe tbody tr th:only-of-type {\n",
              "        vertical-align: middle;\n",
              "    }\n",
              "\n",
              "    .dataframe tbody tr th {\n",
              "        vertical-align: top;\n",
              "    }\n",
              "\n",
              "    .dataframe thead th {\n",
              "        text-align: right;\n",
              "    }\n",
              "</style>\n",
              "<table border=\"1\" class=\"dataframe\">\n",
              "  <thead>\n",
              "    <tr style=\"text-align: right;\">\n",
              "      <th></th>\n",
              "      <th>Country name</th>\n",
              "      <th>score</th>\n",
              "      <th>Log GDP per capita</th>\n",
              "      <th>Social support</th>\n",
              "      <th>Healthy life expectancy</th>\n",
              "      <th>Freedom to make life choices</th>\n",
              "      <th>Generosity</th>\n",
              "      <th>Perceptions of corruption</th>\n",
              "      <th>Dystopia + residual</th>\n",
              "      <th>GDP-Score Gap</th>\n",
              "    </tr>\n",
              "  </thead>\n",
              "  <tbody>\n",
              "    <tr>\n",
              "      <th>92</th>\n",
              "      <td>Nepal</td>\n",
              "      <td>5.158</td>\n",
              "      <td>0.965</td>\n",
              "      <td>0.990</td>\n",
              "      <td>0.443</td>\n",
              "      <td>0.653</td>\n",
              "      <td>0.209</td>\n",
              "      <td>0.115</td>\n",
              "      <td>1.783</td>\n",
              "      <td>4.193</td>\n",
              "    </tr>\n",
              "    <tr>\n",
              "      <th>107</th>\n",
              "      <td>Pakistan</td>\n",
              "      <td>4.657</td>\n",
              "      <td>1.069</td>\n",
              "      <td>0.600</td>\n",
              "      <td>0.321</td>\n",
              "      <td>0.542</td>\n",
              "      <td>0.144</td>\n",
              "      <td>0.074</td>\n",
              "      <td>1.907</td>\n",
              "      <td>3.588</td>\n",
              "    </tr>\n",
              "    <tr>\n",
              "      <th>125</th>\n",
              "      <td>India</td>\n",
              "      <td>4.054</td>\n",
              "      <td>1.166</td>\n",
              "      <td>0.653</td>\n",
              "      <td>0.417</td>\n",
              "      <td>0.767</td>\n",
              "      <td>0.174</td>\n",
              "      <td>0.122</td>\n",
              "      <td>0.756</td>\n",
              "      <td>2.888</td>\n",
              "    </tr>\n",
              "    <tr>\n",
              "      <th>127</th>\n",
              "      <td>Sri Lanka</td>\n",
              "      <td>3.898</td>\n",
              "      <td>1.361</td>\n",
              "      <td>1.179</td>\n",
              "      <td>0.586</td>\n",
              "      <td>0.583</td>\n",
              "      <td>0.144</td>\n",
              "      <td>0.031</td>\n",
              "      <td>0.014</td>\n",
              "      <td>2.537</td>\n",
              "    </tr>\n",
              "    <tr>\n",
              "      <th>128</th>\n",
              "      <td>Bangladesh</td>\n",
              "      <td>3.886</td>\n",
              "      <td>1.122</td>\n",
              "      <td>0.249</td>\n",
              "      <td>0.513</td>\n",
              "      <td>0.775</td>\n",
              "      <td>0.140</td>\n",
              "      <td>0.167</td>\n",
              "      <td>0.919</td>\n",
              "      <td>2.764</td>\n",
              "    </tr>\n",
              "  </tbody>\n",
              "</table>\n",
              "</div>\n",
              "    <div class=\"colab-df-buttons\">\n",
              "\n",
              "  <div class=\"colab-df-container\">\n",
              "    <button class=\"colab-df-convert\" onclick=\"convertToInteractive('df-12b9d244-e67e-45ee-93b7-3ef1288ad997')\"\n",
              "            title=\"Convert this dataframe to an interactive table.\"\n",
              "            style=\"display:none;\">\n",
              "\n",
              "  <svg xmlns=\"http://www.w3.org/2000/svg\" height=\"24px\" viewBox=\"0 -960 960 960\">\n",
              "    <path d=\"M120-120v-720h720v720H120Zm60-500h600v-160H180v160Zm220 220h160v-160H400v160Zm0 220h160v-160H400v160ZM180-400h160v-160H180v160Zm440 0h160v-160H620v160ZM180-180h160v-160H180v160Zm440 0h160v-160H620v160Z\"/>\n",
              "  </svg>\n",
              "    </button>\n",
              "\n",
              "  <style>\n",
              "    .colab-df-container {\n",
              "      display:flex;\n",
              "      gap: 12px;\n",
              "    }\n",
              "\n",
              "    .colab-df-convert {\n",
              "      background-color: #E8F0FE;\n",
              "      border: none;\n",
              "      border-radius: 50%;\n",
              "      cursor: pointer;\n",
              "      display: none;\n",
              "      fill: #1967D2;\n",
              "      height: 32px;\n",
              "      padding: 0 0 0 0;\n",
              "      width: 32px;\n",
              "    }\n",
              "\n",
              "    .colab-df-convert:hover {\n",
              "      background-color: #E2EBFA;\n",
              "      box-shadow: 0px 1px 2px rgba(60, 64, 67, 0.3), 0px 1px 3px 1px rgba(60, 64, 67, 0.15);\n",
              "      fill: #174EA6;\n",
              "    }\n",
              "\n",
              "    .colab-df-buttons div {\n",
              "      margin-bottom: 4px;\n",
              "    }\n",
              "\n",
              "    [theme=dark] .colab-df-convert {\n",
              "      background-color: #3B4455;\n",
              "      fill: #D2E3FC;\n",
              "    }\n",
              "\n",
              "    [theme=dark] .colab-df-convert:hover {\n",
              "      background-color: #434B5C;\n",
              "      box-shadow: 0px 1px 3px 1px rgba(0, 0, 0, 0.15);\n",
              "      filter: drop-shadow(0px 1px 2px rgba(0, 0, 0, 0.3));\n",
              "      fill: #FFFFFF;\n",
              "    }\n",
              "  </style>\n",
              "\n",
              "    <script>\n",
              "      const buttonEl =\n",
              "        document.querySelector('#df-12b9d244-e67e-45ee-93b7-3ef1288ad997 button.colab-df-convert');\n",
              "      buttonEl.style.display =\n",
              "        google.colab.kernel.accessAllowed ? 'block' : 'none';\n",
              "\n",
              "      async function convertToInteractive(key) {\n",
              "        const element = document.querySelector('#df-12b9d244-e67e-45ee-93b7-3ef1288ad997');\n",
              "        const dataTable =\n",
              "          await google.colab.kernel.invokeFunction('convertToInteractive',\n",
              "                                                    [key], {});\n",
              "        if (!dataTable) return;\n",
              "\n",
              "        const docLinkHtml = 'Like what you see? Visit the ' +\n",
              "          '<a target=\"_blank\" href=https://colab.research.google.com/notebooks/data_table.ipynb>data table notebook</a>'\n",
              "          + ' to learn more about interactive tables.';\n",
              "        element.innerHTML = '';\n",
              "        dataTable['output_type'] = 'display_data';\n",
              "        await google.colab.output.renderOutput(dataTable, element);\n",
              "        const docLink = document.createElement('div');\n",
              "        docLink.innerHTML = docLinkHtml;\n",
              "        element.appendChild(docLink);\n",
              "      }\n",
              "    </script>\n",
              "  </div>\n",
              "\n",
              "\n",
              "<div id=\"df-74b2b273-f0c3-4b78-9618-514b5ba35c73\">\n",
              "  <button class=\"colab-df-quickchart\" onclick=\"quickchart('df-74b2b273-f0c3-4b78-9618-514b5ba35c73')\"\n",
              "            title=\"Suggest charts\"\n",
              "            style=\"display:none;\">\n",
              "\n",
              "<svg xmlns=\"http://www.w3.org/2000/svg\" height=\"24px\"viewBox=\"0 0 24 24\"\n",
              "     width=\"24px\">\n",
              "    <g>\n",
              "        <path d=\"M19 3H5c-1.1 0-2 .9-2 2v14c0 1.1.9 2 2 2h14c1.1 0 2-.9 2-2V5c0-1.1-.9-2-2-2zM9 17H7v-7h2v7zm4 0h-2V7h2v10zm4 0h-2v-4h2v4z\"/>\n",
              "    </g>\n",
              "</svg>\n",
              "  </button>\n",
              "\n",
              "<style>\n",
              "  .colab-df-quickchart {\n",
              "      --bg-color: #E8F0FE;\n",
              "      --fill-color: #1967D2;\n",
              "      --hover-bg-color: #E2EBFA;\n",
              "      --hover-fill-color: #174EA6;\n",
              "      --disabled-fill-color: #AAA;\n",
              "      --disabled-bg-color: #DDD;\n",
              "  }\n",
              "\n",
              "  [theme=dark] .colab-df-quickchart {\n",
              "      --bg-color: #3B4455;\n",
              "      --fill-color: #D2E3FC;\n",
              "      --hover-bg-color: #434B5C;\n",
              "      --hover-fill-color: #FFFFFF;\n",
              "      --disabled-bg-color: #3B4455;\n",
              "      --disabled-fill-color: #666;\n",
              "  }\n",
              "\n",
              "  .colab-df-quickchart {\n",
              "    background-color: var(--bg-color);\n",
              "    border: none;\n",
              "    border-radius: 50%;\n",
              "    cursor: pointer;\n",
              "    display: none;\n",
              "    fill: var(--fill-color);\n",
              "    height: 32px;\n",
              "    padding: 0;\n",
              "    width: 32px;\n",
              "  }\n",
              "\n",
              "  .colab-df-quickchart:hover {\n",
              "    background-color: var(--hover-bg-color);\n",
              "    box-shadow: 0 1px 2px rgba(60, 64, 67, 0.3), 0 1px 3px 1px rgba(60, 64, 67, 0.15);\n",
              "    fill: var(--button-hover-fill-color);\n",
              "  }\n",
              "\n",
              "  .colab-df-quickchart-complete:disabled,\n",
              "  .colab-df-quickchart-complete:disabled:hover {\n",
              "    background-color: var(--disabled-bg-color);\n",
              "    fill: var(--disabled-fill-color);\n",
              "    box-shadow: none;\n",
              "  }\n",
              "\n",
              "  .colab-df-spinner {\n",
              "    border: 2px solid var(--fill-color);\n",
              "    border-color: transparent;\n",
              "    border-bottom-color: var(--fill-color);\n",
              "    animation:\n",
              "      spin 1s steps(1) infinite;\n",
              "  }\n",
              "\n",
              "  @keyframes spin {\n",
              "    0% {\n",
              "      border-color: transparent;\n",
              "      border-bottom-color: var(--fill-color);\n",
              "      border-left-color: var(--fill-color);\n",
              "    }\n",
              "    20% {\n",
              "      border-color: transparent;\n",
              "      border-left-color: var(--fill-color);\n",
              "      border-top-color: var(--fill-color);\n",
              "    }\n",
              "    30% {\n",
              "      border-color: transparent;\n",
              "      border-left-color: var(--fill-color);\n",
              "      border-top-color: var(--fill-color);\n",
              "      border-right-color: var(--fill-color);\n",
              "    }\n",
              "    40% {\n",
              "      border-color: transparent;\n",
              "      border-right-color: var(--fill-color);\n",
              "      border-top-color: var(--fill-color);\n",
              "    }\n",
              "    60% {\n",
              "      border-color: transparent;\n",
              "      border-right-color: var(--fill-color);\n",
              "    }\n",
              "    80% {\n",
              "      border-color: transparent;\n",
              "      border-right-color: var(--fill-color);\n",
              "      border-bottom-color: var(--fill-color);\n",
              "    }\n",
              "    90% {\n",
              "      border-color: transparent;\n",
              "      border-bottom-color: var(--fill-color);\n",
              "    }\n",
              "  }\n",
              "</style>\n",
              "\n",
              "  <script>\n",
              "    async function quickchart(key) {\n",
              "      const quickchartButtonEl =\n",
              "        document.querySelector('#' + key + ' button');\n",
              "      quickchartButtonEl.disabled = true;  // To prevent multiple clicks.\n",
              "      quickchartButtonEl.classList.add('colab-df-spinner');\n",
              "      try {\n",
              "        const charts = await google.colab.kernel.invokeFunction(\n",
              "            'suggestCharts', [key], {});\n",
              "      } catch (error) {\n",
              "        console.error('Error during call to suggestCharts:', error);\n",
              "      }\n",
              "      quickchartButtonEl.classList.remove('colab-df-spinner');\n",
              "      quickchartButtonEl.classList.add('colab-df-quickchart-complete');\n",
              "    }\n",
              "    (() => {\n",
              "      let quickchartButtonEl =\n",
              "        document.querySelector('#df-74b2b273-f0c3-4b78-9618-514b5ba35c73 button');\n",
              "      quickchartButtonEl.style.display =\n",
              "        google.colab.kernel.accessAllowed ? 'block' : 'none';\n",
              "    })();\n",
              "  </script>\n",
              "</div>\n",
              "\n",
              "    </div>\n",
              "  </div>\n"
            ],
            "application/vnd.google.colaboratory.intrinsic+json": {
              "type": "dataframe",
              "variable_name": "southAsia_df",
              "summary": "{\n  \"name\": \"southAsia_df\",\n  \"rows\": 6,\n  \"fields\": [\n    {\n      \"column\": \"Country name\",\n      \"properties\": {\n        \"dtype\": \"string\",\n        \"num_unique_values\": 6,\n        \"samples\": [\n          \"Nepal\",\n          \"Pakistan\",\n          \"Afghanistan\"\n        ],\n        \"semantic_type\": \"\",\n        \"description\": \"\"\n      }\n    },\n    {\n      \"column\": \"score\",\n      \"properties\": {\n        \"dtype\": \"number\",\n        \"std\": 1.1770690152521504,\n        \"min\": 1.721,\n        \"max\": 5.158,\n        \"num_unique_values\": 6,\n        \"samples\": [\n          5.158,\n          4.657,\n          1.721\n        ],\n        \"semantic_type\": \"\",\n        \"description\": \"\"\n      }\n    },\n    {\n      \"column\": \"Log GDP per capita\",\n      \"properties\": {\n        \"dtype\": \"number\",\n        \"std\": 0.2453612982250189,\n        \"min\": 0.628,\n        \"max\": 1.361,\n        \"num_unique_values\": 6,\n        \"samples\": [\n          0.965,\n          1.069,\n          0.628\n        ],\n        \"semantic_type\": \"\",\n        \"description\": \"\"\n      }\n    },\n    {\n      \"column\": \"Social support\",\n      \"properties\": {\n        \"dtype\": \"number\",\n        \"std\": 0.4410239978353408,\n        \"min\": 0.0,\n        \"max\": 1.179,\n        \"num_unique_values\": 6,\n        \"samples\": [\n          0.99,\n          0.6,\n          0.0\n        ],\n        \"semantic_type\": \"\",\n        \"description\": \"\"\n      }\n    },\n    {\n      \"column\": \"Healthy life expectancy\",\n      \"properties\": {\n        \"dtype\": \"number\",\n        \"std\": 0.1250818398756057,\n        \"min\": 0.242,\n        \"max\": 0.586,\n        \"num_unique_values\": 6,\n        \"samples\": [\n          0.443,\n          0.321,\n          0.242\n        ],\n        \"semantic_type\": \"\",\n        \"description\": \"\"\n      }\n    },\n    {\n      \"column\": \"Freedom to make life choices\",\n      \"properties\": {\n        \"dtype\": \"number\",\n        \"std\": 0.2870224149202753,\n        \"min\": 0.0,\n        \"max\": 0.775,\n        \"num_unique_values\": 6,\n        \"samples\": [\n          0.653,\n          0.542,\n          0.0\n        ],\n        \"semantic_type\": \"\",\n        \"description\": \"\"\n      }\n    },\n    {\n      \"column\": \"Generosity\",\n      \"properties\": {\n        \"dtype\": \"number\",\n        \"std\": 0.03926661007353024,\n        \"min\": 0.091,\n        \"max\": 0.209,\n        \"num_unique_values\": 5,\n        \"samples\": [\n          0.144,\n          0.091,\n          0.174\n        ],\n        \"semantic_type\": \"\",\n        \"description\": \"\"\n      }\n    },\n    {\n      \"column\": \"Perceptions of corruption\",\n      \"properties\": {\n        \"dtype\": \"number\",\n        \"std\": 0.046427362621626486,\n        \"min\": 0.031,\n        \"max\": 0.167,\n        \"num_unique_values\": 6,\n        \"samples\": [\n          0.115,\n          0.074,\n          0.088\n        ],\n        \"semantic_type\": \"\",\n        \"description\": \"\"\n      }\n    },\n    {\n      \"column\": \"Dystopia + residual\",\n      \"properties\": {\n        \"dtype\": \"number\",\n        \"std\": 0.718495859417436,\n        \"min\": 0.014,\n        \"max\": 1.907,\n        \"num_unique_values\": 6,\n        \"samples\": [\n          1.783,\n          1.907,\n          0.672\n        ],\n        \"semantic_type\": \"\",\n        \"description\": \"\"\n      }\n    },\n    {\n      \"column\": \"GDP-Score Gap\",\n      \"properties\": {\n        \"dtype\": \"number\",\n        \"std\": 1.0527984454142525,\n        \"min\": 1.093,\n        \"max\": 4.1930000000000005,\n        \"num_unique_values\": 6,\n        \"samples\": [\n          4.1930000000000005,\n          3.588,\n          1.093\n        ],\n        \"semantic_type\": \"\",\n        \"description\": \"\"\n      }\n    }\n  ]\n}"
            }
          },
          "metadata": {},
          "execution_count": 25
        }
      ]
    },
    {
      "cell_type": "code",
      "source": [
        "#2\n",
        "#In ascending order\n",
        "sort_ascend = southAsia_df.sort_values('GDP-Score Gap', ascending=True)\n",
        "sort_ascend.head()\n"
      ],
      "metadata": {
        "colab": {
          "base_uri": "https://localhost:8080/",
          "height": 278
        },
        "id": "EmqRXqVLohwz",
        "outputId": "2edd92ba-7750-4487-ef7d-f1227b575b9d"
      },
      "execution_count": null,
      "outputs": [
        {
          "output_type": "execute_result",
          "data": {
            "text/plain": [
              "    Country name  score  Log GDP per capita  Social support  \\\n",
              "142  Afghanistan  1.721               0.628           0.000   \n",
              "127    Sri Lanka  3.898               1.361           1.179   \n",
              "128   Bangladesh  3.886               1.122           0.249   \n",
              "125        India  4.054               1.166           0.653   \n",
              "107     Pakistan  4.657               1.069           0.600   \n",
              "\n",
              "     Healthy life expectancy  Freedom to make life choices  Generosity  \\\n",
              "142                    0.242                         0.000       0.091   \n",
              "127                    0.586                         0.583       0.144   \n",
              "128                    0.513                         0.775       0.140   \n",
              "125                    0.417                         0.767       0.174   \n",
              "107                    0.321                         0.542       0.144   \n",
              "\n",
              "     Perceptions of corruption  Dystopia + residual  GDP-Score Gap  \n",
              "142                      0.088                0.672          1.093  \n",
              "127                      0.031                0.014          2.537  \n",
              "128                      0.167                0.919          2.764  \n",
              "125                      0.122                0.756          2.888  \n",
              "107                      0.074                1.907          3.588  "
            ],
            "text/html": [
              "\n",
              "  <div id=\"df-55dd9233-0078-47eb-9a4f-c8f989d15f17\" class=\"colab-df-container\">\n",
              "    <div>\n",
              "<style scoped>\n",
              "    .dataframe tbody tr th:only-of-type {\n",
              "        vertical-align: middle;\n",
              "    }\n",
              "\n",
              "    .dataframe tbody tr th {\n",
              "        vertical-align: top;\n",
              "    }\n",
              "\n",
              "    .dataframe thead th {\n",
              "        text-align: right;\n",
              "    }\n",
              "</style>\n",
              "<table border=\"1\" class=\"dataframe\">\n",
              "  <thead>\n",
              "    <tr style=\"text-align: right;\">\n",
              "      <th></th>\n",
              "      <th>Country name</th>\n",
              "      <th>score</th>\n",
              "      <th>Log GDP per capita</th>\n",
              "      <th>Social support</th>\n",
              "      <th>Healthy life expectancy</th>\n",
              "      <th>Freedom to make life choices</th>\n",
              "      <th>Generosity</th>\n",
              "      <th>Perceptions of corruption</th>\n",
              "      <th>Dystopia + residual</th>\n",
              "      <th>GDP-Score Gap</th>\n",
              "    </tr>\n",
              "  </thead>\n",
              "  <tbody>\n",
              "    <tr>\n",
              "      <th>142</th>\n",
              "      <td>Afghanistan</td>\n",
              "      <td>1.721</td>\n",
              "      <td>0.628</td>\n",
              "      <td>0.000</td>\n",
              "      <td>0.242</td>\n",
              "      <td>0.000</td>\n",
              "      <td>0.091</td>\n",
              "      <td>0.088</td>\n",
              "      <td>0.672</td>\n",
              "      <td>1.093</td>\n",
              "    </tr>\n",
              "    <tr>\n",
              "      <th>127</th>\n",
              "      <td>Sri Lanka</td>\n",
              "      <td>3.898</td>\n",
              "      <td>1.361</td>\n",
              "      <td>1.179</td>\n",
              "      <td>0.586</td>\n",
              "      <td>0.583</td>\n",
              "      <td>0.144</td>\n",
              "      <td>0.031</td>\n",
              "      <td>0.014</td>\n",
              "      <td>2.537</td>\n",
              "    </tr>\n",
              "    <tr>\n",
              "      <th>128</th>\n",
              "      <td>Bangladesh</td>\n",
              "      <td>3.886</td>\n",
              "      <td>1.122</td>\n",
              "      <td>0.249</td>\n",
              "      <td>0.513</td>\n",
              "      <td>0.775</td>\n",
              "      <td>0.140</td>\n",
              "      <td>0.167</td>\n",
              "      <td>0.919</td>\n",
              "      <td>2.764</td>\n",
              "    </tr>\n",
              "    <tr>\n",
              "      <th>125</th>\n",
              "      <td>India</td>\n",
              "      <td>4.054</td>\n",
              "      <td>1.166</td>\n",
              "      <td>0.653</td>\n",
              "      <td>0.417</td>\n",
              "      <td>0.767</td>\n",
              "      <td>0.174</td>\n",
              "      <td>0.122</td>\n",
              "      <td>0.756</td>\n",
              "      <td>2.888</td>\n",
              "    </tr>\n",
              "    <tr>\n",
              "      <th>107</th>\n",
              "      <td>Pakistan</td>\n",
              "      <td>4.657</td>\n",
              "      <td>1.069</td>\n",
              "      <td>0.600</td>\n",
              "      <td>0.321</td>\n",
              "      <td>0.542</td>\n",
              "      <td>0.144</td>\n",
              "      <td>0.074</td>\n",
              "      <td>1.907</td>\n",
              "      <td>3.588</td>\n",
              "    </tr>\n",
              "  </tbody>\n",
              "</table>\n",
              "</div>\n",
              "    <div class=\"colab-df-buttons\">\n",
              "\n",
              "  <div class=\"colab-df-container\">\n",
              "    <button class=\"colab-df-convert\" onclick=\"convertToInteractive('df-55dd9233-0078-47eb-9a4f-c8f989d15f17')\"\n",
              "            title=\"Convert this dataframe to an interactive table.\"\n",
              "            style=\"display:none;\">\n",
              "\n",
              "  <svg xmlns=\"http://www.w3.org/2000/svg\" height=\"24px\" viewBox=\"0 -960 960 960\">\n",
              "    <path d=\"M120-120v-720h720v720H120Zm60-500h600v-160H180v160Zm220 220h160v-160H400v160Zm0 220h160v-160H400v160ZM180-400h160v-160H180v160Zm440 0h160v-160H620v160ZM180-180h160v-160H180v160Zm440 0h160v-160H620v160Z\"/>\n",
              "  </svg>\n",
              "    </button>\n",
              "\n",
              "  <style>\n",
              "    .colab-df-container {\n",
              "      display:flex;\n",
              "      gap: 12px;\n",
              "    }\n",
              "\n",
              "    .colab-df-convert {\n",
              "      background-color: #E8F0FE;\n",
              "      border: none;\n",
              "      border-radius: 50%;\n",
              "      cursor: pointer;\n",
              "      display: none;\n",
              "      fill: #1967D2;\n",
              "      height: 32px;\n",
              "      padding: 0 0 0 0;\n",
              "      width: 32px;\n",
              "    }\n",
              "\n",
              "    .colab-df-convert:hover {\n",
              "      background-color: #E2EBFA;\n",
              "      box-shadow: 0px 1px 2px rgba(60, 64, 67, 0.3), 0px 1px 3px 1px rgba(60, 64, 67, 0.15);\n",
              "      fill: #174EA6;\n",
              "    }\n",
              "\n",
              "    .colab-df-buttons div {\n",
              "      margin-bottom: 4px;\n",
              "    }\n",
              "\n",
              "    [theme=dark] .colab-df-convert {\n",
              "      background-color: #3B4455;\n",
              "      fill: #D2E3FC;\n",
              "    }\n",
              "\n",
              "    [theme=dark] .colab-df-convert:hover {\n",
              "      background-color: #434B5C;\n",
              "      box-shadow: 0px 1px 3px 1px rgba(0, 0, 0, 0.15);\n",
              "      filter: drop-shadow(0px 1px 2px rgba(0, 0, 0, 0.3));\n",
              "      fill: #FFFFFF;\n",
              "    }\n",
              "  </style>\n",
              "\n",
              "    <script>\n",
              "      const buttonEl =\n",
              "        document.querySelector('#df-55dd9233-0078-47eb-9a4f-c8f989d15f17 button.colab-df-convert');\n",
              "      buttonEl.style.display =\n",
              "        google.colab.kernel.accessAllowed ? 'block' : 'none';\n",
              "\n",
              "      async function convertToInteractive(key) {\n",
              "        const element = document.querySelector('#df-55dd9233-0078-47eb-9a4f-c8f989d15f17');\n",
              "        const dataTable =\n",
              "          await google.colab.kernel.invokeFunction('convertToInteractive',\n",
              "                                                    [key], {});\n",
              "        if (!dataTable) return;\n",
              "\n",
              "        const docLinkHtml = 'Like what you see? Visit the ' +\n",
              "          '<a target=\"_blank\" href=https://colab.research.google.com/notebooks/data_table.ipynb>data table notebook</a>'\n",
              "          + ' to learn more about interactive tables.';\n",
              "        element.innerHTML = '';\n",
              "        dataTable['output_type'] = 'display_data';\n",
              "        await google.colab.output.renderOutput(dataTable, element);\n",
              "        const docLink = document.createElement('div');\n",
              "        docLink.innerHTML = docLinkHtml;\n",
              "        element.appendChild(docLink);\n",
              "      }\n",
              "    </script>\n",
              "  </div>\n",
              "\n",
              "\n",
              "<div id=\"df-4488204a-81e3-4638-8313-974ec0c12f82\">\n",
              "  <button class=\"colab-df-quickchart\" onclick=\"quickchart('df-4488204a-81e3-4638-8313-974ec0c12f82')\"\n",
              "            title=\"Suggest charts\"\n",
              "            style=\"display:none;\">\n",
              "\n",
              "<svg xmlns=\"http://www.w3.org/2000/svg\" height=\"24px\"viewBox=\"0 0 24 24\"\n",
              "     width=\"24px\">\n",
              "    <g>\n",
              "        <path d=\"M19 3H5c-1.1 0-2 .9-2 2v14c0 1.1.9 2 2 2h14c1.1 0 2-.9 2-2V5c0-1.1-.9-2-2-2zM9 17H7v-7h2v7zm4 0h-2V7h2v10zm4 0h-2v-4h2v4z\"/>\n",
              "    </g>\n",
              "</svg>\n",
              "  </button>\n",
              "\n",
              "<style>\n",
              "  .colab-df-quickchart {\n",
              "      --bg-color: #E8F0FE;\n",
              "      --fill-color: #1967D2;\n",
              "      --hover-bg-color: #E2EBFA;\n",
              "      --hover-fill-color: #174EA6;\n",
              "      --disabled-fill-color: #AAA;\n",
              "      --disabled-bg-color: #DDD;\n",
              "  }\n",
              "\n",
              "  [theme=dark] .colab-df-quickchart {\n",
              "      --bg-color: #3B4455;\n",
              "      --fill-color: #D2E3FC;\n",
              "      --hover-bg-color: #434B5C;\n",
              "      --hover-fill-color: #FFFFFF;\n",
              "      --disabled-bg-color: #3B4455;\n",
              "      --disabled-fill-color: #666;\n",
              "  }\n",
              "\n",
              "  .colab-df-quickchart {\n",
              "    background-color: var(--bg-color);\n",
              "    border: none;\n",
              "    border-radius: 50%;\n",
              "    cursor: pointer;\n",
              "    display: none;\n",
              "    fill: var(--fill-color);\n",
              "    height: 32px;\n",
              "    padding: 0;\n",
              "    width: 32px;\n",
              "  }\n",
              "\n",
              "  .colab-df-quickchart:hover {\n",
              "    background-color: var(--hover-bg-color);\n",
              "    box-shadow: 0 1px 2px rgba(60, 64, 67, 0.3), 0 1px 3px 1px rgba(60, 64, 67, 0.15);\n",
              "    fill: var(--button-hover-fill-color);\n",
              "  }\n",
              "\n",
              "  .colab-df-quickchart-complete:disabled,\n",
              "  .colab-df-quickchart-complete:disabled:hover {\n",
              "    background-color: var(--disabled-bg-color);\n",
              "    fill: var(--disabled-fill-color);\n",
              "    box-shadow: none;\n",
              "  }\n",
              "\n",
              "  .colab-df-spinner {\n",
              "    border: 2px solid var(--fill-color);\n",
              "    border-color: transparent;\n",
              "    border-bottom-color: var(--fill-color);\n",
              "    animation:\n",
              "      spin 1s steps(1) infinite;\n",
              "  }\n",
              "\n",
              "  @keyframes spin {\n",
              "    0% {\n",
              "      border-color: transparent;\n",
              "      border-bottom-color: var(--fill-color);\n",
              "      border-left-color: var(--fill-color);\n",
              "    }\n",
              "    20% {\n",
              "      border-color: transparent;\n",
              "      border-left-color: var(--fill-color);\n",
              "      border-top-color: var(--fill-color);\n",
              "    }\n",
              "    30% {\n",
              "      border-color: transparent;\n",
              "      border-left-color: var(--fill-color);\n",
              "      border-top-color: var(--fill-color);\n",
              "      border-right-color: var(--fill-color);\n",
              "    }\n",
              "    40% {\n",
              "      border-color: transparent;\n",
              "      border-right-color: var(--fill-color);\n",
              "      border-top-color: var(--fill-color);\n",
              "    }\n",
              "    60% {\n",
              "      border-color: transparent;\n",
              "      border-right-color: var(--fill-color);\n",
              "    }\n",
              "    80% {\n",
              "      border-color: transparent;\n",
              "      border-right-color: var(--fill-color);\n",
              "      border-bottom-color: var(--fill-color);\n",
              "    }\n",
              "    90% {\n",
              "      border-color: transparent;\n",
              "      border-bottom-color: var(--fill-color);\n",
              "    }\n",
              "  }\n",
              "</style>\n",
              "\n",
              "  <script>\n",
              "    async function quickchart(key) {\n",
              "      const quickchartButtonEl =\n",
              "        document.querySelector('#' + key + ' button');\n",
              "      quickchartButtonEl.disabled = true;  // To prevent multiple clicks.\n",
              "      quickchartButtonEl.classList.add('colab-df-spinner');\n",
              "      try {\n",
              "        const charts = await google.colab.kernel.invokeFunction(\n",
              "            'suggestCharts', [key], {});\n",
              "      } catch (error) {\n",
              "        console.error('Error during call to suggestCharts:', error);\n",
              "      }\n",
              "      quickchartButtonEl.classList.remove('colab-df-spinner');\n",
              "      quickchartButtonEl.classList.add('colab-df-quickchart-complete');\n",
              "    }\n",
              "    (() => {\n",
              "      let quickchartButtonEl =\n",
              "        document.querySelector('#df-4488204a-81e3-4638-8313-974ec0c12f82 button');\n",
              "      quickchartButtonEl.style.display =\n",
              "        google.colab.kernel.accessAllowed ? 'block' : 'none';\n",
              "    })();\n",
              "  </script>\n",
              "</div>\n",
              "\n",
              "    </div>\n",
              "  </div>\n"
            ],
            "application/vnd.google.colaboratory.intrinsic+json": {
              "type": "dataframe",
              "variable_name": "sort_ascend",
              "summary": "{\n  \"name\": \"sort_ascend\",\n  \"rows\": 6,\n  \"fields\": [\n    {\n      \"column\": \"Country name\",\n      \"properties\": {\n        \"dtype\": \"string\",\n        \"num_unique_values\": 6,\n        \"samples\": [\n          \"Afghanistan\",\n          \"Sri Lanka\",\n          \"Nepal\"\n        ],\n        \"semantic_type\": \"\",\n        \"description\": \"\"\n      }\n    },\n    {\n      \"column\": \"score\",\n      \"properties\": {\n        \"dtype\": \"number\",\n        \"std\": 1.1770690152521501,\n        \"min\": 1.721,\n        \"max\": 5.158,\n        \"num_unique_values\": 6,\n        \"samples\": [\n          1.721,\n          3.898,\n          5.158\n        ],\n        \"semantic_type\": \"\",\n        \"description\": \"\"\n      }\n    },\n    {\n      \"column\": \"Log GDP per capita\",\n      \"properties\": {\n        \"dtype\": \"number\",\n        \"std\": 0.24536129822501887,\n        \"min\": 0.628,\n        \"max\": 1.361,\n        \"num_unique_values\": 6,\n        \"samples\": [\n          0.628,\n          1.361,\n          0.965\n        ],\n        \"semantic_type\": \"\",\n        \"description\": \"\"\n      }\n    },\n    {\n      \"column\": \"Social support\",\n      \"properties\": {\n        \"dtype\": \"number\",\n        \"std\": 0.4410239978353408,\n        \"min\": 0.0,\n        \"max\": 1.179,\n        \"num_unique_values\": 6,\n        \"samples\": [\n          0.0,\n          1.179,\n          0.99\n        ],\n        \"semantic_type\": \"\",\n        \"description\": \"\"\n      }\n    },\n    {\n      \"column\": \"Healthy life expectancy\",\n      \"properties\": {\n        \"dtype\": \"number\",\n        \"std\": 0.1250818398756057,\n        \"min\": 0.242,\n        \"max\": 0.586,\n        \"num_unique_values\": 6,\n        \"samples\": [\n          0.242,\n          0.586,\n          0.443\n        ],\n        \"semantic_type\": \"\",\n        \"description\": \"\"\n      }\n    },\n    {\n      \"column\": \"Freedom to make life choices\",\n      \"properties\": {\n        \"dtype\": \"number\",\n        \"std\": 0.2870224149202753,\n        \"min\": 0.0,\n        \"max\": 0.775,\n        \"num_unique_values\": 6,\n        \"samples\": [\n          0.0,\n          0.583,\n          0.653\n        ],\n        \"semantic_type\": \"\",\n        \"description\": \"\"\n      }\n    },\n    {\n      \"column\": \"Generosity\",\n      \"properties\": {\n        \"dtype\": \"number\",\n        \"std\": 0.03926661007353024,\n        \"min\": 0.091,\n        \"max\": 0.209,\n        \"num_unique_values\": 5,\n        \"samples\": [\n          0.144,\n          0.209,\n          0.14\n        ],\n        \"semantic_type\": \"\",\n        \"description\": \"\"\n      }\n    },\n    {\n      \"column\": \"Perceptions of corruption\",\n      \"properties\": {\n        \"dtype\": \"number\",\n        \"std\": 0.046427362621626486,\n        \"min\": 0.031,\n        \"max\": 0.167,\n        \"num_unique_values\": 6,\n        \"samples\": [\n          0.088,\n          0.031,\n          0.115\n        ],\n        \"semantic_type\": \"\",\n        \"description\": \"\"\n      }\n    },\n    {\n      \"column\": \"Dystopia + residual\",\n      \"properties\": {\n        \"dtype\": \"number\",\n        \"std\": 0.718495859417436,\n        \"min\": 0.014,\n        \"max\": 1.907,\n        \"num_unique_values\": 6,\n        \"samples\": [\n          0.672,\n          0.014,\n          1.783\n        ],\n        \"semantic_type\": \"\",\n        \"description\": \"\"\n      }\n    },\n    {\n      \"column\": \"GDP-Score Gap\",\n      \"properties\": {\n        \"dtype\": \"number\",\n        \"std\": 1.0527984454142525,\n        \"min\": 1.093,\n        \"max\": 4.1930000000000005,\n        \"num_unique_values\": 6,\n        \"samples\": [\n          1.093,\n          2.537,\n          4.1930000000000005\n        ],\n        \"semantic_type\": \"\",\n        \"description\": \"\"\n      }\n    }\n  ]\n}"
            }
          },
          "metadata": {},
          "execution_count": 26
        }
      ]
    },
    {
      "cell_type": "code",
      "source": [
        "#2\n",
        "#In descending order\n",
        "sort_descend = southAsia_df.sort_values('GDP-Score Gap', ascending=False)\n",
        "sort_descend.head()"
      ],
      "metadata": {
        "id": "PC5PWAFJqdyy"
      },
      "execution_count": null,
      "outputs": []
    },
    {
      "cell_type": "code",
      "source": [
        "#3\n",
        "\n",
        "import matplotlib.pyplot as plt\n",
        "\n",
        "sort = southAsia_df.sort_values('GDP-Score Gap', ascending=False)\n",
        "top3 = sort.head(3)\n",
        "bottom3 = sort.tail(3)\n",
        "print(top3)\n",
        "print(bottom3)\n",
        "\n",
        "# Concatenate the country names for x-axis\n",
        "countries = pd.concat([top3['Country name'], bottom3['Country name']])\n",
        "\n",
        "# Concatenate the GDP-Score Gaps for y-axis\n",
        "gaps = pd.concat([top3['GDP-Score Gap'], bottom3['GDP-Score Gap']])\n",
        "\n",
        "plt.figure(figsize=(10, 6))\n",
        "\n",
        "plt.bar(countries, gaps, color='skyblue')\n",
        "\n",
        "plt.title('GDP-Score Gap for Top 3 and Bottom 3 Countries')\n",
        "plt.xlabel('Country')\n",
        "plt.ylabel('GDP-Score Gap')\n",
        "plt.tight_layout()\n",
        "\n",
        "plt.show()"
      ],
      "metadata": {
        "id": "fBhU2GJbrR3m",
        "colab": {
          "base_uri": "https://localhost:8080/",
          "height": 878
        },
        "outputId": "3b429abe-416c-4301-cba6-a83589093525"
      },
      "execution_count": null,
      "outputs": [
        {
          "output_type": "stream",
          "name": "stdout",
          "text": [
            "    Country name  score  Log GDP per capita  Social support  \\\n",
            "92         Nepal  5.158               0.965           0.990   \n",
            "107     Pakistan  4.657               1.069           0.600   \n",
            "125        India  4.054               1.166           0.653   \n",
            "\n",
            "     Healthy life expectancy  Freedom to make life choices  Generosity  \\\n",
            "92                     0.443                         0.653       0.209   \n",
            "107                    0.321                         0.542       0.144   \n",
            "125                    0.417                         0.767       0.174   \n",
            "\n",
            "     Perceptions of corruption  Dystopia + residual  GDP-Score Gap  \n",
            "92                       0.115                1.783          4.193  \n",
            "107                      0.074                1.907          3.588  \n",
            "125                      0.122                0.756          2.888  \n",
            "    Country name  score  Log GDP per capita  Social support  \\\n",
            "128   Bangladesh  3.886               1.122           0.249   \n",
            "127    Sri Lanka  3.898               1.361           1.179   \n",
            "142  Afghanistan  1.721               0.628           0.000   \n",
            "\n",
            "     Healthy life expectancy  Freedom to make life choices  Generosity  \\\n",
            "128                    0.513                         0.775       0.140   \n",
            "127                    0.586                         0.583       0.144   \n",
            "142                    0.242                         0.000       0.091   \n",
            "\n",
            "     Perceptions of corruption  Dystopia + residual  GDP-Score Gap  \n",
            "128                      0.167                0.919          2.764  \n",
            "127                      0.031                0.014          2.537  \n",
            "142                      0.088                0.672          1.093  \n"
          ]
        },
        {
          "output_type": "display_data",
          "data": {
            "text/plain": [
              "<Figure size 1000x600 with 1 Axes>"
            ],
            "image/png": "[encoded data removed]"
          },
          "metadata": {}
        }
      ]
    },
    {
      "cell_type": "code",
      "source": [
        "#4\n",
        "\n",
        "top_country = top3.iloc[0]\n",
        "bottom_country = bottom3.iloc[0]\n",
        "\n",
        "relevant_columns = [\n",
        "    'score', 'Log GDP per capita', 'Social support',\n",
        "    'Healthy life expectancy', 'Freedom to make life choices',\n",
        "    'Generosity', 'Perceptions of corruption'\n",
        "]\n",
        "\n",
        "comparison_df = pd.DataFrame({\n",
        "    'Top Country (Positive Gap)': top_country[relevant_columns],\n",
        "    'Bottom Country (Negative Gap)': bottom_country[relevant_columns]\n",
        "}).T\n",
        "\n",
        "comparison_df['GDP-Score Gap'] = [\n",
        "    top_country['GDP-Score Gap'], bottom_country['GDP-Score Gap']\n",
        "]\n",
        "\n",
        "print(\"\\nComparison between Top and Bottom Gap Countries:\")\n",
        "print(comparison_df)\n",
        "\n",
        "differences = comparison_df.diff().iloc[1]\n",
        "print(\"\\nDifferences in Data (Top - Bottom):\")\n",
        "print(differences)\n",
        "\n",
        "print(\"\\nPossible effects on the Gap:\")\n",
        "print(\"1. Social Support: Higher in the top country, likely contributing to a higher happiness score.\")\n",
        "print(\"2. Healthy Life Expectancy: A significant positive factor in the top country.\")\n",
        "print(\"3. Freedom to Make Choices: Greater freedom correlates with the positive gap.\")\n",
        "print(\"4. Perceptions of Corruption: Lower corruption perception in the top country improves happiness.\")\n",
        "print(\"5. Generosity: Slight differences suggest minimal impact but may still contribute positively.\")\n"
      ],
      "metadata": {
        "colab": {
          "base_uri": "https://localhost:8080/"
        },
        "id": "A7P19zI6TFd9",
        "outputId": "2632315f-2160-49cd-9478-6de4b383cd2d"
      },
      "execution_count": null,
      "outputs": [
        {
          "output_type": "stream",
          "name": "stdout",
          "text": [
            "\n",
            "Comparison between Top and Bottom Gap Countries:\n",
            "                               score Log GDP per capita Social support  \\\n",
            "Top Country (Positive Gap)     5.158              0.965           0.99   \n",
            "Bottom Country (Negative Gap)  3.886              1.122          0.249   \n",
            "\n",
            "                              Healthy life expectancy  \\\n",
            "Top Country (Positive Gap)                      0.443   \n",
            "Bottom Country (Negative Gap)                   0.513   \n",
            "\n",
            "                              Freedom to make life choices Generosity  \\\n",
            "Top Country (Positive Gap)                           0.653      0.209   \n",
            "Bottom Country (Negative Gap)                        0.775       0.14   \n",
            "\n",
            "                              Perceptions of corruption  GDP-Score Gap  \n",
            "Top Country (Positive Gap)                        0.115          4.193  \n",
            "Bottom Country (Negative Gap)                     0.167          2.764  \n",
            "\n",
            "Differences in Data (Top - Bottom):\n",
            "score                          -1.272\n",
            "Log GDP per capita              0.157\n",
            "Social support                 -0.741\n",
            "Healthy life expectancy          0.07\n",
            "Freedom to make life choices    0.122\n",
            "Generosity                     -0.069\n",
            "Perceptions of corruption       0.052\n",
            "GDP-Score Gap                  -1.429\n",
            "Name: Bottom Country (Negative Gap), dtype: object\n",
            "\n",
            "Effects on the Gap:\n",
            "1. Social Support: Higher in the top country, likely contributing to a higher happiness score.\n",
            "2. Healthy Life Expectancy: A significant positive factor in the top country.\n",
            "3. Freedom to Make Choices: Greater freedom correlates with the positive gap.\n",
            "4. Perceptions of Corruption: Lower corruption perception in the top country improves happiness.\n",
            "5. Generosity: Slight differences suggest minimal impact but may still contribute positively.\n"
          ]
        }
      ]
    },
    {
      "cell_type": "code",
      "source": [],
      "metadata": {
        "id": "dY2nbxPpWKiK"
      },
      "execution_count": null,
      "outputs": []
    },
    {
      "cell_type": "markdown",
      "source": [
        "***Problem3*** *Comparative Analysis*"
      ],
      "metadata": {
        "id": "S_zL7CjLWocY"
      }
    },
    {
      "cell_type": "code",
      "source": [
        "middle_east_countries = [ \"Bahrain\", \"Iran\", \"Iraq\", \"Israel\", \"Jordan\",\n",
        " \"Kuwait\", \"Lebanon\", \"Oman\", \"Palestine\", \"Qatar\", \"Saudi Arabia\", \"Syria\",\n",
        " \"United Arab Emirates\", \"Yemen\"]\n",
        "\n",
        "middleEast_df = df[df['Country name'].isin(middle_east_countries)]\n",
        "print(\"\\nMiddle Eastern Dataset:\")\n",
        "print(middleEast_df)\n",
        "\n",
        "\n"
      ],
      "metadata": {
        "colab": {
          "base_uri": "https://localhost:8080/"
        },
        "id": "1Jg-LAQ0WuSg",
        "outputId": "c3a577fd-6c7b-4b73-9471-f85189f9fbe1"
      },
      "execution_count": null,
      "outputs": [
        {
          "output_type": "stream",
          "name": "stdout",
          "text": [
            "\n",
            "Middle Eastern Dataset:\n",
            "             Country name  score  Log GDP per capita  Social support  \\\n",
            "4                  Israel  7.341               1.803           1.513   \n",
            "12                 Kuwait  6.951               1.845           1.364   \n",
            "21   United Arab Emirates  6.733               1.983           1.164   \n",
            "27           Saudi Arabia  6.594               1.842           1.361   \n",
            "61                Bahrain  5.959                 NaN             NaN   \n",
            "91                   Iraq  5.166               1.249           0.996   \n",
            "99                   Iran  4.923               1.435           1.136   \n",
            "124                Jordan  4.186               1.262           0.983   \n",
            "132                 Yemen  3.561               0.671           1.281   \n",
            "141               Lebanon  2.707               1.377           0.577   \n",
            "\n",
            "     Healthy life expectancy  Freedom to make life choices  Generosity  \\\n",
            "4                      0.740                         0.641       0.153   \n",
            "12                     0.661                         0.827       0.200   \n",
            "21                     0.563                         0.815       0.209   \n",
            "27                     0.511                         0.787       0.114   \n",
            "61                       NaN                           NaN         NaN   \n",
            "91                     0.498                         0.425       0.141   \n",
            "99                     0.571                         0.366       0.235   \n",
            "124                    0.594                         0.593       0.059   \n",
            "132                    0.293                         0.362       0.080   \n",
            "141                    0.556                         0.173       0.068   \n",
            "\n",
            "     Perceptions of corruption  Dystopia + residual Happiness Category  \n",
            "4                        0.193                2.298               High  \n",
            "12                       0.172                1.884               High  \n",
            "21                       0.258                1.741               High  \n",
            "27                       0.188                1.790               High  \n",
            "61                         NaN                  NaN             Medium  \n",
            "91                       0.048                1.809             Medium  \n",
            "99                       0.123                1.057             Medium  \n",
            "124                      0.189                0.504             Medium  \n",
            "132                      0.113                0.760                Low  \n",
            "141                      0.029               -0.073                Low  \n"
          ]
        }
      ]
    },
    {
      "cell_type": "code",
      "source": [
        "output = '/content/drive/MyDrive/Concepts and technology of AI/Assignment1/middleEast.csv'\n",
        "middleEast_df.to_csv(output, index=False)\n",
        "print(f\"\\nMiddle Eastern Dataset has been saved to: {output}\")\n"
      ],
      "metadata": {
        "colab": {
          "base_uri": "https://localhost:8080/"
        },
        "id": "gESKqxFDYQyH",
        "outputId": "1a3b302d-eb35-4ebe-a18a-af157022a2e1"
      },
      "execution_count": null,
      "outputs": [
        {
          "output_type": "stream",
          "name": "stdout",
          "text": [
            "\n",
            "Middle Eastern Dataset has been saved to: /content/drive/MyDrive/Concepts and technology of AI/Assignment1/middleEast.csv\n"
          ]
        }
      ]
    },
    {
      "cell_type": "markdown",
      "source": [
        "**1.Descriptive Statistics**"
      ],
      "metadata": {
        "id": "Ddc8Y33x1BDR"
      }
    },
    {
      "cell_type": "code",
      "source": [
        "middleEast_df = pd.read_csv('/content/drive/MyDrive/Concepts and technology of AI/Assignment1/middleEast.csv')\n",
        "\n",
        "mean_middleEast = middleEast_df['score'].mean()\n",
        "print(\"Mean of middle East score:\", mean_middleEast)\n",
        "\n",
        "mean_southAsia = southAsia_df['score'].mean()\n",
        "print(\"Mean of southAsia score:\", mean_southAsia)\n",
        "print(\"\\n\")\n",
        "\n",
        "std_middleEast = middleEast_df['score'].std()\n",
        "print(\"Standard Deviation of middle East score:\", std_middleEast)\n",
        "\n",
        "std_southAsia = southAsia_df['score'].std()\n",
        "print(\"Standard Deviation of south asia score:\", std_southAsia)\n",
        "print(\"\\n\")\n",
        "\n",
        "\n",
        "mean_comparison = pd.DataFrame({\n",
        "    'Region': ['Middle East', 'South Asia'],\n",
        "    'Mean Score': [mean_middleEast, mean_southAsia]\n",
        "})\n",
        "\n",
        "print(\"The region that has higher happiness Score on average is\")\n",
        "print(mean_comparison.max())\n"
      ],
      "metadata": {
        "colab": {
          "base_uri": "https://localhost:8080/"
        },
        "id": "pBJswEUUZIvX",
        "outputId": "0985e5b2-26c8-47fe-e93e-24a74089665f"
      },
      "execution_count": 4,
      "outputs": [
        {
          "output_type": "stream",
          "name": "stdout",
          "text": [
            "Mean of middle East score: 5.412100000000001\n",
            "Mean of southAsia score: 3.895666666666667\n",
            "\n",
            "\n",
            "Standard Deviation of middle East score: 1.5662011684327144\n",
            "Standard Deviation of south asia score: 1.1770690152521504\n",
            "\n",
            "\n",
            "The region that has higher happiness Score on average is\n",
            "Region        South Asia\n",
            "Mean Score        5.4121\n",
            "dtype: object\n"
          ]
        }
      ]
    },
    {
      "cell_type": "markdown",
      "source": [
        "**2 Top and Bottom Performers**"
      ],
      "metadata": {
        "id": "MP9TRF5G0l42"
      }
    },
    {
      "cell_type": "code",
      "source": [
        "import seaborn as sns\n",
        "import matplotlib.pyplot as plt\n",
        "\n",
        "top_mid3 = middleEast_df.sort_values('score', ascending = False)\n",
        "print(\"\\n Middle Eastern top3:\\n\", top_mid3.head(3))\n",
        "\n",
        "bottom_mid3 = middleEast_df.sort_values('score', ascending = False)\n",
        "print(\"Middle East bottom3:\\n\", bottom_mid3.tail(3))\n",
        "\n",
        "top_south3 = southAsia_df.sort_values('score', ascending = False)\n",
        "print(\"\\nsouth Asian top 3:\\n\",top_south3.head(3))\n",
        "\n",
        "bottom_south3 = southAsia_df.sort_values('score', ascending = False)\n",
        "print(\"\\nSouth Asia bottom3 according to score:\\n\", bottom_south3.tail(3))\n",
        "\n",
        "\n",
        "combined_southAsia = pd.concat([bottom_south3.tail(3), top_south3.head(3)])\n",
        "combined_middleEast = pd.concat([bottom_mid3.tail(3), top_mid3.head(3)])\n",
        "\n",
        "\n",
        "plt.figure(figsize=(12, 6))\n",
        "\n",
        "sns.barplot(x=\"Country name\", y = \"score\", data = combined_southAsia, palette = 'Greens_r')\n",
        "plt.title('Top 3 and Bottom 3 Countries in South Asia by Happiness Score')\n",
        "plt.xlabel('Country Name')\n",
        "plt.ylabel('score')\n",
        "plt.grid(True)\n",
        "plt.show()\n",
        "\n",
        "\n",
        "plt.figure(figsize=(12, 6))\n",
        "sns.barplot(x=\"Country name\", y = \"score\", data = combined_middleEast, palette = 'Blues_r')\n",
        "plt.title('Top 3 and Bottom 3 Countries in the middle east by Happiness Score')\n",
        "plt.xlabel('Country name')\n",
        "plt.ylabel('score')\n",
        "plt.grid(True)\n",
        "plt.show()"
      ],
      "metadata": {
        "colab": {
          "base_uri": "https://localhost:8080/",
          "height": 1000
        },
        "id": "b9Ef7L3TZVV8",
        "outputId": "b70c32e1-d8e4-4dc4-c7b6-2867c6454e14"
      },
      "execution_count": 8,
      "outputs": [
        {
          "output_type": "stream",
          "name": "stdout",
          "text": [
            "\n",
            " Middle Eastern top3:\n",
            "            Country name  score  Log GDP per capita  Social support  \\\n",
            "0                Israel  7.341               1.803           1.513   \n",
            "1                Kuwait  6.951               1.845           1.364   \n",
            "2  United Arab Emirates  6.733               1.983           1.164   \n",
            "\n",
            "   Healthy life expectancy  Freedom to make life choices  Generosity  \\\n",
            "0                    0.740                         0.641       0.153   \n",
            "1                    0.661                         0.827       0.200   \n",
            "2                    0.563                         0.815       0.209   \n",
            "\n",
            "   Perceptions of corruption  Dystopia + residual  \n",
            "0                      0.193                2.298  \n",
            "1                      0.172                1.884  \n",
            "2                      0.258                1.741  \n",
            "Middle East bottom3:\n",
            "   Country name  score  Log GDP per capita  Social support  \\\n",
            "7       Jordan  4.186               1.262           0.983   \n",
            "8        Yemen  3.561               0.671           1.281   \n",
            "9      Lebanon  2.707               1.377           0.577   \n",
            "\n",
            "   Healthy life expectancy  Freedom to make life choices  Generosity  \\\n",
            "7                    0.594                         0.593       0.059   \n",
            "8                    0.293                         0.362       0.080   \n",
            "9                    0.556                         0.173       0.068   \n",
            "\n",
            "   Perceptions of corruption  Dystopia + residual  \n",
            "7                      0.189                0.504  \n",
            "8                      0.113                0.760  \n",
            "9                      0.029               -0.073  \n",
            "\n",
            "south Asian top 3:\n",
            "     Country name  score  Log GDP per capita  Social support  \\\n",
            "92         Nepal  5.158               0.965           0.990   \n",
            "107     Pakistan  4.657               1.069           0.600   \n",
            "125        India  4.054               1.166           0.653   \n",
            "\n",
            "     Healthy life expectancy  Freedom to make life choices  Generosity  \\\n",
            "92                     0.443                         0.653       0.209   \n",
            "107                    0.321                         0.542       0.144   \n",
            "125                    0.417                         0.767       0.174   \n",
            "\n",
            "     Perceptions of corruption  Dystopia + residual  \n",
            "92                       0.115                1.783  \n",
            "107                      0.074                1.907  \n",
            "125                      0.122                0.756  \n",
            "\n",
            "South Asia bottom3 according to score:\n",
            "     Country name  score  Log GDP per capita  Social support  \\\n",
            "127    Sri Lanka  3.898               1.361           1.179   \n",
            "128   Bangladesh  3.886               1.122           0.249   \n",
            "142  Afghanistan  1.721               0.628           0.000   \n",
            "\n",
            "     Healthy life expectancy  Freedom to make life choices  Generosity  \\\n",
            "127                    0.586                         0.583       0.144   \n",
            "128                    0.513                         0.775       0.140   \n",
            "142                    0.242                         0.000       0.091   \n",
            "\n",
            "     Perceptions of corruption  Dystopia + residual  \n",
            "127                      0.031                0.014  \n",
            "128                      0.167                0.919  \n",
            "142                      0.088                0.672  \n"
          ]
        },
        {
          "output_type": "stream",
          "name": "stderr",
          "text": [
            "<ipython-input-8-02c5f2c0015e>:23: FutureWarning: \n",
            "\n",
            "Passing `palette` without assigning `hue` is deprecated and will be removed in v0.14.0. Assign the `x` variable to `hue` and set `legend=False` for the same effect.\n",
            "\n",
            "  sns.barplot(x=\"Country name\", y = \"score\", data = combined_southAsia, palette = 'Greens_r')\n"
          ]
        },
        {
          "output_type": "display_data",
          "data": {
            "text/plain": [
              "<Figure size 1200x600 with 1 Axes>"
            ],
            "image/png": "[encoded data removed]"
          },
          "metadata": {}
        },
        {
          "output_type": "stream",
          "name": "stderr",
          "text": [
            "<ipython-input-8-02c5f2c0015e>:32: FutureWarning: \n",
            "\n",
            "Passing `palette` without assigning `hue` is deprecated and will be removed in v0.14.0. Assign the `x` variable to `hue` and set `legend=False` for the same effect.\n",
            "\n",
            "  sns.barplot(x=\"Country name\", y = \"score\", data = combined_middleEast, palette = 'Blues_r')\n"
          ]
        },
        {
          "output_type": "display_data",
          "data": {
            "text/plain": [
              "<Figure size 1200x600 with 1 Axes>"
            ],
            "image/png": "[encoded data removed]"
          },
          "metadata": {}
        }
      ]
    },
    {
      "cell_type": "markdown",
      "source": [
        "**3 Metric Comparison**"
      ],
      "metadata": {
        "id": "6BSfZtwb0daK"
      }
    },
    {
      "cell_type": "code",
      "source": [
        "import numpy as np\n",
        "mean_southAsia = southAsia_df[['Log GDP per capita', 'Social support', 'Healthy life expectancy']].mean()\n",
        "mean_middleEast = middleEast_df[['Log GDP per capita', 'Social support', 'Healthy life expectancy']].mean()\n",
        "x = np.arange(len(mean_southAsia))\n",
        "\n",
        "plt.figure(figsize=(10, 6))\n",
        "plt.bar(x - 0.2, mean_southAsia, width=0.4, label='South Asia', color='red')\n",
        "plt.bar(x + 0.2, mean_middleEast, width=0.4, label='Middle East', color='green')\n",
        "plt.title('Comparison of Key Metrics between South Asia and Middle East')\n",
        "plt.xlabel('Metric')\n",
        "plt.ylabel('Average Value')\n",
        "plt.xticks(x, ['GDP per Capita', 'Social Support', 'Healthy Life Expectancy'])\n",
        "plt.legend()\n",
        "plt.show()"
      ],
      "metadata": {
        "colab": {
          "base_uri": "https://localhost:8080/",
          "height": 528
        },
        "id": "niBPw8ute23e",
        "outputId": "ca8d5d89-8c6a-4be0-894f-04ebeedb1644"
      },
      "execution_count": null,
      "outputs": [
        {
          "output_type": "display_data",
          "data": {
            "text/plain": [
              "<Figure size 1000x600 with 1 Axes>"
            ],
            "image/png": "[encoded data removed]"
          },
          "metadata": {}
        }
      ]
    },
    {
      "cell_type": "code",
      "source": [
        "disparity = mean_southAsia - mean_middleEast\n",
        "disparity.idxmax()"
      ],
      "metadata": {
        "colab": {
          "base_uri": "https://localhost:8080/",
          "height": 35
        },
        "id": "r0JHYkuNfm2g",
        "outputId": "77695466-335e-46cf-b485-8b5e3f67ac1f"
      },
      "execution_count": null,
      "outputs": [
        {
          "output_type": "execute_result",
          "data": {
            "text/plain": [
              "'Healthy life expectancy'"
            ],
            "application/vnd.google.colaboratory.intrinsic+json": {
              "type": "string"
            }
          },
          "metadata": {},
          "execution_count": 36
        }
      ]
    },
    {
      "cell_type": "markdown",
      "source": [
        "**4**. **Happiness** **Disparity**"
      ],
      "metadata": {
        "id": "FmlmDodXwn98"
      }
    },
    {
      "cell_type": "code",
      "source": [
        "southAsia_range = southAsia_df['score'].max() - southAsia_df['score'].min()\n",
        "print(\"Range of South Asia:\", southAsia_range)\n",
        "\n",
        "middleEast_range = middleEast_df['score'].max() - middleEast_df['score'].min()\n",
        "print(\"Range of Middle East:\", middleEast_range)\n",
        "print(\"\\n\")\n",
        "\n",
        "southAsia_CV = (southAsia_df['score'].std() / southAsia_df['score'].mean()) * 100\n",
        "middleEast_CV = (middleEast_df['score'].std() / middleEast_df['score'].mean()) * 100\n",
        "\n",
        "print(\"Coefficient of Variation for South Asia:\", southAsia_CV)\n",
        "print(\"Coefficient of Variation for Middle East:\", middleEast_CV)\n",
        "print(\"\\n\")\n",
        "\n",
        "if southAsia_CV > middleEast_CV:\n",
        "    print(\"South Asia has a greater variability in happiness\")\n",
        "elif middleEast_CV > southAsia_CV:\n",
        "    print(\"Middle East has a greater variability in happiness\")\n"
      ],
      "metadata": {
        "colab": {
          "base_uri": "https://localhost:8080/"
        },
        "id": "zBzIcm6ooKXR",
        "outputId": "35f94010-7cc1-45c8-f0fc-b4003242cf6d"
      },
      "execution_count": null,
      "outputs": [
        {
          "output_type": "stream",
          "name": "stdout",
          "text": [
            "Range of South Asia: 3.4370000000000003\n",
            "Range of Middle East: 4.634\n",
            "\n",
            "\n",
            "Coefficient of Variation for South Asia: 30.21482883337427\n",
            "Coefficient of Variation for Middle East: 28.938880812119404\n",
            "\n",
            "\n",
            "South Asia has a greater variability in happiness\n"
          ]
        }
      ]
    },
    {
      "cell_type": "markdown",
      "source": [
        "**5 Correlation Analysis**"
      ],
      "metadata": {
        "id": "-I7NGXowyKcW"
      }
    },
    {
      "cell_type": "code",
      "source": [
        "metrics_to_correlate = ['Freedom to make life choices', 'Generosity']\n",
        "\n",
        "for metric in metrics_to_correlate:\n",
        "    plt.figure(figsize=(7, 6))  # Create a new figure for each metric\n",
        "    sns.scatterplot(data=middleEast_df, x=metric, y='score', label='Middle East')\n",
        "\n",
        "    sns.scatterplot(data=southAsia_df, x=metric, y='score', label='South Asia')\n",
        "\n",
        "\n",
        "    plt.title(f\"Correlation of {metric} with Happiness Score\")\n",
        "    plt.xlabel(metric)\n",
        "    plt.ylabel('Happiness Score')\n",
        "    plt.legend()\n",
        "    plt.tight_layout()\n",
        "    plt.show()"
      ],
      "metadata": {
        "colab": {
          "base_uri": "https://localhost:8080/",
          "height": 1000
        },
        "id": "6a6RoPGMxPOI",
        "outputId": "ebadb5d4-c068-4ab1-e295-6bc0d6d2280c"
      },
      "execution_count": null,
      "outputs": [
        {
          "output_type": "display_data",
          "data": {
            "text/plain": [
              "<Figure size 700x600 with 1 Axes>"
            ],
            "image/png": "[encoded data removed]"
          },
          "metadata": {}
        },
        {
          "output_type": "display_data",
          "data": {
            "text/plain": [
              "<Figure size 700x600 with 1 Axes>"
            ],
            "image/png": "[encoded data removed]"
          },
          "metadata": {}
        }
      ]
    },
    {
      "cell_type": "markdown",
      "source": [
        "**6 Outlier Detection**"
      ],
      "metadata": {
        "id": "xhu3QkFJzQIn"
      }
    },
    {
      "cell_type": "code",
      "source": [
        "outlierScore_southAsia = 1.5 * (4.657000 - 3.886000) #Q3 - Q1\n",
        "outlierScore_middleEast = 1.5 * (6.698250 - 4.370250)\n",
        "\n",
        "outlierCapita_southAsia = 1.5 * (1.122000 - 0.965000) #Q3 - Q1\n",
        "outlierCapita_middleEast = 1.5 * (1.842000 - 1.262000)\n",
        "\n",
        "print(\"South Asian Region\")\n",
        "print(\"Outlier in score: \",outlierScore_southAsia)\n",
        "print(\"Outlier in GDP per capita: \",outlierCapita_southAsia)\n",
        "\n",
        "print(\"Middle East Region\")\n",
        "print(\"Outlier in score: \",outlierScore_middleEast)\n",
        "print(\"Outlier in GDP per capita: \",outlierCapita_middleEast)"
      ],
      "metadata": {
        "colab": {
          "base_uri": "https://localhost:8080/"
        },
        "id": "hOnnqXI8Qmf-",
        "outputId": "c2ea4065-4f8a-4ce0-9639-b97ceb3c6a6b"
      },
      "execution_count": null,
      "outputs": [
        {
          "output_type": "stream",
          "name": "stdout",
          "text": [
            "South Asian Region\n",
            "Outlier in score:  1.1564999999999999\n",
            "Outlier in GDP per capita:  0.2355000000000002\n",
            "Middle East Region\n",
            "Outlier in score:  3.491999999999999\n",
            "Outlier in GDP per capita:  0.8700000000000001\n"
          ]
        }
      ]
    },
    {
      "cell_type": "code",
      "source": [
        "import matplotlib.pyplot as plt\n",
        "import pandas as pd\n",
        "\n",
        "# South Asian\n",
        "plt.figure(figsize = (13, 6))\n",
        "plt.scatter(southAsia_df[\"score\"], southAsia_df[\"Log GDP per capita\"], color=\"blue\", label=\"Countries\")\n",
        "\n",
        "#outliers in red\n",
        "plt.scatter(outlierScore_southAsia, outlierCapita_southAsia, color=\"red\", marker=\"*\", label=\"Outliers\")\n",
        "print(\"Scatter plot : South Asia \")\n",
        "\n",
        "plt.xlabel('Log GDP per capita')\n",
        "plt.ylabel('Score')\n",
        "plt.title('South Asia: Outliers Based on Score and GDP per Capita')\n",
        "plt.legend()\n",
        "plt.grid(True)\n",
        "plt.show()\n",
        "\n",
        "\n",
        "# Middle East\n",
        "plt.figure(figsize = (13, 6))\n",
        "plt.scatter(middleEast_df[\"score\"], middleEast_df[\"Log GDP per capita\"], color=\"blue\", label=\"Countries\")\n",
        "\n",
        "# Highlight outliers in red\n",
        "plt.scatter(outlierScore_middleEast, outlierCapita_middleEast, color=\"red\", marker=\"*\", label=\"Outliers\")\n",
        "print(\"Scatter plot : Middle East\")\n",
        "\n",
        "plt.xlabel('Log GDP per capita')\n",
        "plt.ylabel('Score')\n",
        "plt.title('Middle east: Outliers Based on Score and GDP per Capita')\n",
        "plt.legend()\n",
        "plt.grid(True)\n",
        "plt.show()"
      ],
      "metadata": {
        "colab": {
          "base_uri": "https://localhost:8080/",
          "height": 855
        },
        "id": "4TkZESGCzPym",
        "outputId": "6e586436-8764-4061-b9f9-df27c92cf207"
      },
      "execution_count": null,
      "outputs": [
        {
          "output_type": "stream",
          "name": "stdout",
          "text": [
            "Scatter plot : South Asia \n"
          ]
        },
        {
          "output_type": "display_data",
          "data": {
            "text/plain": [
              "<Figure size 1300x600 with 1 Axes>"
            ],
            "image/png": "[encoded data removed]"
          },
          "metadata": {}
        },
        {
          "output_type": "stream",
          "name": "stdout",
          "text": [
            "Scatter plot : Middle East\n"
          ]
        },
        {
          "output_type": "display_data",
          "data": {
            "text/plain": [
              "<Figure size 1300x600 with 1 Axes>"
            ],
            "image/png": "[encoded data removed]"
          },
          "metadata": {}
        }
      ]
    },
    {
      "cell_type": "markdown",
      "source": [
        "**7 Visualization**"
      ],
      "metadata": {
        "id": "xiLzLHI60EkU"
      }
    },
    {
      "cell_type": "code",
      "source": [
        "import pandas as pd\n",
        "import matplotlib.pyplot as plt\n",
        "import seaborn as sns\n",
        "\n",
        "plt.figure(figsize=(10, 6))\n",
        "sns.boxplot(x='Region', y='score', data=pd.concat([southAsia_df.assign(Region='South Asia'), middleEast_df.assign(Region='Middle East')]))\n",
        "plt.title('Distribution of Score: South Asia vs Middle East')\n",
        "plt.xlabel('Region')\n",
        "plt.ylabel('Score')\n",
        "plt.show()"
      ],
      "metadata": {
        "colab": {
          "base_uri": "https://localhost:8080/",
          "height": 564
        },
        "id": "f94c6sk00Ihl",
        "outputId": "af65f96d-8f96-4225-8678-9439ab10349e"
      },
      "execution_count": 24,
      "outputs": [
        {
          "output_type": "display_data",
          "data": {
            "text/plain": [
              "<Figure size 1000x600 with 1 Axes>"
            ],
            "image/png": "[encoded data removed]"
          },
          "metadata": {}
        }
      ]
    },
    {
      "cell_type": "code",
      "source": [],
      "metadata": {
        "id": "d87FFQPe0ULc"
      },
      "execution_count": null,
      "outputs": []
    }
  ]
}