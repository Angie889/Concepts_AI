{
  "nbformat": 4,
  "nbformat_minor": 0,
  "metadata": {
    "colab": {
      "provenance": []
    },
    "kernelspec": {
      "name": "python3",
      "display_name": "Python 3"
    },
    "language_info": {
      "name": "python"
    }
  },
  "cells": [
    {
      "cell_type": "markdown",
      "source": [
        "**Decision Tree**"
      ],
      "metadata": {
        "id": "6eilMMDFUjhc"
      }
    },
    {
      "cell_type": "code",
      "execution_count": 1,
      "metadata": {
        "id": "cQmB_JvhUPgS"
      },
      "outputs": [],
      "source": [
        "from sklearn.datasets import load_wine\n",
        "from sklearn.model_selection import train_test_split\n",
        "\n",
        "data = load_wine()\n",
        "X = data.data\n",
        "y = data.target\n",
        "\n",
        "X_train, X_test, y_train, y_test = train_test_split(X, y, test_size=0.2, random_state=42)"
      ]
    },
    {
      "cell_type": "code",
      "source": [
        "from sklearn.tree import DecisionTreeClassifier\n",
        "from sklearn.metrics import f1_score\n",
        "\n",
        "decision_tree = DecisionTreeClassifier(random_state=42)\n",
        "decision_tree.fit(X_train, y_train)\n",
        "\n",
        "y_pred_dt = decision_tree.predict(X_test)\n",
        "f1_dt = f1_score(y_test, y_pred_dt, average='weighted')\n",
        "\n",
        "print(\"Decision Tree F1 Score : \", f1_dt)"
      ],
      "metadata": {
        "colab": {
          "base_uri": "https://localhost:8080/"
        },
        "id": "LIYwqUX5UuOz",
        "outputId": "ba32e3d5-7e74-422a-cd01-eaccd864c4d9"
      },
      "execution_count": 2,
      "outputs": [
        {
          "output_type": "stream",
          "name": "stdout",
          "text": [
            "Decision Tree F1 Score :  0.9439974457215836\n"
          ]
        }
      ]
    },
    {
      "cell_type": "code",
      "source": [
        "from sklearn.ensemble import RandomForestClassifier\n",
        "\n",
        "random_forest = RandomForestClassifier(random_state=42)\n",
        "random_forest.fit(X_train, y_train)\n",
        "\n",
        "y_pred_rf = random_forest.predict(X_test)\n",
        "f1_rf = f1_score(y_test, y_pred_rf, average='weighted')\n",
        "\n",
        "print(\"Random Forest F1 Score : \" , f1_rf)"
      ],
      "metadata": {
        "colab": {
          "base_uri": "https://localhost:8080/"
        },
        "id": "crB-iiVTUxnc",
        "outputId": "0db7bf4b-b8d9-4223-8f64-bbc6ea657e53"
      },
      "execution_count": 3,
      "outputs": [
        {
          "output_type": "stream",
          "name": "stdout",
          "text": [
            "Random Forest F1 Score :  1.0\n"
          ]
        }
      ]
    },
    {
      "cell_type": "code",
      "source": [
        "print(\"Model Comparison:\")\n",
        "print(\"Decision Tree F1 Score : \" , f1_dt)\n",
        "print(\"Random Forest F1 Score : \" , f1_rf)"
      ],
      "metadata": {
        "colab": {
          "base_uri": "https://localhost:8080/"
        },
        "id": "SBmTQUoGUzvD",
        "outputId": "8b076b3c-1461-49f6-d924-2358eb702bdd"
      },
      "execution_count": 4,
      "outputs": [
        {
          "output_type": "stream",
          "name": "stdout",
          "text": [
            "Model Comparison:\n",
            "Decision Tree F1 Score :  0.9439974457215836\n",
            "Random Forest F1 Score :  1.0\n"
          ]
        }
      ]
    },
    {
      "cell_type": "code",
      "source": [
        "from sklearn.ensemble import RandomForestClassifier\n",
        "from sklearn.model_selection import GridSearchCV\n",
        "\n",
        "param_grid = {\n",
        "    'n_estimators': [50, 100, 150],\n",
        "    'max_depth': [None, 10, 20],\n",
        "    'min_samples_split': [2, 5, 10]\n",
        "}\n",
        "\n",
        "rf_model = RandomForestClassifier(random_state=42)\n",
        "\n",
        "grid_search = GridSearchCV(estimator=rf_model, param_grid=param_grid, scoring='f1_weighted', cv=5)\n",
        "grid_search.fit(X_train, y_train)\n",
        "\n",
        "best_params = grid_search.best_params_\n",
        "best_score = grid_search.best_score_\n",
        "\n",
        "print(\"Best Hyperparameters : \", best_params)\n",
        "print(\"Best F1 Score : \", best_score)"
      ],
      "metadata": {
        "colab": {
          "base_uri": "https://localhost:8080/"
        },
        "id": "5unRekqdU1sg",
        "outputId": "33fd443a-45b7-4508-eafb-9593795e2720"
      },
      "execution_count": 5,
      "outputs": [
        {
          "output_type": "stream",
          "name": "stdout",
          "text": [
            "Best Hyperparameters :  {'max_depth': None, 'min_samples_split': 2, 'n_estimators': 100}\n",
            "Best F1 Score :  0.9782952128219708\n"
          ]
        }
      ]
    },
    {
      "cell_type": "code",
      "source": [
        "import numpy as np\n",
        "import pandas as pd\n",
        "from sklearn.model_selection import train_test_split, RandomizedSearchCV\n",
        "from sklearn.tree import DecisionTreeRegressor\n",
        "from sklearn.ensemble import RandomForestRegressor\n",
        "from sklearn.metrics import mean_squared_error, r2_score"
      ],
      "metadata": {
        "id": "i-yAb53DU3UN"
      },
      "execution_count": 6,
      "outputs": []
    },
    {
      "cell_type": "code",
      "source": [
        "#splitting in train/test\n",
        "X_train, X_test, y_train, y_test = train_test_split(X, y, test_size=0.2, random_state=42)"
      ],
      "metadata": {
        "id": "1WNCPkMTU6Ht"
      },
      "execution_count": 7,
      "outputs": []
    },
    {
      "cell_type": "code",
      "source": [
        "dt_regressor = DecisionTreeRegressor(random_state=42)\n",
        "dt_regressor.fit(X_train, y_train)\n",
        "\n",
        "y_pred_dt = dt_regressor.predict(X_test)\n",
        "mse_dt = mean_squared_error(y_test, y_pred_dt)\n",
        "r2_dt = r2_score(y_test, y_pred_dt)\n",
        "\n",
        "print(\"Decision Tree Regressor Performance:\")\n",
        "print(\"MSE:\", mse_dt)\n",
        "print(\"R2 Score:\", r2_dt)"
      ],
      "metadata": {
        "colab": {
          "base_uri": "https://localhost:8080/"
        },
        "id": "oshiKyxYU8r8",
        "outputId": "7f656a5a-2935-4b6a-c33e-8705d699cd63"
      },
      "execution_count": 8,
      "outputs": [
        {
          "output_type": "stream",
          "name": "stdout",
          "text": [
            "Decision Tree Regressor Performance:\n",
            "MSE: 0.16666666666666666\n",
            "R2 Score: 0.7142857142857142\n"
          ]
        }
      ]
    },
    {
      "cell_type": "code",
      "source": [
        "rf_regressor = RandomForestRegressor(random_state=42)\n",
        "rf_regressor.fit(X_train, y_train)\n",
        "\n",
        "y_pred_rf = rf_regressor.predict(X_test)\n",
        "mse_rf = mean_squared_error(y_test, y_pred_rf)\n",
        "r2_rf = r2_score(y_test, y_pred_rf)\n",
        "\n",
        "print(\"\\nRandom Forest Regressor Performance:\")\n",
        "print(\"MSE:\", mse_rf)\n",
        "print(\"R2 Score:\", r2_rf)"
      ],
      "metadata": {
        "colab": {
          "base_uri": "https://localhost:8080/"
        },
        "id": "PliKBco0U-Vp",
        "outputId": "d7565ff0-8361-4110-ff9e-5582e1d086a5"
      },
      "execution_count": 9,
      "outputs": [
        {
          "output_type": "stream",
          "name": "stdout",
          "text": [
            "\n",
            "Random Forest Regressor Performance:\n",
            "MSE: 0.06483333333333333\n",
            "R2 Score: 0.8888571428571428\n"
          ]
        }
      ]
    },
    {
      "cell_type": "code",
      "source": [
        "param_dist = {\n",
        "    'n_estimators': [50, 100, 150, 200],\n",
        "    'max_depth': [None, 10, 20, 30],\n",
        "    'min_samples_split': [2, 5, 10, 15]\n",
        "}\n",
        "\n",
        "rf_random_search = RandomizedSearchCV(\n",
        "    estimator=RandomForestRegressor(random_state=42),\n",
        "    param_distributions=param_dist,\n",
        "    scoring='neg_mean_squared_error',\n",
        "    n_iter=10,\n",
        "    cv=5,\n",
        "    random_state=42,\n",
        "    n_jobs=-1\n",
        ")\n",
        "\n",
        "rf_random_search.fit(X_train, y_train)\n",
        "best_params = rf_random_search.best_params_\n",
        "best_model = rf_random_search.best_estimator_\n",
        "\n",
        "print(\"\\nBest Hyperparameters for Random Forest Regressor:\")\n",
        "print(best_params)\n",
        "\n",
        "#evaluating on test Set\n",
        "y_pred_best_rf = best_model.predict(X_test)\n",
        "mse_best_rf = mean_squared_error(y_test, y_pred_best_rf)\n",
        "r2_best_rf = r2_score(y_test, y_pred_best_rf)\n",
        "\n",
        "print(\"\\nTuned Random Forest Regressor Performance:\")\n",
        "print(\"MSE:\", mse_best_rf)\n",
        "print(\"R2 Score:\", r2_best_rf)"
      ],
      "metadata": {
        "colab": {
          "base_uri": "https://localhost:8080/"
        },
        "id": "XWMofDu6U_ur",
        "outputId": "dcfcdc94-797d-4e57-f14c-bf42a5e285f3"
      },
      "execution_count": 10,
      "outputs": [
        {
          "output_type": "stream",
          "name": "stdout",
          "text": [
            "\n",
            "Best Hyperparameters for Random Forest Regressor:\n",
            "{'n_estimators': 150, 'min_samples_split': 10, 'max_depth': 30}\n",
            "\n",
            "Tuned Random Forest Regressor Performance:\n",
            "MSE: 0.06063930689331011\n",
            "R2 Score: 0.8960469024686112\n"
          ]
        }
      ]
    },
    {
      "cell_type": "code",
      "source": [],
      "metadata": {
        "id": "tO7BvVyZVBhb"
      },
      "execution_count": null,
      "outputs": []
    }
  ]
}