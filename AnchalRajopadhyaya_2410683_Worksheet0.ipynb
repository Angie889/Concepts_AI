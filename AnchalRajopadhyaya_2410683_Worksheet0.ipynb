{
 "cells": [
  {
   "cell_type": "code",
   "execution_count": 2,
   "id": "95390b02-fef0-4721-9fdf-d2b6e8a4a023",
   "metadata": {},
   "outputs": [
    {
     "name": "stdout",
     "output_type": "stream",
     "text": [
      "daata type of variable age =  <class 'int'>\n",
      "data type of variable pi = <class 'float'>\n",
      "data type of variable temperature = <class 'float'>\n"
     ]
    }
   ],
   "source": [
    "#Numeric\n",
    "age = 23 #int\n",
    "pi = 3.14 #float\n",
    "temperature = -5.5 #float\n",
    "print(\"data type of variable age = \", type(age))\n",
    "print(\"data type of variable pi =\", type(pi))\n",
    "print(\"data type of variable temperature =\", type(temperature))"
   ]
  },
  {
   "cell_type": "code",
   "execution_count": 3,
   "id": "216c1b80-093d-4619-81fb-fac08a255830",
   "metadata": {},
   "outputs": [
    {
     "name": "stdout",
     "output_type": "stream",
     "text": [
      "data type of variable name = <class 'str'>\n",
      "data type of greeting = <class 'str'>\n",
      "data type of address = <class 'str'>\n",
      "the 1st letter of the name is: A\n",
      "the last letter of the name is: e\n",
      "the second letter to the fourth of the name is: lic\n",
      "the first two letters of the name are: Al\n",
      "Substring starting from the third letter is: ice\n"
     ]
    }
   ],
   "source": [
    "#String\n",
    "name = \"Alice\"\n",
    "greeting = \"Hello\"\n",
    "address = \"123 Main St\"\n",
    "print(\"data type of variable name =\", type(name))\n",
    "print(\"data type of greeting =\", type(greeting))\n",
    "print(\"data type of address =\", type(address))\n",
    "#slice one element\n",
    "print(\"the 1st letter of the name is:\", name[0])\n",
    "print(\"the last letter of the name is:\", name[-1])\n",
    "#slice a range of elements\n",
    "print(\"the second letter to the fourth of the name is:\",name[1:4])\n",
    "print(\"the first two letters of the name are:\",name[:2])\n",
    "print(\"Substring starting from the third letter is:\", name[2:])"
   ]
  },
  {
   "cell_type": "code",
   "execution_count": 8,
   "id": "9f297e20-2760-4b16-aaf5-1acc0c884827",
   "metadata": {},
   "outputs": [
    {
     "data": {
      "text/plain": [
       "[False, 'Hello', 'world', True]"
      ]
     },
     "execution_count": 8,
     "metadata": {},
     "output_type": "execute_result"
    }
   ],
   "source": [
    "#list\n",
    "list1 = [1,2,3, 4]\n",
    "mixed_list = [1, \"Hello\", \"world\", True]\n",
    "#mutable list\n",
    "mixed_list[0] = False\n",
    "mixed_list"
   ]
  },
  {
   "cell_type": "code",
   "execution_count": 10,
   "id": "13986d2c-dac1-4bb5-bf38-d864493ef984",
   "metadata": {},
   "outputs": [
    {
     "name": "stdout",
     "output_type": "stream",
     "text": [
      "first element: red\n",
      "last two element: ('green', 'yellow')\n",
      "middle two element: ('blue', 'green')\n"
     ]
    },
    {
     "ename": "TypeError",
     "evalue": "'tuple' object does not support item assignment",
     "output_type": "error",
     "traceback": [
      "\u001b[1;31m---------------------------------------------------------------------------\u001b[0m",
      "\u001b[1;31mTypeError\u001b[0m                                 Traceback (most recent call last)",
      "Cell \u001b[1;32mIn[10], line 6\u001b[0m\n\u001b[0;32m      4\u001b[0m \u001b[38;5;28mprint\u001b[39m(\u001b[38;5;124m\"\u001b[39m\u001b[38;5;124mlast two element:\u001b[39m\u001b[38;5;124m\"\u001b[39m, colors[\u001b[38;5;241m2\u001b[39m:])\n\u001b[0;32m      5\u001b[0m \u001b[38;5;28mprint\u001b[39m(\u001b[38;5;124m\"\u001b[39m\u001b[38;5;124mmiddle two element:\u001b[39m\u001b[38;5;124m\"\u001b[39m, colors[\u001b[38;5;241m1\u001b[39m:\u001b[38;5;241m3\u001b[39m])\n\u001b[1;32m----> 6\u001b[0m colors[\u001b[38;5;241m0\u001b[39m] \u001b[38;5;241m=\u001b[39m \u001b[38;5;124m'\u001b[39m\u001b[38;5;124mpurple\u001b[39m\u001b[38;5;124m'\u001b[39m\n\u001b[0;32m      7\u001b[0m colors\n",
      "\u001b[1;31mTypeError\u001b[0m: 'tuple' object does not support item assignment"
     ]
    }
   ],
   "source": [
    "#Tuple\n",
    "colors = (\"red\", \"blue\", \"green\", \"yellow\")\n",
    "print(\"first element:\", colors[0])\n",
    "print(\"last two element:\", colors[2:])\n",
    "print(\"middle two element:\", colors[1:3])\n",
    "colors[0] = 'purple'\n",
    "colors"
   ]
  },
  {
   "cell_type": "code",
   "execution_count": 17,
   "id": "b198ed57-a16b-4cf2-9e41-60aeb373c729",
   "metadata": {},
   "outputs": [
    {
     "name": "stdout",
     "output_type": "stream",
     "text": [
      "Hello my name isJohn. I am 30 years old and I live in Pittsburgh.\n",
      "All Keys: ['name', 'age', 'city']\n",
      "All values: ['John', 30, 'Pittsburgh']\n"
     ]
    }
   ],
   "source": [
    "#dict\n",
    "person = {'name':'John','age':30,'city':'Pittsburgh'}\n",
    "print(f\"Hello my name is{person['name']}. I am {person['age']} years old and I live in {person['city']}.\")\n",
    "print(\"All Keys:\", list(person.keys()))\n",
    "print(\"All values:\", list(person.values()))\n"
   ]
  },
  {
   "cell_type": "code",
   "execution_count": 18,
   "id": "a179e7a8-b7df-4a7f-85f4-b071e4982efa",
   "metadata": {},
   "outputs": [
    {
     "name": "stdout",
     "output_type": "stream",
     "text": [
      "{1, 2, 3, 4, 5, 6}\n"
     ]
    }
   ],
   "source": [
    "#Set\n",
    "unique_numbers = {1,2,3,3,3,3,4,4,5,6}\n",
    "print(unique_numbers)"
   ]
  },
  {
   "cell_type": "code",
   "execution_count": 24,
   "id": "23378b01-93d2-42d3-9283-73e7f7b971a4",
   "metadata": {},
   "outputs": [
    {
     "name": "stdout",
     "output_type": "stream",
     "text": [
      "data type of the variable is_student = <class 'bool'>\n",
      "data type of the variable has_license = <class 'bool'>\n"
     ]
    }
   ],
   "source": [
    "#Boolean\n",
    "is_student = True\n",
    "has_license = False\n",
    "print(\"data type of the variable is_student =\", type(is_student))\n",
    "print(\"data type of the variable has_license =\", type(has_license))\n",
    "result = None #null value"
   ]
  },
  {
   "cell_type": "code",
   "execution_count": 27,
   "id": "710798c2-4538-4d35-b713-61bd7c518df9",
   "metadata": {},
   "outputs": [
    {
     "name": "stdout",
     "output_type": "stream",
     "text": [
      "Non-positive\n"
     ]
    }
   ],
   "source": [
    "#4.1 if-else statement\n",
    "num = -155\n",
    "if num > 0:\n",
    "    print(\"Positive\")\n",
    "elif num == 0:\n",
    "    print(\"Zero\")\n",
    "else:\n",
    "    print(\"Non-positive\")"
   ]
  },
  {
   "cell_type": "code",
   "execution_count": 29,
   "id": "d6f4a9ba-4985-4f24-a396-a329a78139bd",
   "metadata": {},
   "outputs": [
    {
     "name": "stdout",
     "output_type": "stream",
     "text": [
      "At least one condition is true\n",
      "x is not equal to 0\n"
     ]
    }
   ],
   "source": [
    "#4.1 Comparison\n",
    "x = 5\n",
    "y = 84\n",
    "if x > 0 and y < 20:\n",
    "    print(\"Both conditions are true\")\n",
    "if x > 0 or y > 20:\n",
    "    print(\"At least one condition is true\")\n",
    "if not x == 0:\n",
    "    print(\"x is not equal to 0\")"
   ]
  },
  {
   "cell_type": "code",
   "execution_count": 31,
   "id": "7870ebe7-fbb8-40c7-ac87-169c7de349f3",
   "metadata": {},
   "outputs": [
    {
     "name": "stdout",
     "output_type": "stream",
     "text": [
      "Either a or b is False\n",
      "At least one of a or b is True\n",
      "a is True\n"
     ]
    }
   ],
   "source": [
    "#4.1 logical \n",
    "\n",
    "# Define two boolean variables\n",
    "a = True\n",
    "b = False\n",
    "# Using 'and' operator\n",
    "if a and b:\n",
    "    print(\"Both a and b are True\")\n",
    "else:\n",
    "    print(\"Either a or b is False\")\n",
    "# Using 'or' operator\n",
    "if a or b:\n",
    "    print(\"At least one of a or b is True\")\n",
    "else:\n",
    "    print(\"Both a and b are False\")\n",
    "# Using \"not' operator\n",
    "if not a:\n",
    "    print(\"a is False\")\n",
    "else:\n",
    "    print(\"a is True\")"
   ]
  },
  {
   "cell_type": "code",
   "execution_count": 34,
   "id": "9e47f330-95c6-40a3-9a78-13c34be9f19b",
   "metadata": {},
   "outputs": [
    {
     "name": "stdout",
     "output_type": "stream",
     "text": [
      "apple\n",
      "banana\n",
      "cherry\n",
      "Count is: 0\n",
      "Count is: 1\n",
      "Count is: 2\n",
      "Count is: 3\n",
      "Count is: 4\n",
      "loop 1\n",
      "apple\n"
     ]
    }
   ],
   "source": [
    "#4.2 Various loops\n",
    "\n",
    "# for loop:\n",
    "fruits = [\"apple\", \"banana\",\"cherry\"]\n",
    "for fruit in fruits:\n",
    "    print(fruit)\n",
    "# While loop:\n",
    "count = 0\n",
    "while count < 5:\n",
    "    print(\"Count is:\", count)\n",
    "    count += 1\n",
    "    \n",
    "fruits = [\"apple\", \"banana\", \"orange\"]\n",
    "print(\"loop 1\")\n",
    "for fruit in fruits:\n",
    "    print(fruit)\n",
    "    if fruit == \"apple\":\n",
    "        break\n",
    "    \n",
    "    print(\"loop 2\")\n",
    "    for fruit in fruits:\n",
    "        if fruit == \"apple\":\n",
    "            continue\n",
    "        else:\n",
    "            print(fruit)"
   ]
  },
  {
   "cell_type": "code",
   "execution_count": 41,
   "id": "1595088e-dba6-4b2b-b6b6-f5249889ce87",
   "metadata": {},
   "outputs": [],
   "source": [
    "#writing a function\n",
    "def add_binary(a,b):\n",
    "    '''\n",
    "    Returns the sum of two decimal numbers in binary digits.\n",
    "    \n",
    "    Parameters:\n",
    "        a(int): A decimal integer\n",
    "        b(int): Another decimal integer\n",
    "    Return:\n",
    "        binary_sum(str): Binary string of the sum of a and b\n",
    "    '''\n",
    "    binary_sum = bin(a+b)[2:]\n",
    "    return binary_sum"
   ]
  },
  {
   "cell_type": "code",
   "execution_count": 45,
   "id": "a153b8b7-8ce1-415a-94cd-864016fabd74",
   "metadata": {},
   "outputs": [
    {
     "name": "stdout",
     "output_type": "stream",
     "text": [
      "Choose conversion type:\n",
      "1. Celsius to Fahrenheit\n",
      "2. Fahrenheit to Celsius\n"
     ]
    },
    {
     "name": "stdout",
     "output_type": "stream",
     "text": [
      "Enter 1 or 2:  1\n",
      "Enter temperature in Celsius:  96\n"
     ]
    },
    {
     "name": "stdout",
     "output_type": "stream",
     "text": [
      "96.0C is equal to 204.8F\n"
     ]
    },
    {
     "data": {
      "text/plain": [
       "204.8"
      ]
     },
     "execution_count": 45,
     "metadata": {},
     "output_type": "execute_result"
    }
   ],
   "source": [
    "#5.4 user-defined function\n",
    "\n",
    "def temp_converter():\n",
    "    print(\"Choose conversion type:\")\n",
    "    print(\"1. Celsius to Fahrenheit\")\n",
    "    print(\"2. Fahrenheit to Celsius\")\n",
    "    \n",
    "    choice = input(\"Enter 1 or 2: \")\n",
    "    if choice == \"1\":\n",
    "        #celsius-Fahrenheit \n",
    "        celsius = float(input(\"Enter temperature in Celsius: \"))\n",
    "        fahrenheit = (celsius * 9/5) + 32\n",
    "        print(f\"{celsius}C is equal to {fahrenheit}F\")\n",
    "        return fahrenheit\n",
    "    elif choice == \"2\":\n",
    "        #fahrenheit-celsius\n",
    "        fahrenheit = float(input(\"Enter temperature in Fahrenheit: \"))\n",
    "        celsius = (fahrenheit - 32) * 5/9\n",
    "        print(f\"{fahrenheit}F is equal to {celsius}C\")\n",
    "        return celsius\n",
    "    else:\n",
    "        print(\"Invalid choice. Please enter 1 or 2.\")\n",
    "        return None\n",
    "\n",
    "temp_converter()\n",
    "    "
   ]
  },
  {
   "cell_type": "code",
   "execution_count": 61,
   "id": "da4bc3de-a48f-4720-ac6e-1611099408b0",
   "metadata": {},
   "outputs": [
    {
     "name": "stdout",
     "output_type": "stream",
     "text": [
      "Cold temperatures: [8.2, 7.9, 9.0, 8.5, 7.7, 8.4, 9.5, 8.1, 7.6, 8.0, 7.8, 8.7, 9.2, 8.3, 8.9, 7.8]\n",
      "mild temperatures: [14.1, 13.5, 13.0, 12.9, 13.3, 14.0, 13.4, 14.2, 12.8, 13.7, 13.6, 13.8, 13.9, 12.7, 13.1, 12.5]\n",
      "Comfortable temperatures: [17.4, 18.0, 17.8, 16.5, 17.2, 16.7, 18.3, 17.9, 17.0, 16.8, 17.5, 17.1, 18.1, 16.4, 18.2, 16.6]\n",
      "number of mild temperatures: 16\n",
      "number of comfortable temperatures: 16\n",
      "number of cold temperatures: 16\n"
     ]
    }
   ],
   "source": [
    "#7\n",
    "#Task1\n",
    "#temperatures at Tribhuwan International Airport\n",
    "temperatures = [8.2, 17.4, 14.1, 7.9, 18.0, 13.5, 9.0, 17.8, 13.0, 8.5,\n",
    "16.5, 12.9, 7.7, 17.2, 13.3, 8.4, 16.7, 14.0, 9.5, 18.3, 13.4, 8.1,\n",
    "17.9, 14.2, 7.6, 17.0, 12.8, 8.0, 16.8, 13.7, 7.8, 17.5, 13.6, 8.7,\n",
    "17.1, 13.8, 9.2, 18.1, 13.9, 8.3, 16.4, 12.7, 8.9, 18.2, 13.1, 7.8,\n",
    "16.6, 12.5]\n",
    "\n",
    "#creating empty list\n",
    "cold = [] #below 10\n",
    "mild = [] #between 10 and 15\n",
    "comfortable = [] #between 15 and 20\n",
    "\n",
    "for temp in temperatures:\n",
    "    if temp<10:\n",
    "        cold.append(temp)\n",
    "    elif temp>10 and temp<15:\n",
    "        mild.append(temp)\n",
    "    elif temp>15 and temp<20:\n",
    "        comfortable.append(temp)\n",
    "    else:\n",
    "        print(\"Invalid\")\n",
    "    \n",
    "print(\"Cold temperatures:\", cold)\n",
    "print(\"mild temperatures:\", mild)\n",
    "print(\"Comfortable temperatures:\", comfortable)\n",
    "\n",
    "#Task2\n",
    "#counting the items of the list\n",
    "print(\"number of mild temperatures:\", len(mild))\n",
    "print(\"number of comfortable temperatures:\", len(comfortable))\n",
    "print(\"number of cold temperatures:\", len(cold))\n",
    "    "
   ]
  },
  {
   "cell_type": "code",
   "execution_count": 14,
   "id": "c0348a7c-2cfd-4798-8a23-3a460fbd4d98",
   "metadata": {},
   "outputs": [
    {
     "name": "stdout",
     "output_type": "stream",
     "text": [
      "The temperatures in Fahrenheit: [46.76, 63.32, 57.38, 46.22, 64.4, 56.3, 48.2, 64.04, 55.4, 47.3, 61.7, 55.22, 45.86, 62.96, 55.94, 47.12, 62.06, 57.2, 49.1, 64.94, 56.12, 46.58, 64.22, 57.56, 45.68, 62.6, 55.04, 46.4, 62.24, 56.66, 46.04, 63.5, 56.48, 47.66, 62.78, 56.84, 48.56, 64.58, 57.02, 46.94, 61.52, 54.86, 48.02, 64.76, 55.58, 46.04, 61.88, 54.5]\n",
      "Night: [8.2, 17.4, 14.1, 7.9, 18.0, 13.5, 9.0, 17.8, 7.6, 17.0, 12.8, 8.0, 16.8, 13.7, 7.8, 17.5]\n",
      "Evening: [13.0, 8.5, 16.5, 12.9, 7.7, 17.2, 13.3, 8.4, 13.6, 8.7, 17.1, 13.8, 9.2, 18.1, 13.9, 8.3]\n",
      "Day: [16.7, 14.0, 9.5, 18.3, 13.4, 8.1, 17.9, 14.2, 16.4, 12.7, 8.9, 18.2, 13.1, 7.8, 16.6, 12.5]\n",
      "The average day-time temperature is: 13.643749999999999\n"
     ]
    },
    {
     "data": {
      "image/png": "[encoded data removed]",
      "text/plain": [
       "<Figure size 640x480 with 1 Axes>"
      ]
     },
     "metadata": {},
     "output_type": "display_data"
    }
   ],
   "source": [
    "#Task3\n",
    "#conversion from celsius to fahrenheit\n",
    "import matplotlib.pyplot as plt\n",
    "\n",
    "converted = []\n",
    "\n",
    "temperatures = [8.2, 17.4, 14.1, 7.9, 18.0, 13.5, 9.0, 17.8, 13.0, 8.5,\n",
    "16.5, 12.9, 7.7, 17.2, 13.3, 8.4, 16.7, 14.0, 9.5, 18.3, 13.4, 8.1,\n",
    "17.9, 14.2, 7.6, 17.0, 12.8, 8.0, 16.8, 13.7, 7.8, 17.5, 13.6, 8.7,\n",
    "17.1, 13.8, 9.2, 18.1, 13.9, 8.3, 16.4, 12.7, 8.9, 18.2, 13.1, 7.8,\n",
    "16.6, 12.5]\n",
    "\n",
    "for temp in temperatures:\n",
    "    F = (temp * 9/5) + 32\n",
    "    items = round(F, 2)\n",
    "    converted.append(items)\n",
    "\n",
    "print(\"The temperatures in Fahrenheit:\", converted)\n",
    "\n",
    "#Task4\n",
    "night = []\n",
    "evening = []\n",
    "day = []\n",
    "\n",
    "for temp in range(len(temperatures)):\n",
    "    time = temp % 24\n",
    "    if time < 8:  #(00-08)\n",
    "        night.append(temperatures[temp])\n",
    "    elif time < 16: #08-16\n",
    "        evening.append(temperatures[temp])\n",
    "    elif time<24: #16-24\n",
    "        day.append(temperatures[temp])\n",
    "        \n",
    "print(\"Night:\", night)\n",
    "print(\"Evening:\", evening)\n",
    "print(\"Day:\", day)\n",
    "\n",
    "average = sum(day)/ len(day)\n",
    "print(\"The average day-time temperature is:\", average)\n",
    "\n",
    "plt.plot(range(1,len(day) + 1), day)\n",
    "plt.title(\"Day vs Temperature\")\n",
    "plt.xlabel(\"Day\")\n",
    "plt.ylabel(\"Temperature\")\n",
    "plt.grid(True)\n",
    "plt.show()"
   ]
  },
  {
   "cell_type": "code",
   "execution_count": 82,
   "id": "346c3e89-776d-4766-aaff-6c3452d4e346",
   "metadata": {},
   "outputs": [
    {
     "name": "stdout",
     "output_type": "stream",
     "text": [
      "120\n"
     ]
    }
   ],
   "source": [
    "#Recursive approach on factorial\n",
    "def factorial(n):\n",
    "    \"\"\"\n",
    "    Calculate the factorial of a non-negative integer n.\n",
    "    The factorial of a number n (denoted n!) is the product of all positive integers less\n",
    "    than or equal to n.\n",
    "    Specifically:\n",
    "    - If n is 0, the factorial is defined as 1 (base case).\n",
    "    - For any positive integer n, the factorial is calculated recursively as n * (n-1)\n",
    "    * (n-2) * ... * 1.\n",
    "    Args:\n",
    "    n (int): A non-negative integer for which to calculate the factorial.\n",
    "    Returns:\n",
    "    int: The factorial of the input number n.\n",
    "    Raises:\n",
    "    ValueError: If the input n is a negative integer, as factorial is only defined for\n",
    "    non-negative integers.\n",
    "    \"\"\"\n",
    "    if n == 0: # Base case\n",
    "        return 1\n",
    "    else: # Recursive case\n",
    "        return n * factorial(n - 1)\n",
    "\n",
    "print(factorial(5))"
   ]
  },
  {
   "cell_type": "code",
   "execution_count": 34,
   "id": "91d37398-8c96-4cab-8390-64a63179c839",
   "metadata": {},
   "outputs": [
    {
     "data": {
      "text/plain": [
       "36"
      ]
     },
     "execution_count": 34,
     "metadata": {},
     "output_type": "execute_result"
    }
   ],
   "source": [
    "#8.1.1 Task1\n",
    "def sum_nested_list(nested_list):\n",
    "    total = 0\n",
    "    for element in nested_list:\n",
    "        if isinstance(element, list): # Check if the element is a list\n",
    "            total += sum_nested_list(element) # Recursively sum the nested list\n",
    "        else:\n",
    "            total += element # Add the number to the total\n",
    "    return total\n",
    "#sum_nested_list([1,[3,4],[6,7],[2,5]]) #28\n",
    "sum_nested_list([1, [2, [3, 4], 5], 6, [7, 8]]) #36\n",
    "#sum_nested_list([1, [2, 3], [4, [5]]]) #15"
   ]
  },
  {
   "cell_type": "code",
   "execution_count": 33,
   "id": "b58b07a5-5ac5-49ce-90a7-73cc2f5ab3cb",
   "metadata": {},
   "outputs": [
    {
     "name": "stdout",
     "output_type": "stream",
     "text": [
      "['acb', 'bac', 'abc', 'cba', 'cab', 'bca']\n",
      "['aba', 'aab', 'baa']\n"
     ]
    }
   ],
   "source": [
    "#8.1.1 Task2\n",
    "def generate_permutations(s):\n",
    "    if len(s)==0:\n",
    "        return[\"\"]\n",
    "    permutations = set()\n",
    "    \n",
    "    for i in range(len(s)):\n",
    "        remaining = s[:i] + s[i+1:]\n",
    "        for permutation in generate_permutations(remaining):\n",
    "            permutations.add(s[i] + permutation)\n",
    "        \n",
    "    return list(permutations)\n",
    "\n",
    "print(generate_permutations(\"abc\"))\n",
    "print(generate_permutations(\"aab\"))"
   ]
  },
  {
   "cell_type": "code",
   "execution_count": 10,
   "id": "e0e6fd2b-e923-4bde-9e70-b439d862b02c",
   "metadata": {},
   "outputs": [
    {
     "name": "stdout",
     "output_type": "stream",
     "text": [
      "The total dir size is: 1400 KB\n"
     ]
    }
   ],
   "source": [
    "#Task3\n",
    "def calculate_dir_size(dir):\n",
    "    total_s = 0\n",
    "    for key, value in dir.items():\n",
    "        if isinstance(value, dict):\n",
    "            total_s += calculate_dir_size(value)\n",
    "        else:\n",
    "            total_s += value\n",
    "    return total_s\n",
    "\n",
    "# Sample directory structure\n",
    "directory_structure = {\n",
    "    \"file1.txt\": 200,\n",
    "    \"file2.txt\": 300,\n",
    "    \"subdir1\": {\n",
    "    \"file3.txt\": 400,\n",
    "    \"file4.txt\": 100\n",
    "    },\n",
    "    \"subdir2\": {\n",
    "    \"subsubdir1\": {\n",
    "    \"file5.txt\": 250\n",
    "    },\n",
    "        \"file6.txt\": 150\n",
    "    }\n",
    "}\n",
    "\n",
    "total_dir_size = calculate_dir_size(directory_structure)\n",
    "print(\"The total dir size is:\", total_dir_size, \"KB\")\n"
   ]
  },
  {
   "cell_type": "code",
   "execution_count": 18,
   "id": "4a161172-99f3-4e62-bb1c-a762ac8e17a8",
   "metadata": {},
   "outputs": [
    {
     "data": {
      "text/plain": [
       "55"
      ]
     },
     "execution_count": 18,
     "metadata": {},
     "output_type": "execute_result"
    }
   ],
   "source": [
    "#Fibonacci Top-Down approach\n",
    "def fibonacci(n, memo={}):\n",
    "    \"\"\"\n",
    "    Computes the nth Fibonacci number using memoization to optimize the recursive\n",
    "    solution.\n",
    "    This function uses memoization to store previously computed Fibonacci numbers,\n",
    "    reducing redundant calculations and improving performance.\n",
    "    Parameters:\n",
    "    n (int): The index in the Fibonacci sequence for which the value is to be computed.\n",
    "    Must be a non-negative integer.\n",
    "    memo (dict, optional): A dictionary used to store previously computed Fibonacci\n",
    "    values.\n",
    "    \n",
    "    It is initialized as an empty dictionary by default and is used\n",
    "    during the recursive calls to avoid recalculating results.\n",
    "    \n",
    "    Returns:\n",
    "    int: The nth Fibonacci number.\n",
    "    Example:\n",
    "    >>> fibonacci(5)\n",
    "    5\n",
    "    >>> fibonacci(10)\n",
    "    55\n",
    "    Time Complexity:\n",
    "    - The time complexity is O(n) because each Fibonacci number is computed only once.\n",
    "    Space Complexity:\n",
    "    - The space complexity is O(n) due to the memoization dictionary storing the results.\n",
    "    \"\"\"\n",
    "    if n in memo:\n",
    "        return memo[n]\n",
    "    #base case 0&1\n",
    "    if n <= 1:\n",
    "        return n\n",
    "    #recursive calls with memoization\n",
    "    memo[n] = fibonacci(n - 1, memo) + fibonacci(n - 2, memo)\n",
    "    return memo[n]\n",
    "fibonacci(10)\n"
   ]
  },
  {
   "cell_type": "code",
   "execution_count": 18,
   "id": "1a2e8fdb-7629-4e55-b198-df9fcacfa249",
   "metadata": {},
   "outputs": [
    {
     "data": {
      "text/plain": [
       "55"
      ]
     },
     "execution_count": 18,
     "metadata": {},
     "output_type": "execute_result"
    }
   ],
   "source": [
    "#Fibonacci with Tbulation Bottom-Up\n",
    "def fibonacci(n):\n",
    "    \"\"\"\n",
    "    Computes the nth Fibonacci number using dynamic programming to optimize the solution.\n",
    "    This function uses a bottom-up dynamic programming approach to calculate the nth\n",
    "    Fibonacci\n",
    "    number by iteratively building up an array of Fibonacci numbers up to n, thus\n",
    "    eliminating\n",
    "    redundant calculations and optimizing performance.\n",
    "    Parameters:\n",
    "    n(int): The index in the Fibonacci sequence for which the value is to be computed.\n",
    "    Must be a non-negative integer.\n",
    "    Returns:\n",
    "    int: The nth Fibonacci number.\n",
    "    Example:\n",
    "    >>> fibonacci(5)\n",
    "    5\n",
    "    >>> fibonacci(10)\n",
    "    55\n",
    "    Time Complexity:\n",
    "    - The time complexity is O(n), as the function iterates through the range 2 to n,\n",
    "    calculating\n",
    "    each Fibonacci number once.\n",
    "    Space Complexity:\n",
    "    - The space complexity is O(n), due to the array used to store the Fibonacci numbers\n",
    "    up to n.\n",
    "    \"\"\"\n",
    "    if n <= 1:\n",
    "        return n\n",
    "    dp = [0] * (n + 1)\n",
    "    dp[1] = 1\n",
    "    for i in range(2, n + 1):\n",
    "        dp[i] = dp[i - 1] + dp[i - 2]\n",
    "    return dp[n]\n",
    "fibonacci(10)"
   ]
  },
  {
   "cell_type": "code",
   "execution_count": 2,
   "id": "3b4e6e6b-6002-41d6-837b-5a4e3f068723",
   "metadata": {},
   "outputs": [
    {
     "data": {
      "text/plain": [
       "120"
      ]
     },
     "execution_count": 2,
     "metadata": {},
     "output_type": "execute_result"
    }
   ],
   "source": [
    "#factorial of a number\n",
    "def factorial(n):\n",
    "    if n==0:#base case\n",
    "        return 1\n",
    "    else:#Recursive case\n",
    "        return n*factorial(n-1)\n",
    "factorial(5)"
   ]
  },
  {
   "cell_type": "code",
   "execution_count": 13,
   "id": "cecef1cc-57c7-4d57-b0a2-4512a5567389",
   "metadata": {},
   "outputs": [
    {
     "name": "stdout",
     "output_type": "stream",
     "text": [
      "The minimum num of coins needed to make 11 is 3\n"
     ]
    }
   ],
   "source": [
    "#8.2.2 \n",
    "#Coin change problem\n",
    "def min_coins(coins, amount):\n",
    "    \"\"\"\n",
    "    Finds the minimum number of coins needed to make up a given amount using dynamic\n",
    "    programming.\n",
    "    This function solves the coin change problem by determining the fewest number of\n",
    "    coins from a given set of coin denominations that sum up to a target amount. The\n",
    "    solution uses dynamic programming(tabulation) to iteratively build up the minimum\n",
    "    number of coins required for each amount.\n",
    "    Parameters:\n",
    "    coins (list of int): A list of coin denominations available for making change. Each\n",
    "    coin denomination is a positive integer.\n",
    "    amount (int): The target amount for which we need to find the minimum number of coins\n",
    "    . It must be a non-negative integer.\n",
    "    Returns:\n",
    "    int: The minimum number of coins required to make the given amount.\n",
    "    If it is not possible to make the amount with the given coins, returns -1.\n",
    "    Example:\n",
    "    >>> min_coins([1, 2, 5], 11)\n",
    "    3\n",
    "    >>> min_coins([2], 3)\n",
    "    -1\n",
    "    \"\"\"\n",
    "    dp = [float('inf')] * (amount + 1)\n",
    "    dp[0] = 0\n",
    "    \n",
    "    for coin in coins:\n",
    "        for i in range(coin, amount + 1):\n",
    "            dp[i] = min(dp[i], dp[i - coin] + 1)\n",
    "            \n",
    "    return dp[amount] if dp[amount] != float('inf') else -1\n",
    "\n",
    "coins = [1,2,5]\n",
    "amount = 11\n",
    "result = min_coins(coins, amount)\n",
    "\n",
    "print(f\"The minimum num of coins needed to make 11 is {result}\")"
   ]
  },
  {
   "cell_type": "code",
   "execution_count": 16,
   "id": "c26ea184-960c-4a0c-8f3a-d878254294dd",
   "metadata": {},
   "outputs": [
    {
     "name": "stdout",
     "output_type": "stream",
     "text": [
      "length of the LCS between abcde and ace is '3'\n"
     ]
    }
   ],
   "source": [
    "#Task2\n",
    "#Longest Common Subsequence (LCS)\n",
    "\n",
    "def longest_common_subsequence(s1,s2):\n",
    "    dp = [[0]*(len(s2)+1) for _ in range(len(s1)+1)]\n",
    "\n",
    "    for i in range(1, len(s1) + 1):\n",
    "        for j in range(1, len(s2) + 1):\n",
    "            if s1[i - 1] == s2[j - 1]:\n",
    "                dp[i][j] = dp[i - 1][j - 1] + 1\n",
    "            else:  #maximum value\n",
    "                dp[i][j] = max(dp[i - 1][j], dp[i][j - 1])\n",
    "    return dp[len(s1)][len(s2)]\n",
    "\n",
    "lcsLen = longest_common_subsequence('abcde', 'ace')\n",
    "print(f\"length of the LCS between abcde and ace is '{lcsLen}'\")\n"
   ]
  },
  {
   "cell_type": "code",
   "execution_count": 17,
   "id": "5869fe5b-b4b0-4fa5-a63f-c27c4d4464e2",
   "metadata": {},
   "outputs": [
    {
     "name": "stdout",
     "output_type": "stream",
     "text": [
      "The maximum value achievable with a capacity of 7 is 9\n"
     ]
    }
   ],
   "source": [
    "#Task3\n",
    "def knapsack(weights, values, capacity):\n",
    "    n = len(weights)\n",
    "    #DP table with dimensions (n+1) x (capacity+1)\n",
    "    dp = [[0] * (capacity + 1) for _ in range(n + 1)]\n",
    "\n",
    "    #fill the table\n",
    "    for i in range(1, n + 1):\n",
    "        for w in range(capacity + 1):\n",
    "            if weights[i - 1] <= w:\n",
    "                dp[i][w] = max(dp[i - 1][w], dp[i - 1][w - weights[i - 1]] + values[i - 1])\n",
    "            else:\n",
    "                dp[i][w] = dp[i - 1][w]\n",
    "\n",
    "    #maximum value\n",
    "    return dp[n][capacity]\n",
    "\n",
    "weights = [1, 3, 4, 5]\n",
    "values = [1, 4, 5, 7]\n",
    "capacity = 7\n",
    "result = knapsack(weights, values, capacity)\n",
    "\n",
    "print(f\"The maximum value achievable with a capacity of {capacity} is {result}\")\n"
   ]
  },
  {
   "cell_type": "code",
   "execution_count": null,
   "id": "bf3f56eb-3b49-4c31-9b1a-3d0969a6e161",
   "metadata": {},
   "outputs": [],
   "source": []
  }
 ],
 "metadata": {
  "kernelspec": {
   "display_name": "Python 3 (ipykernel)",
   "language": "python",
   "name": "python3"
  },
  "language_info": {
   "codemirror_mode": {
    "name": "ipython",
    "version": 3
   },
   "file_extension": ".py",
   "mimetype": "text/x-python",
   "name": "python",
   "nbconvert_exporter": "python",
   "pygments_lexer": "ipython3",
   "version": "3.11.7"
  }
 },
 "nbformat": 4,
 "nbformat_minor": 5
}
